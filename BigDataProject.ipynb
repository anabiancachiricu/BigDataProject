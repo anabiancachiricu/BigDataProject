{
  "nbformat": 4,
  "nbformat_minor": 0,
  "metadata": {
    "colab": {
      "provenance": [],
      "authorship_tag": "ABX9TyMM+c1R4zStsR1/XRxy9n6c",
      "include_colab_link": true
    },
    "kernelspec": {
      "name": "python3",
      "display_name": "Python 3"
    },
    "language_info": {
      "name": "python"
    }
  },
  "cells": [
    {
      "cell_type": "markdown",
      "metadata": {
        "id": "view-in-github",
        "colab_type": "text"
      },
      "source": [
        "<a href=\"https://colab.research.google.com/github/anabiancachiricu/BigDataProject/blob/main/BigDataProject.ipynb\" target=\"_parent\"><img src=\"https://colab.research.google.com/assets/colab-badge.svg\" alt=\"Open In Colab\"/></a>"
      ]
    },
    {
      "cell_type": "markdown",
      "source": [
        "Proiect Big data - Chiricu Ana Bianca, grupa 405"
      ],
      "metadata": {
        "id": "eiXKB1la7Lyp"
      }
    },
    {
      "cell_type": "markdown",
      "source": [
        "1. Introducere\n",
        "\n",
        "Am ales setul de date Netflix Movies and TV Shows care reprezinta o lista cu toate filmele si serialele disponibile pe platforma de streaming Netflix la mmomentul crearii setului de date, impreuna cu detalii despre fiecare, cum ar fi durata, anul lansarii, distributia sau regizorii.\n",
        "\n"
      ],
      "metadata": {
        "id": "3nuN0qxb839I"
      }
    },
    {
      "cell_type": "markdown",
      "source": [
        "Link data set: https://www.kaggle.com/datasets/shivamb/netflix-shows"
      ],
      "metadata": {
        "id": "9mZFA1sz7Z-l"
      }
    },
    {
      "cell_type": "markdown",
      "source": [
        "2."
      ],
      "metadata": {
        "id": "jHMhK4xKAp5I"
      }
    },
    {
      "cell_type": "code",
      "source": [
        "!pip install PySpark"
      ],
      "metadata": {
        "colab": {
          "base_uri": "https://localhost:8080/"
        },
        "id": "53xtZ0r-7ZTv",
        "outputId": "e00bbe65-6120-4b13-fe18-f18aaa12fd0a"
      },
      "execution_count": 1,
      "outputs": [
        {
          "output_type": "stream",
          "name": "stdout",
          "text": [
            "Looking in indexes: https://pypi.org/simple, https://us-python.pkg.dev/colab-wheels/public/simple/\n",
            "Collecting PySpark\n",
            "  Downloading pyspark-3.4.0.tar.gz (310.8 MB)\n",
            "\u001b[2K     \u001b[90m━━━━━━━━━━━━━━━━━━━━━━━━━━━━━━━━━━━━━━━\u001b[0m \u001b[32m310.8/310.8 MB\u001b[0m \u001b[31m4.7 MB/s\u001b[0m eta \u001b[36m0:00:00\u001b[0m\n",
            "\u001b[?25h  Preparing metadata (setup.py) ... \u001b[?25l\u001b[?25hdone\n",
            "Requirement already satisfied: py4j==0.10.9.7 in /usr/local/lib/python3.10/dist-packages (from PySpark) (0.10.9.7)\n",
            "Building wheels for collected packages: PySpark\n",
            "  Building wheel for PySpark (setup.py) ... \u001b[?25l\u001b[?25hdone\n",
            "  Created wheel for PySpark: filename=pyspark-3.4.0-py2.py3-none-any.whl size=311317130 sha256=0b94200bd67ab4483b9d7aa42c4ad2e46529b66c14bfd4e623691b1b663a451f\n",
            "  Stored in directory: /root/.cache/pip/wheels/7b/1b/4b/3363a1d04368e7ff0d408e57ff57966fcdf00583774e761327\n",
            "Successfully built PySpark\n",
            "Installing collected packages: PySpark\n",
            "Successfully installed PySpark-3.4.0\n"
          ]
        }
      ]
    },
    {
      "cell_type": "code",
      "source": [
        "import pyspark\n",
        "from pyspark.sql import SparkSession\n",
        "from pyspark.sql import SQLContext\n",
        "import seaborn as sns\n",
        "import matplotlib.pyplot as plt\n",
        "spark = SparkSession.builder.getOrCreate()"
      ],
      "metadata": {
        "id": "bsHOIWxG7hLL"
      },
      "execution_count": 2,
      "outputs": []
    },
    {
      "cell_type": "code",
      "source": [
        "dataframe = spark.read.csv('sample_data/netflix_titles.csv', inferSchema=True, header=True)\n",
        "dataframe.show(10)"
      ],
      "metadata": {
        "colab": {
          "base_uri": "https://localhost:8080/"
        },
        "id": "aDdk1qgmCdyq",
        "outputId": "52d4f0d0-3258-415f-a854-fc05f5846337"
      },
      "execution_count": 3,
      "outputs": [
        {
          "output_type": "stream",
          "name": "stdout",
          "text": [
            "+-------+-------+--------------------+--------------------+--------------------+--------------------+------------------+------------+------+---------+--------------------+--------------------+\n",
            "|show_id|   type|               title|            director|                cast|             country|        date_added|release_year|rating| duration|           listed_in|         description|\n",
            "+-------+-------+--------------------+--------------------+--------------------+--------------------+------------------+------------+------+---------+--------------------+--------------------+\n",
            "|     s1|  Movie|Dick Johnson Is Dead|     Kirsten Johnson|                null|       United States|September 25, 2021|        2020| PG-13|   90 min|       Documentaries|As her father nea...|\n",
            "|     s2|TV Show|       Blood & Water|                null|Ama Qamata, Khosi...|        South Africa|September 24, 2021|        2021| TV-MA|2 Seasons|International TV ...|After crossing pa...|\n",
            "|     s3|TV Show|           Ganglands|     Julien Leclercq|Sami Bouajila, Tr...|                null|September 24, 2021|        2021| TV-MA| 1 Season|Crime TV Shows, I...|To protect his fa...|\n",
            "|     s4|TV Show|Jailbirds New Orl...|                null|                null|                null|September 24, 2021|        2021| TV-MA| 1 Season|Docuseries, Reali...|Feuds, flirtation...|\n",
            "|     s5|TV Show|        Kota Factory|                null|Mayur More, Jiten...|               India|September 24, 2021|        2021| TV-MA|2 Seasons|International TV ...|In a city of coac...|\n",
            "|     s6|TV Show|       Midnight Mass|       Mike Flanagan|Kate Siegel, Zach...|                null|September 24, 2021|        2021| TV-MA| 1 Season|TV Dramas, TV Hor...|The arrival of a ...|\n",
            "|     s7|  Movie|My Little Pony: A...|Robert Cullen, Jo...|Vanessa Hudgens, ...|                null|September 24, 2021|        2021|    PG|   91 min|Children & Family...|Equestria's divid...|\n",
            "|     s8|  Movie|             Sankofa|        Haile Gerima|Kofi Ghanaba, Oya...|United States, Gh...|September 24, 2021|        1993| TV-MA|  125 min|Dramas, Independe...|On a photo shoot ...|\n",
            "|     s9|TV Show|The Great British...|     Andy Devonshire|Mel Giedroyc, Sue...|      United Kingdom|September 24, 2021|        2021| TV-14|9 Seasons|British TV Shows,...|A talented batch ...|\n",
            "|    s10|  Movie|        The Starling|      Theodore Melfi|Melissa McCarthy,...|       United States|September 24, 2021|        2021| PG-13|  104 min|    Comedies, Dramas|A woman adjusting...|\n",
            "+-------+-------+--------------------+--------------------+--------------------+--------------------+------------------+------------+------+---------+--------------------+--------------------+\n",
            "only showing top 10 rows\n",
            "\n"
          ]
        }
      ]
    },
    {
      "cell_type": "code",
      "source": [
        "dataframe.registerTempTable('NetflixTable')"
      ],
      "metadata": {
        "colab": {
          "base_uri": "https://localhost:8080/"
        },
        "id": "YhPmqVgAGcgi",
        "outputId": "632d710d-07b1-43d0-a399-2ddb05bb682f"
      },
      "execution_count": 4,
      "outputs": [
        {
          "output_type": "stream",
          "name": "stderr",
          "text": [
            "/usr/local/lib/python3.10/dist-packages/pyspark/sql/dataframe.py:330: FutureWarning: Deprecated in 2.0, use createOrReplaceTempView instead.\n",
            "  warnings.warn(\"Deprecated in 2.0, use createOrReplaceTempView instead.\", FutureWarning)\n"
          ]
        }
      ]
    },
    {
      "cell_type": "markdown",
      "source": [
        "Verificarea si eliminarea inregistrarilor care au alt tip in afara de tv show si movie."
      ],
      "metadata": {
        "id": "tkKu8jOvJPoq"
      }
    },
    {
      "cell_type": "code",
      "source": [
        "df2= spark.sql(\"Select distinct (type) from NetflixTable\" )\n",
        "df2.show()"
      ],
      "metadata": {
        "colab": {
          "base_uri": "https://localhost:8080/"
        },
        "id": "QKZIjHn_GKo3",
        "outputId": "44caa6f6-6591-444d-f33a-06bd0eb509f0"
      },
      "execution_count": 9,
      "outputs": [
        {
          "output_type": "stream",
          "name": "stdout",
          "text": [
            "+-------------+\n",
            "|         type|\n",
            "+-------------+\n",
            "|         null|\n",
            "|      TV Show|\n",
            "|        Movie|\n",
            "|William Wyler|\n",
            "+-------------+\n",
            "\n"
          ]
        }
      ]
    },
    {
      "cell_type": "code",
      "source": [
        "df3= spark.sql(\"Select * from NetflixTable where type in ('TV Show', 'Movie') \")"
      ],
      "metadata": {
        "id": "JHQbdARNGyWk"
      },
      "execution_count": 13,
      "outputs": []
    },
    {
      "cell_type": "code",
      "source": [
        "df3.show(10)"
      ],
      "metadata": {
        "colab": {
          "base_uri": "https://localhost:8080/"
        },
        "id": "qpEJ8lCUHBPg",
        "outputId": "a75e20cd-451d-41b2-b114-7daf52f963e5"
      },
      "execution_count": 19,
      "outputs": [
        {
          "output_type": "stream",
          "name": "stdout",
          "text": [
            "+-------+-------+--------------------+--------------------+--------------------+--------------------+------------------+------------+------+---------+--------------------+--------------------+\n",
            "|show_id|   type|               title|            director|                cast|             country|        date_added|release_year|rating| duration|           listed_in|         description|\n",
            "+-------+-------+--------------------+--------------------+--------------------+--------------------+------------------+------------+------+---------+--------------------+--------------------+\n",
            "|     s1|  Movie|Dick Johnson Is Dead|     Kirsten Johnson|                null|       United States|September 25, 2021|        2020| PG-13|   90 min|       Documentaries|As her father nea...|\n",
            "|     s2|TV Show|       Blood & Water|                null|Ama Qamata, Khosi...|        South Africa|September 24, 2021|        2021| TV-MA|2 Seasons|International TV ...|After crossing pa...|\n",
            "|     s3|TV Show|           Ganglands|     Julien Leclercq|Sami Bouajila, Tr...|                null|September 24, 2021|        2021| TV-MA| 1 Season|Crime TV Shows, I...|To protect his fa...|\n",
            "|     s4|TV Show|Jailbirds New Orl...|                null|                null|                null|September 24, 2021|        2021| TV-MA| 1 Season|Docuseries, Reali...|Feuds, flirtation...|\n",
            "|     s5|TV Show|        Kota Factory|                null|Mayur More, Jiten...|               India|September 24, 2021|        2021| TV-MA|2 Seasons|International TV ...|In a city of coac...|\n",
            "|     s6|TV Show|       Midnight Mass|       Mike Flanagan|Kate Siegel, Zach...|                null|September 24, 2021|        2021| TV-MA| 1 Season|TV Dramas, TV Hor...|The arrival of a ...|\n",
            "|     s7|  Movie|My Little Pony: A...|Robert Cullen, Jo...|Vanessa Hudgens, ...|                null|September 24, 2021|        2021|    PG|   91 min|Children & Family...|Equestria's divid...|\n",
            "|     s8|  Movie|             Sankofa|        Haile Gerima|Kofi Ghanaba, Oya...|United States, Gh...|September 24, 2021|        1993| TV-MA|  125 min|Dramas, Independe...|On a photo shoot ...|\n",
            "|     s9|TV Show|The Great British...|     Andy Devonshire|Mel Giedroyc, Sue...|      United Kingdom|September 24, 2021|        2021| TV-14|9 Seasons|British TV Shows,...|A talented batch ...|\n",
            "|    s10|  Movie|        The Starling|      Theodore Melfi|Melissa McCarthy,...|       United States|September 24, 2021|        2021| PG-13|  104 min|    Comedies, Dramas|A woman adjusting...|\n",
            "+-------+-------+--------------------+--------------------+--------------------+--------------------+------------------+------------+------+---------+--------------------+--------------------+\n",
            "only showing top 10 rows\n",
            "\n"
          ]
        }
      ]
    },
    {
      "cell_type": "markdown",
      "source": [
        "Eliminarea inregistrarilor care nu au an de lansare."
      ],
      "metadata": {
        "id": "GyalUQG_JeVB"
      }
    },
    {
      "cell_type": "code",
      "source": [
        "df4= spark.sql(\"Select * from NetflixTable where type in ('TV Show', 'Movie') and release_year like ('____') order by release_year \")\n",
        "df4.show()"
      ],
      "metadata": {
        "colab": {
          "base_uri": "https://localhost:8080/"
        },
        "id": "I1LjjHeCHM5b",
        "outputId": "c9e4dcd4-0587-4e97-a292-54caabbb9cf8"
      },
      "execution_count": 18,
      "outputs": [
        {
          "output_type": "stream",
          "name": "stdout",
          "text": [
            "+-------+-------+--------------------+--------------------+--------------------+--------------------+-----------------+------------+------+--------+--------------------+--------------------+\n",
            "|show_id|   type|               title|            director|                cast|             country|       date_added|release_year|rating|duration|           listed_in|         description|\n",
            "+-------+-------+--------------------+--------------------+--------------------+--------------------+-----------------+------------+------+--------+--------------------+--------------------+\n",
            "|  s4251|TV Show|Pioneers: First W...|                null|                null|                null|December 30, 2018|        1925| TV-14|1 Season|            TV Shows|This collection r...|\n",
            "|  s7791|  Movie|      Prelude to War|         Frank Capra|                null|       United States|   March 31, 2017|        1942| TV-14|  52 min|Classic Movies, D...|Frank Capra's doc...|\n",
            "|  s8206|  Movie|The Battle of Midway|           John Ford|Henry Fonda, Jane...|       United States|   March 31, 2017|        1942| TV-14|  18 min|Classic Movies, D...|Director John For...|\n",
            "|  s8661|  Movie|Undercover: How t...|           John Ford|                null|       United States|   March 31, 2017|        1943| TV-PG|  61 min|Classic Movies, D...|This World War II...|\n",
            "|  s8740|  Movie|Why We Fight: The...|Frank Capra, Anat...|                null|       United States|   March 31, 2017|        1943| TV-PG|  82 min|       Documentaries|This installment ...|\n",
            "|  s8764|  Movie|WWII: Report from...|         John Huston|                null|       United States|   March 31, 2017|        1943| TV-PG|  45 min|       Documentaries|Filmmaker John Hu...|\n",
            "|  s8437|  Movie|   The Negro Soldier|      Stuart Heisler|                null|       United States|   March 31, 2017|        1944| TV-14|  40 min|Classic Movies, D...|This documentary ...|\n",
            "|  s8641|  Movie|    Tunisian Victory|Frank Capra, John...|    Burgess Meredith|United States, Un...|   March 31, 2017|        1944| TV-14|  76 min|Classic Movies, D...|British and Ameri...|\n",
            "|  s1332|TV Show|Five Came Back: T...|                null|                null|       United States| February 9, 2021|        1945| TV-MA|1 Season|            TV Shows|\"This collection ...|\n",
            "|  s7220|  Movie|Know Your Enemy -...|Frank Capra, Jori...|Walter Huston, Da...|       United States|   March 31, 2017|        1945| TV-14|  63 min|Classic Movies, D...|Though culturally...|\n",
            "|  s7576|  Movie|Nazi Concentratio...|      George Stevens|                null|       United States|   March 31, 2017|        1945| TV-MA|  59 min|Classic Movies, D...|Shocking footage ...|\n",
            "|  s7931|  Movie|          San Pietro|         John Huston|                null|       United States|   March 31, 2017|        1945| TV-14|  32 min|Classic Movies, D...|After the Allies ...|\n",
            "|  s7295|  Movie|  Let There Be Light|         John Huston|       Walter Huston|       United States|   March 31, 2017|        1946| TV-PG|  58 min|Classic Movies, D...|Some returning co...|\n",
            "|  s7744|TV Show|Pioneers of Afric...|Oscar Micheaux, S...|                null|       United States| February 1, 2017|        1946| TV-14|1 Season|            TV Shows|This newly preser...|\n",
            "|  s8588|  Movie|         Thunderbolt|William Wyler, Jo...|James Stewart, Ll...|       United States|   March 31, 2017|        1947| TV-PG|  42 min|Classic Movies, D...|A P-47 Thunderbol...|\n",
            "|  s1700|  Movie|     White Christmas|      Michael Curtiz|Bing Crosby, Dann...|       United States|November 15, 2020|        1954|  TV-G| 120 min|Children & Family...|Two war buddies f...|\n",
            "|  s2376|  Movie|     The Blazing Sun|     Youssef Chahine|Omar Sharif, Fate...|               Egypt|    June 18, 2020|        1954| TV-14| 116 min|Classic Movies, D...|Competition betwe...|\n",
            "|  s7840|  Movie|Rebel Without a C...|        Nicholas Ray|James Dean, Natal...|       United States| November 1, 2019|        1955| PG-13| 111 min|Classic Movies, D...|When Jim Stark ar...|\n",
            "|  s7955|  Movie| Scandal in Sorrento|           Dino Risi|Vittorio De Sica,...|       Italy, France|November 13, 2020|        1955| TV-PG|  93 min|Classic Movies, C...|When a marshal mo...|\n",
            "|  s8507|  Movie|   The Sign of Venus|           Dino Risi|Sophia Loren, Fra...|               Italy|November 13, 2020|        1955| TV-14|  97 min|Classic Movies, C...|While suitors swo...|\n",
            "+-------+-------+--------------------+--------------------+--------------------+--------------------+-----------------+------------+------+--------+--------------------+--------------------+\n",
            "only showing top 20 rows\n",
            "\n"
          ]
        }
      ]
    },
    {
      "cell_type": "code",
      "source": [
        "df4.registerTempTable('NetflixTable')"
      ],
      "metadata": {
        "colab": {
          "base_uri": "https://localhost:8080/"
        },
        "id": "DOXCPhYIK4vl",
        "outputId": "4bfa7e62-fdac-4dd0-c3e6-50d6f798ecd5"
      },
      "execution_count": 24,
      "outputs": [
        {
          "output_type": "stream",
          "name": "stderr",
          "text": [
            "/usr/local/lib/python3.10/dist-packages/pyspark/sql/dataframe.py:330: FutureWarning: Deprecated in 2.0, use createOrReplaceTempView instead.\n",
            "  warnings.warn(\"Deprecated in 2.0, use createOrReplaceTempView instead.\", FutureWarning)\n"
          ]
        }
      ]
    },
    {
      "cell_type": "code",
      "source": [
        "df5= spark.sql(\"Select * from NetflixTable where director is not null and cast is not null and country is not null and date_added is not null and release_year is not null and rating is not null and duration is not null and listed_in is not null and description is not null \")\n",
        "df5.show()"
      ],
      "metadata": {
        "colab": {
          "base_uri": "https://localhost:8080/"
        },
        "id": "xx2Gb2gsJshQ",
        "outputId": "0469834f-f2fc-4218-8bfb-535ae67d31d6"
      },
      "execution_count": 26,
      "outputs": [
        {
          "output_type": "stream",
          "name": "stdout",
          "text": [
            "+-------+-----+--------------------+--------------------+--------------------+--------------------+-----------------+------------+------+--------+--------------------+--------------------+\n",
            "|show_id| type|               title|            director|                cast|             country|       date_added|release_year|rating|duration|           listed_in|         description|\n",
            "+-------+-----+--------------------+--------------------+--------------------+--------------------+-----------------+------------+------+--------+--------------------+--------------------+\n",
            "|  s8206|Movie|The Battle of Midway|           John Ford|Henry Fonda, Jane...|       United States|   March 31, 2017|        1942| TV-14|  18 min|Classic Movies, D...|Director John For...|\n",
            "|  s8641|Movie|    Tunisian Victory|Frank Capra, John...|    Burgess Meredith|United States, Un...|   March 31, 2017|        1944| TV-14|  76 min|Classic Movies, D...|British and Ameri...|\n",
            "|  s7220|Movie|Know Your Enemy -...|Frank Capra, Jori...|Walter Huston, Da...|       United States|   March 31, 2017|        1945| TV-14|  63 min|Classic Movies, D...|Though culturally...|\n",
            "|  s7295|Movie|  Let There Be Light|         John Huston|       Walter Huston|       United States|   March 31, 2017|        1946| TV-PG|  58 min|Classic Movies, D...|Some returning co...|\n",
            "|  s8588|Movie|         Thunderbolt|William Wyler, Jo...|James Stewart, Ll...|       United States|   March 31, 2017|        1947| TV-PG|  42 min|Classic Movies, D...|A P-47 Thunderbol...|\n",
            "|  s1700|Movie|     White Christmas|      Michael Curtiz|Bing Crosby, Dann...|       United States|November 15, 2020|        1954|  TV-G| 120 min|Children & Family...|Two war buddies f...|\n",
            "|  s2376|Movie|     The Blazing Sun|     Youssef Chahine|Omar Sharif, Fate...|               Egypt|    June 18, 2020|        1954| TV-14| 116 min|Classic Movies, D...|Competition betwe...|\n",
            "|  s8507|Movie|   The Sign of Venus|           Dino Risi|Sophia Loren, Fra...|               Italy|November 13, 2020|        1955| TV-14|  97 min|Classic Movies, C...|While suitors swo...|\n",
            "|  s7840|Movie|Rebel Without a C...|        Nicholas Ray|James Dean, Natal...|       United States| November 1, 2019|        1955| PG-13| 111 min|Classic Movies, D...|When Jim Stark ar...|\n",
            "|  s7955|Movie| Scandal in Sorrento|           Dino Risi|Vittorio De Sica,...|       Italy, France|November 13, 2020|        1955| TV-PG|  93 min|Classic Movies, C...|When a marshal mo...|\n",
            "|  s6785|Movie|    Forbidden Planet|      Fred M. Wilcox|Leslie Nielsen, W...|       United States| November 1, 2019|        1956|     G|  98 min|Action & Adventur...|A pulp-fiction sc...|\n",
            "|  s2370|Movie|         Dark Waters|     Youssef Chahine|Faten Hamama, Oma...|               Egypt|    June 18, 2020|        1956| TV-14| 104 min|Classic Movies, D...|A fisherman retur...|\n",
            "|  s6854|Movie|                Gigi|Vincente Minnelli...|Leslie Caron, Mau...|       United States| November 1, 2019|        1958|     G| 115 min|Classic Movies, C...|Gigi's an avant-g...|\n",
            "|  s2369|Movie|       Cairo Station|     Youssef Chahine|Farid Shawqy, Hin...|               Egypt|    June 18, 2020|        1958| TV-14|  73 min|Classic Movies, D...|A Cairo newsstand...|\n",
            "|  s6432|Movie|Cat on a Hot Tin ...|      Richard Brooks|Elizabeth Taylor,...|       United States| November 1, 2019|        1958|    NR| 108 min|Classic Movies, D...|Members of a Sout...|\n",
            "|   s543|Movie|               Ujala|       Naresh Saigal|Mala Sinha, Shamm...|               India|     July 6, 2021|        1959| TV-14| 143 min|Dramas, Internati...|An honest man dre...|\n",
            "|  s5221|Movie|           Singapore|      Shakti Samanta|Shammi Kapoor, Pa...|     India, Malaysia| October 15, 2017|        1960| TV-PG| 158 min|Comedies, Dramas,...|When his employee...|\n",
            "|  s6396|Movie|       Butterfield 8|         Daniel Mann|Elizabeth Taylor,...|       United States| November 1, 2019|        1960| TV-14| 108 min|Classic Movies, D...|Elizabeth Taylor ...|\n",
            "|  s7638|Movie|      Ocean's Eleven|     Lewis Milestone|Frank Sinatra, De...|       United States| November 1, 2019|        1960| TV-PG| 127 min|Action & Adventur...|Frank Sinatra lea...|\n",
            "|   s178|Movie|The Guns of Navarone|     J. Lee Thompson|Gregory Peck, Dav...|United Kingdom, U...|September 1, 2021|        1961| TV-14| 156 min|Action & Adventur...|During World War ...|\n",
            "+-------+-----+--------------------+--------------------+--------------------+--------------------+-----------------+------------+------+--------+--------------------+--------------------+\n",
            "only showing top 20 rows\n",
            "\n"
          ]
        }
      ]
    }
  ]
}