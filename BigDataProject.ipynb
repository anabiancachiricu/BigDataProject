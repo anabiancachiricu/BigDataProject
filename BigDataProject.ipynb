{
  "nbformat": 4,
  "nbformat_minor": 0,
  "metadata": {
    "colab": {
      "provenance": [],
      "mount_file_id": "19V_H-gHn2UXcPmaJhmsOxLVbUNFhVgpW",
      "authorship_tag": "ABX9TyPfnq7yVzpSzqPeeuqCJu3u",
      "include_colab_link": true
    },
    "kernelspec": {
      "name": "python3",
      "display_name": "Python 3"
    },
    "language_info": {
      "name": "python"
    }
  },
  "cells": [
    {
      "cell_type": "markdown",
      "metadata": {
        "id": "view-in-github",
        "colab_type": "text"
      },
      "source": [
        "<a href=\"https://colab.research.google.com/github/anabiancachiricu/BigDataProject/blob/main/BigDataProject.ipynb\" target=\"_parent\"><img src=\"https://colab.research.google.com/assets/colab-badge.svg\" alt=\"Open In Colab\"/></a>"
      ]
    },
    {
      "cell_type": "markdown",
      "source": [
        "Proiect Big data - Chiricu Ana Bianca, grupa 405"
      ],
      "metadata": {
        "id": "eiXKB1la7Lyp"
      }
    },
    {
      "cell_type": "markdown",
      "source": [
        "1. Introducere\n",
        "\n",
        "Am ales setul de date Netflix Movies and TV Shows care reprezinta o lista cu toate filmele si serialele disponibile pe platforma de streaming Netflix la mmomentul crearii setului de date, impreuna cu detalii despre fiecare, cum ar fi durata, anul lansarii, distributia sau regizorii.\n",
        "\n"
      ],
      "metadata": {
        "id": "3nuN0qxb839I"
      }
    },
    {
      "cell_type": "markdown",
      "source": [
        "Am ales sa folosesc regresia logistica pentru a determina categoria de varsta la care se incadreaza show ul.\n"
      ],
      "metadata": {
        "id": "fZS_g81DUqIj"
      }
    },
    {
      "cell_type": "markdown",
      "source": [
        "Link data set: https://www.kaggle.com/datasets/shivamb/netflix-shows"
      ],
      "metadata": {
        "id": "9mZFA1sz7Z-l"
      }
    },
    {
      "cell_type": "markdown",
      "source": [
        "2."
      ],
      "metadata": {
        "id": "jHMhK4xKAp5I"
      }
    },
    {
      "cell_type": "code",
      "source": [
        "!pip install PySpark"
      ],
      "metadata": {
        "colab": {
          "base_uri": "https://localhost:8080/"
        },
        "id": "53xtZ0r-7ZTv",
        "outputId": "ffb00b21-09bc-4379-ca29-597da5621750"
      },
      "execution_count": 1,
      "outputs": [
        {
          "output_type": "stream",
          "name": "stdout",
          "text": [
            "Looking in indexes: https://pypi.org/simple, https://us-python.pkg.dev/colab-wheels/public/simple/\n",
            "Requirement already satisfied: PySpark in /usr/local/lib/python3.10/dist-packages (3.4.0)\n",
            "Requirement already satisfied: py4j==0.10.9.7 in /usr/local/lib/python3.10/dist-packages (from PySpark) (0.10.9.7)\n"
          ]
        }
      ]
    },
    {
      "cell_type": "code",
      "source": [
        "import pyspark\n",
        "from pyspark.sql import SparkSession\n",
        "from pyspark.sql import SQLContext\n",
        "import seaborn as sns\n",
        "import matplotlib.pyplot as plt\n",
        "spark = SparkSession.builder.getOrCreate()"
      ],
      "metadata": {
        "id": "bsHOIWxG7hLL"
      },
      "execution_count": 2,
      "outputs": []
    },
    {
      "cell_type": "code",
      "source": [
        "dataframe = spark.read.csv('sample_data/netflix_titles.csv', inferSchema=True, header=True)\n",
        "dataframe.show(10)"
      ],
      "metadata": {
        "colab": {
          "base_uri": "https://localhost:8080/"
        },
        "id": "aDdk1qgmCdyq",
        "outputId": "0855f5e7-6fbe-4a38-b9eb-6496043ebec9"
      },
      "execution_count": 3,
      "outputs": [
        {
          "output_type": "stream",
          "name": "stdout",
          "text": [
            "+-------+-------+--------------------+--------------------+--------------------+--------------------+------------------+------------+------+---------+--------------------+--------------------+\n",
            "|show_id|   type|               title|            director|                cast|             country|        date_added|release_year|rating| duration|           listed_in|         description|\n",
            "+-------+-------+--------------------+--------------------+--------------------+--------------------+------------------+------------+------+---------+--------------------+--------------------+\n",
            "|     s1|  Movie|Dick Johnson Is Dead|     Kirsten Johnson|                null|       United States|September 25, 2021|        2020| PG-13|   90 min|       Documentaries|As her father nea...|\n",
            "|     s2|TV Show|       Blood & Water|                null|Ama Qamata, Khosi...|        South Africa|September 24, 2021|        2021| TV-MA|2 Seasons|International TV ...|After crossing pa...|\n",
            "|     s3|TV Show|           Ganglands|     Julien Leclercq|Sami Bouajila, Tr...|                null|September 24, 2021|        2021| TV-MA| 1 Season|Crime TV Shows, I...|To protect his fa...|\n",
            "|     s4|TV Show|Jailbirds New Orl...|                null|                null|                null|September 24, 2021|        2021| TV-MA| 1 Season|Docuseries, Reali...|Feuds, flirtation...|\n",
            "|     s5|TV Show|        Kota Factory|                null|Mayur More, Jiten...|               India|September 24, 2021|        2021| TV-MA|2 Seasons|International TV ...|In a city of coac...|\n",
            "|     s6|TV Show|       Midnight Mass|       Mike Flanagan|Kate Siegel, Zach...|                null|September 24, 2021|        2021| TV-MA| 1 Season|TV Dramas, TV Hor...|The arrival of a ...|\n",
            "|     s7|  Movie|My Little Pony: A...|Robert Cullen, Jo...|Vanessa Hudgens, ...|                null|September 24, 2021|        2021|    PG|   91 min|Children & Family...|Equestria's divid...|\n",
            "|     s8|  Movie|             Sankofa|        Haile Gerima|Kofi Ghanaba, Oya...|United States, Gh...|September 24, 2021|        1993| TV-MA|  125 min|Dramas, Independe...|On a photo shoot ...|\n",
            "|     s9|TV Show|The Great British...|     Andy Devonshire|Mel Giedroyc, Sue...|      United Kingdom|September 24, 2021|        2021| TV-14|9 Seasons|British TV Shows,...|A talented batch ...|\n",
            "|    s10|  Movie|        The Starling|      Theodore Melfi|Melissa McCarthy,...|       United States|September 24, 2021|        2021| PG-13|  104 min|    Comedies, Dramas|A woman adjusting...|\n",
            "+-------+-------+--------------------+--------------------+--------------------+--------------------+------------------+------------+------+---------+--------------------+--------------------+\n",
            "only showing top 10 rows\n",
            "\n"
          ]
        }
      ]
    },
    {
      "cell_type": "code",
      "source": [
        "dataframe.printSchema()"
      ],
      "metadata": {
        "colab": {
          "base_uri": "https://localhost:8080/"
        },
        "id": "iLDtzxi6RAH6",
        "outputId": "197d32ba-3004-400c-a3d2-4c902999cbce"
      },
      "execution_count": 4,
      "outputs": [
        {
          "output_type": "stream",
          "name": "stdout",
          "text": [
            "root\n",
            " |-- show_id: string (nullable = true)\n",
            " |-- type: string (nullable = true)\n",
            " |-- title: string (nullable = true)\n",
            " |-- director: string (nullable = true)\n",
            " |-- cast: string (nullable = true)\n",
            " |-- country: string (nullable = true)\n",
            " |-- date_added: string (nullable = true)\n",
            " |-- release_year: string (nullable = true)\n",
            " |-- rating: string (nullable = true)\n",
            " |-- duration: string (nullable = true)\n",
            " |-- listed_in: string (nullable = true)\n",
            " |-- description: string (nullable = true)\n",
            "\n"
          ]
        }
      ]
    },
    {
      "cell_type": "code",
      "source": [
        "dataframe.registerTempTable('NetflixTable')"
      ],
      "metadata": {
        "colab": {
          "base_uri": "https://localhost:8080/"
        },
        "id": "YhPmqVgAGcgi",
        "outputId": "1913cd19-80cc-488d-b792-48d4f6959ea6"
      },
      "execution_count": 5,
      "outputs": [
        {
          "output_type": "stream",
          "name": "stderr",
          "text": [
            "/usr/local/lib/python3.10/dist-packages/pyspark/sql/dataframe.py:330: FutureWarning: Deprecated in 2.0, use createOrReplaceTempView instead.\n",
            "  warnings.warn(\"Deprecated in 2.0, use createOrReplaceTempView instead.\", FutureWarning)\n"
          ]
        }
      ]
    },
    {
      "cell_type": "markdown",
      "source": [
        "Verificarea si eliminarea inregistrarilor care au alt tip in afara de tv show si movie."
      ],
      "metadata": {
        "id": "tkKu8jOvJPoq"
      }
    },
    {
      "cell_type": "code",
      "source": [
        "df2= spark.sql(\"Select distinct (type) from NetflixTable\" )\n",
        "df2.show()"
      ],
      "metadata": {
        "colab": {
          "base_uri": "https://localhost:8080/"
        },
        "id": "QKZIjHn_GKo3",
        "outputId": "36eb5a0f-b972-4a74-b8e4-698969105ad7"
      },
      "execution_count": 6,
      "outputs": [
        {
          "output_type": "stream",
          "name": "stdout",
          "text": [
            "+-------------+\n",
            "|         type|\n",
            "+-------------+\n",
            "|         null|\n",
            "|      TV Show|\n",
            "|        Movie|\n",
            "|William Wyler|\n",
            "+-------------+\n",
            "\n"
          ]
        }
      ]
    },
    {
      "cell_type": "code",
      "source": [
        "df3= spark.sql(\"Select * from NetflixTable where type in ('TV Show', 'Movie') \")"
      ],
      "metadata": {
        "id": "JHQbdARNGyWk"
      },
      "execution_count": 7,
      "outputs": []
    },
    {
      "cell_type": "code",
      "source": [
        "df3.show(10)"
      ],
      "metadata": {
        "colab": {
          "base_uri": "https://localhost:8080/"
        },
        "id": "qpEJ8lCUHBPg",
        "outputId": "9f24e71d-e7ee-4d9d-c591-fe4c48725138"
      },
      "execution_count": 8,
      "outputs": [
        {
          "output_type": "stream",
          "name": "stdout",
          "text": [
            "+-------+-------+--------------------+--------------------+--------------------+--------------------+------------------+------------+------+---------+--------------------+--------------------+\n",
            "|show_id|   type|               title|            director|                cast|             country|        date_added|release_year|rating| duration|           listed_in|         description|\n",
            "+-------+-------+--------------------+--------------------+--------------------+--------------------+------------------+------------+------+---------+--------------------+--------------------+\n",
            "|     s1|  Movie|Dick Johnson Is Dead|     Kirsten Johnson|                null|       United States|September 25, 2021|        2020| PG-13|   90 min|       Documentaries|As her father nea...|\n",
            "|     s2|TV Show|       Blood & Water|                null|Ama Qamata, Khosi...|        South Africa|September 24, 2021|        2021| TV-MA|2 Seasons|International TV ...|After crossing pa...|\n",
            "|     s3|TV Show|           Ganglands|     Julien Leclercq|Sami Bouajila, Tr...|                null|September 24, 2021|        2021| TV-MA| 1 Season|Crime TV Shows, I...|To protect his fa...|\n",
            "|     s4|TV Show|Jailbirds New Orl...|                null|                null|                null|September 24, 2021|        2021| TV-MA| 1 Season|Docuseries, Reali...|Feuds, flirtation...|\n",
            "|     s5|TV Show|        Kota Factory|                null|Mayur More, Jiten...|               India|September 24, 2021|        2021| TV-MA|2 Seasons|International TV ...|In a city of coac...|\n",
            "|     s6|TV Show|       Midnight Mass|       Mike Flanagan|Kate Siegel, Zach...|                null|September 24, 2021|        2021| TV-MA| 1 Season|TV Dramas, TV Hor...|The arrival of a ...|\n",
            "|     s7|  Movie|My Little Pony: A...|Robert Cullen, Jo...|Vanessa Hudgens, ...|                null|September 24, 2021|        2021|    PG|   91 min|Children & Family...|Equestria's divid...|\n",
            "|     s8|  Movie|             Sankofa|        Haile Gerima|Kofi Ghanaba, Oya...|United States, Gh...|September 24, 2021|        1993| TV-MA|  125 min|Dramas, Independe...|On a photo shoot ...|\n",
            "|     s9|TV Show|The Great British...|     Andy Devonshire|Mel Giedroyc, Sue...|      United Kingdom|September 24, 2021|        2021| TV-14|9 Seasons|British TV Shows,...|A talented batch ...|\n",
            "|    s10|  Movie|        The Starling|      Theodore Melfi|Melissa McCarthy,...|       United States|September 24, 2021|        2021| PG-13|  104 min|    Comedies, Dramas|A woman adjusting...|\n",
            "+-------+-------+--------------------+--------------------+--------------------+--------------------+------------------+------------+------+---------+--------------------+--------------------+\n",
            "only showing top 10 rows\n",
            "\n"
          ]
        }
      ]
    },
    {
      "cell_type": "code",
      "source": [
        "df3.registerTempTable('NetflixTable')"
      ],
      "metadata": {
        "id": "zzzURS0YhwJh"
      },
      "execution_count": 9,
      "outputs": []
    },
    {
      "cell_type": "markdown",
      "source": [
        "Eliminarea inregistrarilor care nu au an de lansare corespunzator."
      ],
      "metadata": {
        "id": "GyalUQG_JeVB"
      }
    },
    {
      "cell_type": "code",
      "source": [
        "df4=spark.sql(\"Select distinct(release_year) from NetflixTable\")\n",
        "df4.show()"
      ],
      "metadata": {
        "colab": {
          "base_uri": "https://localhost:8080/"
        },
        "id": "-Qld5ZYbh5WX",
        "outputId": "5bf346c4-7ad7-4650-9219-e0b7e585e7fa"
      },
      "execution_count": 10,
      "outputs": [
        {
          "output_type": "stream",
          "name": "stdout",
          "text": [
            "+-----------------+\n",
            "|     release_year|\n",
            "+-----------------+\n",
            "|     Ted Ferguson|\n",
            "|             1987|\n",
            "|             1956|\n",
            "|             2016|\n",
            "|             2020|\n",
            "|             2012|\n",
            "|             1958|\n",
            "|             1943|\n",
            "|             1972|\n",
            "| Marquell Manning|\n",
            "|             1988|\n",
            "|             2019|\n",
            "|             2017|\n",
            "|             1977|\n",
            "|             2014|\n",
            "|             1971|\n",
            "|             1984|\n",
            "|             2013|\n",
            "|             1982|\n",
            "|             2005|\n",
            "+-----------------+\n",
            "only showing top 20 rows\n",
            "\n"
          ]
        }
      ]
    },
    {
      "cell_type": "code",
      "source": [
        "df4= spark.sql(\"Select * from NetflixTable where release_year like ('____') order by release_year \")\n",
        "df4.show()"
      ],
      "metadata": {
        "colab": {
          "base_uri": "https://localhost:8080/"
        },
        "id": "I1LjjHeCHM5b",
        "outputId": "263945b6-02c5-4e6b-8ba6-6b261eebccc1"
      },
      "execution_count": 11,
      "outputs": [
        {
          "output_type": "stream",
          "name": "stdout",
          "text": [
            "+-------+-------+--------------------+--------------------+--------------------+--------------------+-----------------+------------+------+--------+--------------------+--------------------+\n",
            "|show_id|   type|               title|            director|                cast|             country|       date_added|release_year|rating|duration|           listed_in|         description|\n",
            "+-------+-------+--------------------+--------------------+--------------------+--------------------+-----------------+------------+------+--------+--------------------+--------------------+\n",
            "|  s4251|TV Show|Pioneers: First W...|                null|                null|                null|December 30, 2018|        1925| TV-14|1 Season|            TV Shows|This collection r...|\n",
            "|  s7791|  Movie|      Prelude to War|         Frank Capra|                null|       United States|   March 31, 2017|        1942| TV-14|  52 min|Classic Movies, D...|Frank Capra's doc...|\n",
            "|  s8206|  Movie|The Battle of Midway|           John Ford|Henry Fonda, Jane...|       United States|   March 31, 2017|        1942| TV-14|  18 min|Classic Movies, D...|Director John For...|\n",
            "|  s8661|  Movie|Undercover: How t...|           John Ford|                null|       United States|   March 31, 2017|        1943| TV-PG|  61 min|Classic Movies, D...|This World War II...|\n",
            "|  s8740|  Movie|Why We Fight: The...|Frank Capra, Anat...|                null|       United States|   March 31, 2017|        1943| TV-PG|  82 min|       Documentaries|This installment ...|\n",
            "|  s8764|  Movie|WWII: Report from...|         John Huston|                null|       United States|   March 31, 2017|        1943| TV-PG|  45 min|       Documentaries|Filmmaker John Hu...|\n",
            "|  s8437|  Movie|   The Negro Soldier|      Stuart Heisler|                null|       United States|   March 31, 2017|        1944| TV-14|  40 min|Classic Movies, D...|This documentary ...|\n",
            "|  s8641|  Movie|    Tunisian Victory|Frank Capra, John...|    Burgess Meredith|United States, Un...|   March 31, 2017|        1944| TV-14|  76 min|Classic Movies, D...|British and Ameri...|\n",
            "|  s1332|TV Show|Five Came Back: T...|                null|                null|       United States| February 9, 2021|        1945| TV-MA|1 Season|            TV Shows|\"This collection ...|\n",
            "|  s7220|  Movie|Know Your Enemy -...|Frank Capra, Jori...|Walter Huston, Da...|       United States|   March 31, 2017|        1945| TV-14|  63 min|Classic Movies, D...|Though culturally...|\n",
            "|  s7576|  Movie|Nazi Concentratio...|      George Stevens|                null|       United States|   March 31, 2017|        1945| TV-MA|  59 min|Classic Movies, D...|Shocking footage ...|\n",
            "|  s7931|  Movie|          San Pietro|         John Huston|                null|       United States|   March 31, 2017|        1945| TV-14|  32 min|Classic Movies, D...|After the Allies ...|\n",
            "|  s7295|  Movie|  Let There Be Light|         John Huston|       Walter Huston|       United States|   March 31, 2017|        1946| TV-PG|  58 min|Classic Movies, D...|Some returning co...|\n",
            "|  s7744|TV Show|Pioneers of Afric...|Oscar Micheaux, S...|                null|       United States| February 1, 2017|        1946| TV-14|1 Season|            TV Shows|This newly preser...|\n",
            "|  s8588|  Movie|         Thunderbolt|William Wyler, Jo...|James Stewart, Ll...|       United States|   March 31, 2017|        1947| TV-PG|  42 min|Classic Movies, D...|A P-47 Thunderbol...|\n",
            "|  s1700|  Movie|     White Christmas|      Michael Curtiz|Bing Crosby, Dann...|       United States|November 15, 2020|        1954|  TV-G| 120 min|Children & Family...|Two war buddies f...|\n",
            "|  s2376|  Movie|     The Blazing Sun|     Youssef Chahine|Omar Sharif, Fate...|               Egypt|    June 18, 2020|        1954| TV-14| 116 min|Classic Movies, D...|Competition betwe...|\n",
            "|  s7840|  Movie|Rebel Without a C...|        Nicholas Ray|James Dean, Natal...|       United States| November 1, 2019|        1955| PG-13| 111 min|Classic Movies, D...|When Jim Stark ar...|\n",
            "|  s7955|  Movie| Scandal in Sorrento|           Dino Risi|Vittorio De Sica,...|       Italy, France|November 13, 2020|        1955| TV-PG|  93 min|Classic Movies, C...|When a marshal mo...|\n",
            "|  s8507|  Movie|   The Sign of Venus|           Dino Risi|Sophia Loren, Fra...|               Italy|November 13, 2020|        1955| TV-14|  97 min|Classic Movies, C...|While suitors swo...|\n",
            "+-------+-------+--------------------+--------------------+--------------------+--------------------+-----------------+------------+------+--------+--------------------+--------------------+\n",
            "only showing top 20 rows\n",
            "\n"
          ]
        }
      ]
    },
    {
      "cell_type": "code",
      "source": [
        "df4.registerTempTable('NetflixTable')"
      ],
      "metadata": {
        "id": "DOXCPhYIK4vl"
      },
      "execution_count": 12,
      "outputs": []
    },
    {
      "cell_type": "markdown",
      "source": [
        "Eliminarea tuturor inregistrarilor care contin date lipsa."
      ],
      "metadata": {
        "id": "WTve4AIJiRBf"
      }
    },
    {
      "cell_type": "code",
      "source": [
        "dfclean= spark.sql(\"Select * from NetflixTable where director is not null and cast is not null and country is not null and date_added is not null and release_year is not null and rating is not null and duration is not null and listed_in is not null and description is not null \")\n",
        "dfclean.show()"
      ],
      "metadata": {
        "colab": {
          "base_uri": "https://localhost:8080/"
        },
        "id": "xx2Gb2gsJshQ",
        "outputId": "f3825e09-a464-4841-cf6a-89b0fe766819"
      },
      "execution_count": 13,
      "outputs": [
        {
          "output_type": "stream",
          "name": "stdout",
          "text": [
            "+-------+-----+--------------------+--------------------+--------------------+--------------------+-----------------+------------+------+--------+--------------------+--------------------+\n",
            "|show_id| type|               title|            director|                cast|             country|       date_added|release_year|rating|duration|           listed_in|         description|\n",
            "+-------+-----+--------------------+--------------------+--------------------+--------------------+-----------------+------------+------+--------+--------------------+--------------------+\n",
            "|  s8206|Movie|The Battle of Midway|           John Ford|Henry Fonda, Jane...|       United States|   March 31, 2017|        1942| TV-14|  18 min|Classic Movies, D...|Director John For...|\n",
            "|  s8641|Movie|    Tunisian Victory|Frank Capra, John...|    Burgess Meredith|United States, Un...|   March 31, 2017|        1944| TV-14|  76 min|Classic Movies, D...|British and Ameri...|\n",
            "|  s7220|Movie|Know Your Enemy -...|Frank Capra, Jori...|Walter Huston, Da...|       United States|   March 31, 2017|        1945| TV-14|  63 min|Classic Movies, D...|Though culturally...|\n",
            "|  s7295|Movie|  Let There Be Light|         John Huston|       Walter Huston|       United States|   March 31, 2017|        1946| TV-PG|  58 min|Classic Movies, D...|Some returning co...|\n",
            "|  s8588|Movie|         Thunderbolt|William Wyler, Jo...|James Stewart, Ll...|       United States|   March 31, 2017|        1947| TV-PG|  42 min|Classic Movies, D...|A P-47 Thunderbol...|\n",
            "|  s1700|Movie|     White Christmas|      Michael Curtiz|Bing Crosby, Dann...|       United States|November 15, 2020|        1954|  TV-G| 120 min|Children & Family...|Two war buddies f...|\n",
            "|  s2376|Movie|     The Blazing Sun|     Youssef Chahine|Omar Sharif, Fate...|               Egypt|    June 18, 2020|        1954| TV-14| 116 min|Classic Movies, D...|Competition betwe...|\n",
            "|  s8507|Movie|   The Sign of Venus|           Dino Risi|Sophia Loren, Fra...|               Italy|November 13, 2020|        1955| TV-14|  97 min|Classic Movies, C...|While suitors swo...|\n",
            "|  s7840|Movie|Rebel Without a C...|        Nicholas Ray|James Dean, Natal...|       United States| November 1, 2019|        1955| PG-13| 111 min|Classic Movies, D...|When Jim Stark ar...|\n",
            "|  s7955|Movie| Scandal in Sorrento|           Dino Risi|Vittorio De Sica,...|       Italy, France|November 13, 2020|        1955| TV-PG|  93 min|Classic Movies, C...|When a marshal mo...|\n",
            "|  s6785|Movie|    Forbidden Planet|      Fred M. Wilcox|Leslie Nielsen, W...|       United States| November 1, 2019|        1956|     G|  98 min|Action & Adventur...|A pulp-fiction sc...|\n",
            "|  s2370|Movie|         Dark Waters|     Youssef Chahine|Faten Hamama, Oma...|               Egypt|    June 18, 2020|        1956| TV-14| 104 min|Classic Movies, D...|A fisherman retur...|\n",
            "|  s6854|Movie|                Gigi|Vincente Minnelli...|Leslie Caron, Mau...|       United States| November 1, 2019|        1958|     G| 115 min|Classic Movies, C...|Gigi's an avant-g...|\n",
            "|  s2369|Movie|       Cairo Station|     Youssef Chahine|Farid Shawqy, Hin...|               Egypt|    June 18, 2020|        1958| TV-14|  73 min|Classic Movies, D...|A Cairo newsstand...|\n",
            "|  s6432|Movie|Cat on a Hot Tin ...|      Richard Brooks|Elizabeth Taylor,...|       United States| November 1, 2019|        1958|    NR| 108 min|Classic Movies, D...|Members of a Sout...|\n",
            "|   s543|Movie|               Ujala|       Naresh Saigal|Mala Sinha, Shamm...|               India|     July 6, 2021|        1959| TV-14| 143 min|Dramas, Internati...|An honest man dre...|\n",
            "|  s5221|Movie|           Singapore|      Shakti Samanta|Shammi Kapoor, Pa...|     India, Malaysia| October 15, 2017|        1960| TV-PG| 158 min|Comedies, Dramas,...|When his employee...|\n",
            "|  s6396|Movie|       Butterfield 8|         Daniel Mann|Elizabeth Taylor,...|       United States| November 1, 2019|        1960| TV-14| 108 min|Classic Movies, D...|Elizabeth Taylor ...|\n",
            "|  s7638|Movie|      Ocean's Eleven|     Lewis Milestone|Frank Sinatra, De...|       United States| November 1, 2019|        1960| TV-PG| 127 min|Action & Adventur...|Frank Sinatra lea...|\n",
            "|   s178|Movie|The Guns of Navarone|     J. Lee Thompson|Gregory Peck, Dav...|United Kingdom, U...|September 1, 2021|        1961| TV-14| 156 min|Action & Adventur...|During World War ...|\n",
            "+-------+-----+--------------------+--------------------+--------------------+--------------------+-----------------+------------+------+--------+--------------------+--------------------+\n",
            "only showing top 20 rows\n",
            "\n"
          ]
        }
      ]
    },
    {
      "cell_type": "code",
      "source": [
        "dfclean.registerTempTable('NetflixTableClean')"
      ],
      "metadata": {
        "id": "1xhVgCTWoseX"
      },
      "execution_count": 14,
      "outputs": []
    },
    {
      "cell_type": "markdown",
      "source": [
        "Calcularea numarului de filme si seriale aparute in fiecare an"
      ],
      "metadata": {
        "id": "KMpjP7Dc9W1G"
      }
    },
    {
      "cell_type": "code",
      "source": [
        "dfmoviesandshowsperyear= spark.sql(\"select release_year, count(show_id),  type from NetflixTableClean group by release_year, type order by release_year\" )\n",
        "dfmoviesandshowsperyear.show()"
      ],
      "metadata": {
        "colab": {
          "base_uri": "https://localhost:8080/"
        },
        "id": "PNfIrCio9dkG",
        "outputId": "47617735-6ca2-49a3-d51c-5081a24a816c"
      },
      "execution_count": 15,
      "outputs": [
        {
          "output_type": "stream",
          "name": "stdout",
          "text": [
            "+------------+--------------+-----+\n",
            "|release_year|count(show_id)| type|\n",
            "+------------+--------------+-----+\n",
            "|        1942|             1|Movie|\n",
            "|        1944|             1|Movie|\n",
            "|        1945|             1|Movie|\n",
            "|        1946|             1|Movie|\n",
            "|        1947|             1|Movie|\n",
            "|        1954|             2|Movie|\n",
            "|        1955|             3|Movie|\n",
            "|        1956|             2|Movie|\n",
            "|        1958|             3|Movie|\n",
            "|        1959|             1|Movie|\n",
            "|        1960|             3|Movie|\n",
            "|        1961|             1|Movie|\n",
            "|        1962|             3|Movie|\n",
            "|        1963|             1|Movie|\n",
            "|        1964|             2|Movie|\n",
            "|        1965|             2|Movie|\n",
            "|        1966|             1|Movie|\n",
            "|        1967|             4|Movie|\n",
            "|        1968|             3|Movie|\n",
            "|        1969|             2|Movie|\n",
            "+------------+--------------+-----+\n",
            "only showing top 20 rows\n",
            "\n"
          ]
        }
      ]
    },
    {
      "cell_type": "markdown",
      "source": [
        "Durata medie a filmelor in functie de anul lansarii"
      ],
      "metadata": {
        "id": "UTMdv29CuG_1"
      }
    },
    {
      "cell_type": "code",
      "source": [
        "from pyspark.sql.functions import first\n",
        "from pyspark.sql.functions import split\n",
        "\n",
        "df7 = spark.sql(\"Select type, release_year, duration from NetflixTableClean\")\n",
        "dff = df7.groupBy(\"type\", \"release_year\", \"duration\").agg(split(\"duration\", \" \").getItem(0).alias(\"dur\"))\n",
        "dff.registerTempTable('NetflixMoviesDuration')\n",
        "dfavgDuration=spark.sql(\"Select avg(dur), release_year from NetflixMoviesDuration group by release_year order by release_year\")\n",
        "dfavgDuration.show()"
      ],
      "metadata": {
        "colab": {
          "base_uri": "https://localhost:8080/"
        },
        "id": "3BrfCD_-2b6E",
        "outputId": "933f3485-a158-40f2-e3c4-dc23b1c8db78"
      },
      "execution_count": 16,
      "outputs": [
        {
          "output_type": "stream",
          "name": "stdout",
          "text": [
            "+------------------+------------+\n",
            "|          avg(dur)|release_year|\n",
            "+------------------+------------+\n",
            "|              18.0|        1942|\n",
            "|              76.0|        1944|\n",
            "|              63.0|        1945|\n",
            "|              58.0|        1946|\n",
            "|              42.0|        1947|\n",
            "|             118.0|        1954|\n",
            "|100.33333333333333|        1955|\n",
            "|             101.0|        1956|\n",
            "| 98.66666666666667|        1958|\n",
            "|             143.0|        1959|\n",
            "|             131.0|        1960|\n",
            "|             156.0|        1961|\n",
            "|             167.0|        1962|\n",
            "|             194.0|        1963|\n",
            "|             200.5|        1964|\n",
            "|             151.5|        1965|\n",
            "|             116.0|        1966|\n",
            "|            105.25|        1967|\n",
            "|149.66666666666666|        1968|\n",
            "|             140.0|        1969|\n",
            "+------------------+------------+\n",
            "only showing top 20 rows\n",
            "\n"
          ]
        }
      ]
    },
    {
      "cell_type": "markdown",
      "source": [
        "3. Regresie logistica pentru predictia ratingului in functie de tara, catgorie si anul aparitiei."
      ],
      "metadata": {
        "id": "EhhYRmPEZdLO"
      }
    },
    {
      "cell_type": "code",
      "source": [
        "import pyspark.ml\n",
        "from pyspark.ml.feature import StringIndexer, OneHotEncoder, VectorAssembler\n",
        "from pyspark.ml.classification import LogisticRegression"
      ],
      "metadata": {
        "id": "gl4LKnboZgQa"
      },
      "execution_count": 17,
      "outputs": []
    },
    {
      "cell_type": "markdown",
      "source": [
        "Prelucrarea datelor:"
      ],
      "metadata": {
        "id": "20PM5QuagM_s"
      }
    },
    {
      "cell_type": "code",
      "source": [
        "df= spark.sql(\"Select title, director, cast, listed_in, rating, country, cast(release_year as int) from NetflixTableClean\")"
      ],
      "metadata": {
        "id": "0xyYftvPgrjP"
      },
      "execution_count": 49,
      "outputs": []
    },
    {
      "cell_type": "code",
      "source": [
        "display(df)"
      ],
      "metadata": {
        "colab": {
          "base_uri": "https://localhost:8080/",
          "height": 35
        },
        "id": "gHBRAb7MS3Zs",
        "outputId": "71da5a6c-bf0e-42b3-8a02-7a4505e95122"
      },
      "execution_count": 50,
      "outputs": [
        {
          "output_type": "display_data",
          "data": {
            "text/plain": [
              "DataFrame[title: string, director: string, cast: string, listed_in: string, rating: string, country: string, release_year: int]"
            ]
          },
          "metadata": {}
        }
      ]
    },
    {
      "cell_type": "markdown",
      "source": [
        "Verificam cate filme si seriale fac parte din fiecare categorie de rating"
      ],
      "metadata": {
        "id": "8oDx2DNCkBMy"
      }
    },
    {
      "cell_type": "code",
      "source": [
        "df.groupby(\"rating\").count().show()"
      ],
      "metadata": {
        "colab": {
          "base_uri": "https://localhost:8080/"
        },
        "id": "209_Jf2bjz5g",
        "outputId": "e1d1da9a-fde6-4286-d70a-0a2f080f6eb1"
      },
      "execution_count": 51,
      "outputs": [
        {
          "output_type": "stream",
          "name": "stdout",
          "text": [
            "+--------+-----+\n",
            "|  rating|count|\n",
            "+--------+-----+\n",
            "|    TV-Y|   76|\n",
            "|      UR|    3|\n",
            "|      PG|  274|\n",
            "|   TV-MA| 1812|\n",
            "|TV-Y7-FV|    3|\n",
            "|      NR|   58|\n",
            "|   TV-PG|  431|\n",
            "|   NC-17|    2|\n",
            "|       R|  775|\n",
            "|       G|   40|\n",
            "|   TV-14| 1213|\n",
            "|    TV-G|   84|\n",
            "|   TV-Y7|   76|\n",
            "|   PG-13|  469|\n",
            "+--------+-----+\n",
            "\n"
          ]
        }
      ]
    },
    {
      "cell_type": "markdown",
      "source": [
        "Functie definita de utilizator pentru a imparti categoriile de rating in 3 categorii: children, teenagers si adults."
      ],
      "metadata": {
        "id": "3oXMDdqhlXrS"
      }
    },
    {
      "cell_type": "code",
      "source": [
        "from pyspark.sql.functions import udf\n",
        "def udf_content_rating_group(rating):\n",
        "  if rating == \"TV-Y\" or rating == \"TV-Y7\":\n",
        "    return 'Children'\n",
        "  elif rating == \"TV-MA\" or rating == \"NC-17\" or rating == \"R\" or rating == \"TV-G\":\n",
        "    return 'Adults'\n",
        "  elif rating ==\"TV-Y7-FV\" or rating == \"TV-PG\" or rating== \"TV-14\"  or rating == \"PG\" or rating == \"G\" or rating == \"PG-13\":\n",
        "    return 'Teenagers'\n",
        "  else:\n",
        "    return 'N/A'\n",
        "\n"
      ],
      "metadata": {
        "id": "rAZ3otSJkIGV"
      },
      "execution_count": 52,
      "outputs": []
    },
    {
      "cell_type": "code",
      "source": [
        "rating_udf= udf(udf_content_rating_group)\n",
        "df=df.withColumn(\"rating_udf\",rating_udf('rating') )\n",
        "df.show()"
      ],
      "metadata": {
        "colab": {
          "base_uri": "https://localhost:8080/"
        },
        "id": "qqBTClY2ZZWx",
        "outputId": "13908109-981c-49bd-b624-389cf0dfdb62"
      },
      "execution_count": 53,
      "outputs": [
        {
          "output_type": "stream",
          "name": "stdout",
          "text": [
            "+--------------------+--------------------+--------------------+--------------------+------+--------------------+------------+----------+\n",
            "|               title|            director|                cast|           listed_in|rating|             country|release_year|rating_udf|\n",
            "+--------------------+--------------------+--------------------+--------------------+------+--------------------+------------+----------+\n",
            "|The Battle of Midway|           John Ford|Henry Fonda, Jane...|Classic Movies, D...| TV-14|       United States|        1942| Teenagers|\n",
            "|    Tunisian Victory|Frank Capra, John...|    Burgess Meredith|Classic Movies, D...| TV-14|United States, Un...|        1944| Teenagers|\n",
            "|Know Your Enemy -...|Frank Capra, Jori...|Walter Huston, Da...|Classic Movies, D...| TV-14|       United States|        1945| Teenagers|\n",
            "|  Let There Be Light|         John Huston|       Walter Huston|Classic Movies, D...| TV-PG|       United States|        1946| Teenagers|\n",
            "|         Thunderbolt|William Wyler, Jo...|James Stewart, Ll...|Classic Movies, D...| TV-PG|       United States|        1947| Teenagers|\n",
            "|     White Christmas|      Michael Curtiz|Bing Crosby, Dann...|Children & Family...|  TV-G|       United States|        1954|    Adults|\n",
            "|     The Blazing Sun|     Youssef Chahine|Omar Sharif, Fate...|Classic Movies, D...| TV-14|               Egypt|        1954| Teenagers|\n",
            "|Rebel Without a C...|        Nicholas Ray|James Dean, Natal...|Classic Movies, D...| PG-13|       United States|        1955| Teenagers|\n",
            "| Scandal in Sorrento|           Dino Risi|Vittorio De Sica,...|Classic Movies, C...| TV-PG|       Italy, France|        1955| Teenagers|\n",
            "|   The Sign of Venus|           Dino Risi|Sophia Loren, Fra...|Classic Movies, C...| TV-14|               Italy|        1955| Teenagers|\n",
            "|         Dark Waters|     Youssef Chahine|Faten Hamama, Oma...|Classic Movies, D...| TV-14|               Egypt|        1956| Teenagers|\n",
            "|    Forbidden Planet|      Fred M. Wilcox|Leslie Nielsen, W...|Action & Adventur...|     G|       United States|        1956| Teenagers|\n",
            "|       Cairo Station|     Youssef Chahine|Farid Shawqy, Hin...|Classic Movies, D...| TV-14|               Egypt|        1958| Teenagers|\n",
            "|Cat on a Hot Tin ...|      Richard Brooks|Elizabeth Taylor,...|Classic Movies, D...|    NR|       United States|        1958|       N/A|\n",
            "|                Gigi|Vincente Minnelli...|Leslie Caron, Mau...|Classic Movies, C...|     G|       United States|        1958| Teenagers|\n",
            "|               Ujala|       Naresh Saigal|Mala Sinha, Shamm...|Dramas, Internati...| TV-14|               India|        1959| Teenagers|\n",
            "|           Singapore|      Shakti Samanta|Shammi Kapoor, Pa...|Comedies, Dramas,...| TV-PG|     India, Malaysia|        1960| Teenagers|\n",
            "|       Butterfield 8|         Daniel Mann|Elizabeth Taylor,...|Classic Movies, D...| TV-14|       United States|        1960| Teenagers|\n",
            "|      Ocean's Eleven|     Lewis Milestone|Frank Sinatra, De...|Action & Adventur...| TV-PG|       United States|        1960| Teenagers|\n",
            "|The Guns of Navarone|     J. Lee Thompson|Gregory Peck, Dav...|Action & Adventur...| TV-14|United Kingdom, U...|        1961| Teenagers|\n",
            "+--------------------+--------------------+--------------------+--------------------+------+--------------------+------------+----------+\n",
            "only showing top 20 rows\n",
            "\n"
          ]
        }
      ]
    },
    {
      "cell_type": "code",
      "source": [
        "stringIndexer1=StringIndexer().setInputCol(\"rating_udf\").setOutputCol(\"rating_udfIndex\")\n",
        "stringIndexer2=StringIndexer().setInputCol(\"country\").setOutputCol(\"country_indexed\")\n",
        "stringIndexer3=StringIndexer().setInputCol(\"director\").setOutputCol(\"director_indexed\")\n",
        "stringIndexer4=StringIndexer().setInputCol(\"listed_in\").setOutputCol(\"listed_in_indexed\")"
      ],
      "metadata": {
        "id": "JcRxDalcZ4fI"
      },
      "execution_count": 37,
      "outputs": []
    },
    {
      "cell_type": "code",
      "source": [
        "rating_udfIndex_model=stringIndexer1.fit(df)\n",
        "rating_udfIndex_df = rating_udfIndex_model.transform(df)\n",
        "rating_udfIndex_df.groupby(\"rating_udfIndex\").count().show()"
      ],
      "metadata": {
        "colab": {
          "base_uri": "https://localhost:8080/"
        },
        "id": "RIvNzDY2sr4S",
        "outputId": "2d99172b-9c95-468e-cbb0-79948cab08f9"
      },
      "execution_count": 54,
      "outputs": [
        {
          "output_type": "stream",
          "name": "stdout",
          "text": [
            "+---------------+-----+\n",
            "|rating_udfIndex|count|\n",
            "+---------------+-----+\n",
            "|            0.0| 2673|\n",
            "|            1.0| 2430|\n",
            "|            3.0|   61|\n",
            "|            2.0|  152|\n",
            "+---------------+-----+\n",
            "\n"
          ]
        }
      ]
    },
    {
      "cell_type": "markdown",
      "source": [
        "Utilizerea de StringIndexer pentru restul coloanelor: country, director, listed_in"
      ],
      "metadata": {
        "id": "J4-WCcy34mP3"
      }
    },
    {
      "cell_type": "code",
      "source": [
        "country_indexed_model=stringIndexer2.fit(rating_udfIndex_df)\n",
        "country_indexed_df = country_indexed_model.transform(rating_udfIndex_df)\n",
        "country_indexed_df.groupby(\"country_indexed\").count().show()"
      ],
      "metadata": {
        "colab": {
          "base_uri": "https://localhost:8080/"
        },
        "id": "IIRF35Kl4l6R",
        "outputId": "04bb349c-b37a-4457-bbdc-913fd78965b4"
      },
      "execution_count": 56,
      "outputs": [
        {
          "output_type": "stream",
          "name": "stdout",
          "text": [
            "+---------------+-----+\n",
            "|country_indexed|count|\n",
            "+---------------+-----+\n",
            "|          305.0|    1|\n",
            "|          558.0|    1|\n",
            "|          596.0|    1|\n",
            "|          496.0|    1|\n",
            "|          299.0|    1|\n",
            "|          576.0|    1|\n",
            "|          147.0|    2|\n",
            "|          184.0|    1|\n",
            "|          170.0|    1|\n",
            "|          160.0|    1|\n",
            "|          169.0|    1|\n",
            "|           70.0|    4|\n",
            "|           67.0|    4|\n",
            "|          571.0|    1|\n",
            "|            8.0|   79|\n",
            "|          486.0|    1|\n",
            "|          379.0|    1|\n",
            "|          311.0|    1|\n",
            "|          168.0|    1|\n",
            "|            0.0| 1836|\n",
            "+---------------+-----+\n",
            "only showing top 20 rows\n",
            "\n"
          ]
        }
      ]
    },
    {
      "cell_type": "code",
      "source": [
        "director_indexed_model=stringIndexer3.fit(country_indexed_df)\n",
        "director_indexed_df = director_indexed_model.transform(country_indexed_df)\n",
        "director_indexed_df.groupby(\"director_indexed\").count().show()"
      ],
      "metadata": {
        "colab": {
          "base_uri": "https://localhost:8080/"
        },
        "id": "rsuMxAGR5QOC",
        "outputId": "0af31062-59c8-4ed3-9373-7d1f7e717891"
      },
      "execution_count": 57,
      "outputs": [
        {
          "output_type": "stream",
          "name": "stdout",
          "text": [
            "+----------------+-----+\n",
            "|director_indexed|count|\n",
            "+----------------+-----+\n",
            "|           934.0|    1|\n",
            "|          2734.0|    1|\n",
            "|           596.0|    2|\n",
            "|          1761.0|    1|\n",
            "|           299.0|    2|\n",
            "|           558.0|    2|\n",
            "|          2862.0|    1|\n",
            "|           769.0|    1|\n",
            "|          2815.0|    1|\n",
            "|           305.0|    2|\n",
            "|          1051.0|    1|\n",
            "|          3597.0|    1|\n",
            "|          3901.0|    1|\n",
            "|           692.0|    2|\n",
            "|           496.0|    2|\n",
            "|          3029.0|    1|\n",
            "|           720.0|    2|\n",
            "|           782.0|    1|\n",
            "|           576.0|    2|\n",
            "|          3507.0|    1|\n",
            "+----------------+-----+\n",
            "only showing top 20 rows\n",
            "\n"
          ]
        }
      ]
    },
    {
      "cell_type": "code",
      "source": [
        "listed_in_indexed_model=stringIndexer4.fit(director_indexed_df)\n",
        "listed_in_indexed_df = listed_in_indexed_model.transform(director_indexed_df)\n",
        "listed_in_indexed_df.groupby(\"listed_in_indexed\").count().show()"
      ],
      "metadata": {
        "colab": {
          "base_uri": "https://localhost:8080/"
        },
        "id": "2B9Cestm5evA",
        "outputId": "3dd18ab3-cf7a-47f8-8295-5f55e8bc0acd"
      },
      "execution_count": 58,
      "outputs": [
        {
          "output_type": "stream",
          "name": "stdout",
          "text": [
            "+-----------------+-----+\n",
            "|listed_in_indexed|count|\n",
            "+-----------------+-----+\n",
            "|            299.0|    1|\n",
            "|            305.0|    1|\n",
            "|            147.0|    4|\n",
            "|            184.0|    2|\n",
            "|            170.0|    3|\n",
            "|            160.0|    3|\n",
            "|            169.0|    3|\n",
            "|             67.0|   11|\n",
            "|              8.0|  143|\n",
            "|             70.0|   11|\n",
            "|            311.0|    1|\n",
            "|            168.0|    3|\n",
            "|              0.0|  335|\n",
            "|             69.0|   11|\n",
            "|            206.0|    2|\n",
            "|              7.0|  152|\n",
            "|            249.0|    1|\n",
            "|            142.0|    4|\n",
            "|            191.0|    2|\n",
            "|            329.0|    1|\n",
            "+-----------------+-----+\n",
            "only showing top 20 rows\n",
            "\n"
          ]
        }
      ]
    },
    {
      "cell_type": "code",
      "source": [
        "listed_in_indexed_df.show()"
      ],
      "metadata": {
        "colab": {
          "base_uri": "https://localhost:8080/"
        },
        "id": "9IUk2BIV7Okj",
        "outputId": "29df404d-bb1f-43b9-b608-a2b1301ee9ee"
      },
      "execution_count": 59,
      "outputs": [
        {
          "output_type": "stream",
          "name": "stdout",
          "text": [
            "+--------------------+--------------------+--------------------+--------------------+------+--------------------+------------+----------+---------------+---------------+----------------+-----------------+\n",
            "|               title|            director|                cast|           listed_in|rating|             country|release_year|rating_udf|rating_udfIndex|country_indexed|director_indexed|listed_in_indexed|\n",
            "+--------------------+--------------------+--------------------+--------------------+------+--------------------+------------+----------+---------------+---------------+----------------+-----------------+\n",
            "|The Battle of Midway|           John Ford|Henry Fonda, Jane...|Classic Movies, D...| TV-14|       United States|        1942| Teenagers|            1.0|            0.0|          2151.0|            120.0|\n",
            "|    Tunisian Victory|Frank Capra, John...|    Burgess Meredith|Classic Movies, D...| TV-14|United States, Un...|        1944| Teenagers|            1.0|           22.0|          1687.0|            120.0|\n",
            "|Know Your Enemy -...|Frank Capra, Jori...|Walter Huston, Da...|Classic Movies, D...| TV-14|       United States|        1945| Teenagers|            1.0|            0.0|          1688.0|            120.0|\n",
            "|  Let There Be Light|         John Huston|       Walter Huston|Classic Movies, D...| TV-PG|       United States|        1946| Teenagers|            1.0|            0.0|          2155.0|            120.0|\n",
            "|         Thunderbolt|William Wyler, Jo...|James Stewart, Ll...|Classic Movies, D...| TV-PG|       United States|        1947| Teenagers|            1.0|            0.0|          3863.0|            120.0|\n",
            "|     White Christmas|      Michael Curtiz|Bing Crosby, Dann...|Children & Family...|  TV-G|       United States|        1954|    Adults|            0.0|            0.0|          2748.0|            156.0|\n",
            "|     The Blazing Sun|     Youssef Chahine|Omar Sharif, Fate...|Classic Movies, D...| TV-14|               Egypt|        1954| Teenagers|            1.0|            5.0|             6.0|             56.0|\n",
            "|Rebel Without a C...|        Nicholas Ray|James Dean, Natal...|Classic Movies, D...| PG-13|       United States|        1955| Teenagers|            1.0|            0.0|          2899.0|             68.0|\n",
            "| Scandal in Sorrento|           Dino Risi|Vittorio De Sica,...|Classic Movies, C...| TV-PG|       Italy, France|        1955| Teenagers|            1.0|           70.0|           401.0|            193.0|\n",
            "|   The Sign of Venus|           Dino Risi|Sophia Loren, Fra...|Classic Movies, C...| TV-14|               Italy|        1955| Teenagers|            1.0|           25.0|           401.0|            193.0|\n",
            "|         Dark Waters|     Youssef Chahine|Faten Hamama, Oma...|Classic Movies, D...| TV-14|               Egypt|        1956| Teenagers|            1.0|            5.0|             6.0|             56.0|\n",
            "|    Forbidden Planet|      Fred M. Wilcox|Leslie Nielsen, W...|Action & Adventur...|     G|       United States|        1956| Teenagers|            1.0|            0.0|          1698.0|            230.0|\n",
            "|       Cairo Station|     Youssef Chahine|Farid Shawqy, Hin...|Classic Movies, D...| TV-14|               Egypt|        1958| Teenagers|            1.0|            5.0|             6.0|             56.0|\n",
            "|Cat on a Hot Tin ...|      Richard Brooks|Elizabeth Taylor,...|Classic Movies, D...|    NR|       United States|        1958|       N/A|            3.0|            0.0|          3222.0|             68.0|\n",
            "|                Gigi|Vincente Minnelli...|Leslie Caron, Mau...|Classic Movies, C...|     G|       United States|        1958| Teenagers|            1.0|            0.0|          3824.0|            194.0|\n",
            "|               Ujala|       Naresh Saigal|Mala Sinha, Shamm...|Dramas, Internati...| TV-14|               India|        1959| Teenagers|            1.0|            1.0|          2871.0|              0.0|\n",
            "|           Singapore|      Shakti Samanta|Shammi Kapoor, Pa...|Comedies, Dramas,...| TV-PG|     India, Malaysia|        1960| Teenagers|            1.0|          305.0|           660.0|              2.0|\n",
            "|       Butterfield 8|         Daniel Mann|Elizabeth Taylor,...|Classic Movies, D...| TV-14|       United States|        1960| Teenagers|            1.0|            0.0|          1401.0|            162.0|\n",
            "|      Ocean's Eleven|     Lewis Milestone|Frank Sinatra, De...|Action & Adventur...| TV-PG|       United States|        1960| Teenagers|            1.0|            0.0|          2486.0|            135.0|\n",
            "|The Guns of Navarone|     J. Lee Thompson|Gregory Peck, Dav...|Action & Adventur...| TV-14|United Kingdom, U...|        1961| Teenagers|            1.0|           13.0|          1953.0|            112.0|\n",
            "+--------------------+--------------------+--------------------+--------------------+------+--------------------+------------+----------+---------------+---------------+----------------+-----------------+\n",
            "only showing top 20 rows\n",
            "\n"
          ]
        }
      ]
    },
    {
      "cell_type": "markdown",
      "source": [
        "Adaugarea oneHotEncoder pentru grupele de rating si pentru titlu, regizor si tara"
      ],
      "metadata": {
        "id": "U4QKJGAuwLUi"
      }
    },
    {
      "cell_type": "code",
      "source": [
        "encoder=OneHotEncoder().setInputCols([\"rating_udfIndex\",\"country_indexed\", \"director_indexed\", \"listed_in_indexed\" ]).setOutputCols([\"rating_encoded\", \"country_encoded\", \"director_encoded\", \"listed_in_encoded\"])"
      ],
      "metadata": {
        "id": "nPTVfvuganQi"
      },
      "execution_count": 60,
      "outputs": []
    },
    {
      "cell_type": "code",
      "source": [
        "\n",
        "encoder_model=encoder.fit(listed_in_indexed_df)\n",
        "encoder_df=encoder_model.transform(listed_in_indexed_df)\n",
        "\n",
        "encoder_df.show()"
      ],
      "metadata": {
        "colab": {
          "base_uri": "https://localhost:8080/"
        },
        "id": "A8yPGRnvwSzO",
        "outputId": "9687bb42-64a4-42fb-cd22-65b7b088b17f"
      },
      "execution_count": 61,
      "outputs": [
        {
          "output_type": "stream",
          "name": "stdout",
          "text": [
            "+--------------------+--------------------+--------------------+--------------------+------+--------------------+------------+----------+---------------+---------------+----------------+-----------------+--------------+-----------------+-------------------+-----------------+\n",
            "|               title|            director|                cast|           listed_in|rating|             country|release_year|rating_udf|rating_udfIndex|country_indexed|director_indexed|listed_in_indexed|rating_encoded|  country_encoded|   director_encoded|listed_in_encoded|\n",
            "+--------------------+--------------------+--------------------+--------------------+------+--------------------+------------+----------+---------------+---------------+----------------+-----------------+--------------+-----------------+-------------------+-----------------+\n",
            "|The Battle of Midway|           John Ford|Henry Fonda, Jane...|Classic Movies, D...| TV-14|       United States|        1942| Teenagers|            1.0|            0.0|          2151.0|            120.0| (3,[1],[1.0])|  (603,[0],[1.0])|(3936,[2151],[1.0])|(334,[120],[1.0])|\n",
            "|    Tunisian Victory|Frank Capra, John...|    Burgess Meredith|Classic Movies, D...| TV-14|United States, Un...|        1944| Teenagers|            1.0|           22.0|          1687.0|            120.0| (3,[1],[1.0])| (603,[22],[1.0])|(3936,[1687],[1.0])|(334,[120],[1.0])|\n",
            "|Know Your Enemy -...|Frank Capra, Jori...|Walter Huston, Da...|Classic Movies, D...| TV-14|       United States|        1945| Teenagers|            1.0|            0.0|          1688.0|            120.0| (3,[1],[1.0])|  (603,[0],[1.0])|(3936,[1688],[1.0])|(334,[120],[1.0])|\n",
            "|  Let There Be Light|         John Huston|       Walter Huston|Classic Movies, D...| TV-PG|       United States|        1946| Teenagers|            1.0|            0.0|          2155.0|            120.0| (3,[1],[1.0])|  (603,[0],[1.0])|(3936,[2155],[1.0])|(334,[120],[1.0])|\n",
            "|         Thunderbolt|William Wyler, Jo...|James Stewart, Ll...|Classic Movies, D...| TV-PG|       United States|        1947| Teenagers|            1.0|            0.0|          3863.0|            120.0| (3,[1],[1.0])|  (603,[0],[1.0])|(3936,[3863],[1.0])|(334,[120],[1.0])|\n",
            "|     White Christmas|      Michael Curtiz|Bing Crosby, Dann...|Children & Family...|  TV-G|       United States|        1954|    Adults|            0.0|            0.0|          2748.0|            156.0| (3,[0],[1.0])|  (603,[0],[1.0])|(3936,[2748],[1.0])|(334,[156],[1.0])|\n",
            "|     The Blazing Sun|     Youssef Chahine|Omar Sharif, Fate...|Classic Movies, D...| TV-14|               Egypt|        1954| Teenagers|            1.0|            5.0|             6.0|             56.0| (3,[1],[1.0])|  (603,[5],[1.0])|   (3936,[6],[1.0])| (334,[56],[1.0])|\n",
            "|Rebel Without a C...|        Nicholas Ray|James Dean, Natal...|Classic Movies, D...| PG-13|       United States|        1955| Teenagers|            1.0|            0.0|          2899.0|             68.0| (3,[1],[1.0])|  (603,[0],[1.0])|(3936,[2899],[1.0])| (334,[68],[1.0])|\n",
            "| Scandal in Sorrento|           Dino Risi|Vittorio De Sica,...|Classic Movies, C...| TV-PG|       Italy, France|        1955| Teenagers|            1.0|           70.0|           401.0|            193.0| (3,[1],[1.0])| (603,[70],[1.0])| (3936,[401],[1.0])|(334,[193],[1.0])|\n",
            "|   The Sign of Venus|           Dino Risi|Sophia Loren, Fra...|Classic Movies, C...| TV-14|               Italy|        1955| Teenagers|            1.0|           25.0|           401.0|            193.0| (3,[1],[1.0])| (603,[25],[1.0])| (3936,[401],[1.0])|(334,[193],[1.0])|\n",
            "|         Dark Waters|     Youssef Chahine|Faten Hamama, Oma...|Classic Movies, D...| TV-14|               Egypt|        1956| Teenagers|            1.0|            5.0|             6.0|             56.0| (3,[1],[1.0])|  (603,[5],[1.0])|   (3936,[6],[1.0])| (334,[56],[1.0])|\n",
            "|    Forbidden Planet|      Fred M. Wilcox|Leslie Nielsen, W...|Action & Adventur...|     G|       United States|        1956| Teenagers|            1.0|            0.0|          1698.0|            230.0| (3,[1],[1.0])|  (603,[0],[1.0])|(3936,[1698],[1.0])|(334,[230],[1.0])|\n",
            "|       Cairo Station|     Youssef Chahine|Farid Shawqy, Hin...|Classic Movies, D...| TV-14|               Egypt|        1958| Teenagers|            1.0|            5.0|             6.0|             56.0| (3,[1],[1.0])|  (603,[5],[1.0])|   (3936,[6],[1.0])| (334,[56],[1.0])|\n",
            "|Cat on a Hot Tin ...|      Richard Brooks|Elizabeth Taylor,...|Classic Movies, D...|    NR|       United States|        1958|       N/A|            3.0|            0.0|          3222.0|             68.0|     (3,[],[])|  (603,[0],[1.0])|(3936,[3222],[1.0])| (334,[68],[1.0])|\n",
            "|                Gigi|Vincente Minnelli...|Leslie Caron, Mau...|Classic Movies, C...|     G|       United States|        1958| Teenagers|            1.0|            0.0|          3824.0|            194.0| (3,[1],[1.0])|  (603,[0],[1.0])|(3936,[3824],[1.0])|(334,[194],[1.0])|\n",
            "|               Ujala|       Naresh Saigal|Mala Sinha, Shamm...|Dramas, Internati...| TV-14|               India|        1959| Teenagers|            1.0|            1.0|          2871.0|              0.0| (3,[1],[1.0])|  (603,[1],[1.0])|(3936,[2871],[1.0])|  (334,[0],[1.0])|\n",
            "|           Singapore|      Shakti Samanta|Shammi Kapoor, Pa...|Comedies, Dramas,...| TV-PG|     India, Malaysia|        1960| Teenagers|            1.0|          305.0|           660.0|              2.0| (3,[1],[1.0])|(603,[305],[1.0])| (3936,[660],[1.0])|  (334,[2],[1.0])|\n",
            "|       Butterfield 8|         Daniel Mann|Elizabeth Taylor,...|Classic Movies, D...| TV-14|       United States|        1960| Teenagers|            1.0|            0.0|          1401.0|            162.0| (3,[1],[1.0])|  (603,[0],[1.0])|(3936,[1401],[1.0])|(334,[162],[1.0])|\n",
            "|      Ocean's Eleven|     Lewis Milestone|Frank Sinatra, De...|Action & Adventur...| TV-PG|       United States|        1960| Teenagers|            1.0|            0.0|          2486.0|            135.0| (3,[1],[1.0])|  (603,[0],[1.0])|(3936,[2486],[1.0])|(334,[135],[1.0])|\n",
            "|The Guns of Navarone|     J. Lee Thompson|Gregory Peck, Dav...|Action & Adventur...| TV-14|United Kingdom, U...|        1961| Teenagers|            1.0|           13.0|          1953.0|            112.0| (3,[1],[1.0])| (603,[13],[1.0])|(3936,[1953],[1.0])|(334,[112],[1.0])|\n",
            "+--------------------+--------------------+--------------------+--------------------+------+--------------------+------------+----------+---------------+---------------+----------------+-----------------+--------------+-----------------+-------------------+-----------------+\n",
            "only showing top 20 rows\n",
            "\n"
          ]
        }
      ]
    },
    {
      "cell_type": "markdown",
      "source": [
        "Transformarea caracteristiciolr selectate in vector folosind Vector Assembler"
      ],
      "metadata": {
        "id": "9Dlw8NurzGTr"
      }
    },
    {
      "cell_type": "code",
      "source": [
        "assembler=VectorAssembler().setInputCols([ \"country_encoded\", \"director_encoded\", \"listed_in_encoded\",  \"release_year\"]).setOutputCol(\"vectorized_features_out\")"
      ],
      "metadata": {
        "id": "hDYZ-3lrax-1"
      },
      "execution_count": 62,
      "outputs": []
    },
    {
      "cell_type": "code",
      "source": [
        "\n",
        "assembler_df=assembler.transform(encoder_df)\n",
        "assembler_df.show()"
      ],
      "metadata": {
        "colab": {
          "base_uri": "https://localhost:8080/"
        },
        "id": "jUDk_cyWzFzW",
        "outputId": "e55d98bb-a3dd-45da-ae4d-1f63b25c55cd"
      },
      "execution_count": 63,
      "outputs": [
        {
          "output_type": "stream",
          "name": "stdout",
          "text": [
            "+--------------------+--------------------+--------------------+--------------------+------+--------------------+------------+----------+---------------+---------------+----------------+-----------------+--------------+-----------------+-------------------+-----------------+-----------------------+\n",
            "|               title|            director|                cast|           listed_in|rating|             country|release_year|rating_udf|rating_udfIndex|country_indexed|director_indexed|listed_in_indexed|rating_encoded|  country_encoded|   director_encoded|listed_in_encoded|vectorized_features_out|\n",
            "+--------------------+--------------------+--------------------+--------------------+------+--------------------+------------+----------+---------------+---------------+----------------+-----------------+--------------+-----------------+-------------------+-----------------+-----------------------+\n",
            "|The Battle of Midway|           John Ford|Henry Fonda, Jane...|Classic Movies, D...| TV-14|       United States|        1942| Teenagers|            1.0|            0.0|          2151.0|            120.0| (3,[1],[1.0])|  (603,[0],[1.0])|(3936,[2151],[1.0])|(334,[120],[1.0])|   (4874,[0,2754,465...|\n",
            "|    Tunisian Victory|Frank Capra, John...|    Burgess Meredith|Classic Movies, D...| TV-14|United States, Un...|        1944| Teenagers|            1.0|           22.0|          1687.0|            120.0| (3,[1],[1.0])| (603,[22],[1.0])|(3936,[1687],[1.0])|(334,[120],[1.0])|   (4874,[22,2290,46...|\n",
            "|Know Your Enemy -...|Frank Capra, Jori...|Walter Huston, Da...|Classic Movies, D...| TV-14|       United States|        1945| Teenagers|            1.0|            0.0|          1688.0|            120.0| (3,[1],[1.0])|  (603,[0],[1.0])|(3936,[1688],[1.0])|(334,[120],[1.0])|   (4874,[0,2291,465...|\n",
            "|  Let There Be Light|         John Huston|       Walter Huston|Classic Movies, D...| TV-PG|       United States|        1946| Teenagers|            1.0|            0.0|          2155.0|            120.0| (3,[1],[1.0])|  (603,[0],[1.0])|(3936,[2155],[1.0])|(334,[120],[1.0])|   (4874,[0,2758,465...|\n",
            "|         Thunderbolt|William Wyler, Jo...|James Stewart, Ll...|Classic Movies, D...| TV-PG|       United States|        1947| Teenagers|            1.0|            0.0|          3863.0|            120.0| (3,[1],[1.0])|  (603,[0],[1.0])|(3936,[3863],[1.0])|(334,[120],[1.0])|   (4874,[0,4466,465...|\n",
            "|     White Christmas|      Michael Curtiz|Bing Crosby, Dann...|Children & Family...|  TV-G|       United States|        1954|    Adults|            0.0|            0.0|          2748.0|            156.0| (3,[0],[1.0])|  (603,[0],[1.0])|(3936,[2748],[1.0])|(334,[156],[1.0])|   (4874,[0,3351,469...|\n",
            "|     The Blazing Sun|     Youssef Chahine|Omar Sharif, Fate...|Classic Movies, D...| TV-14|               Egypt|        1954| Teenagers|            1.0|            5.0|             6.0|             56.0| (3,[1],[1.0])|  (603,[5],[1.0])|   (3936,[6],[1.0])| (334,[56],[1.0])|   (4874,[5,609,4595...|\n",
            "|Rebel Without a C...|        Nicholas Ray|James Dean, Natal...|Classic Movies, D...| PG-13|       United States|        1955| Teenagers|            1.0|            0.0|          2899.0|             68.0| (3,[1],[1.0])|  (603,[0],[1.0])|(3936,[2899],[1.0])| (334,[68],[1.0])|   (4874,[0,3502,460...|\n",
            "| Scandal in Sorrento|           Dino Risi|Vittorio De Sica,...|Classic Movies, C...| TV-PG|       Italy, France|        1955| Teenagers|            1.0|           70.0|           401.0|            193.0| (3,[1],[1.0])| (603,[70],[1.0])| (3936,[401],[1.0])|(334,[193],[1.0])|   (4874,[70,1004,47...|\n",
            "|   The Sign of Venus|           Dino Risi|Sophia Loren, Fra...|Classic Movies, C...| TV-14|               Italy|        1955| Teenagers|            1.0|           25.0|           401.0|            193.0| (3,[1],[1.0])| (603,[25],[1.0])| (3936,[401],[1.0])|(334,[193],[1.0])|   (4874,[25,1004,47...|\n",
            "|         Dark Waters|     Youssef Chahine|Faten Hamama, Oma...|Classic Movies, D...| TV-14|               Egypt|        1956| Teenagers|            1.0|            5.0|             6.0|             56.0| (3,[1],[1.0])|  (603,[5],[1.0])|   (3936,[6],[1.0])| (334,[56],[1.0])|   (4874,[5,609,4595...|\n",
            "|    Forbidden Planet|      Fred M. Wilcox|Leslie Nielsen, W...|Action & Adventur...|     G|       United States|        1956| Teenagers|            1.0|            0.0|          1698.0|            230.0| (3,[1],[1.0])|  (603,[0],[1.0])|(3936,[1698],[1.0])|(334,[230],[1.0])|   (4874,[0,2301,476...|\n",
            "|       Cairo Station|     Youssef Chahine|Farid Shawqy, Hin...|Classic Movies, D...| TV-14|               Egypt|        1958| Teenagers|            1.0|            5.0|             6.0|             56.0| (3,[1],[1.0])|  (603,[5],[1.0])|   (3936,[6],[1.0])| (334,[56],[1.0])|   (4874,[5,609,4595...|\n",
            "|Cat on a Hot Tin ...|      Richard Brooks|Elizabeth Taylor,...|Classic Movies, D...|    NR|       United States|        1958|       N/A|            3.0|            0.0|          3222.0|             68.0|     (3,[],[])|  (603,[0],[1.0])|(3936,[3222],[1.0])| (334,[68],[1.0])|   (4874,[0,3825,460...|\n",
            "|                Gigi|Vincente Minnelli...|Leslie Caron, Mau...|Classic Movies, C...|     G|       United States|        1958| Teenagers|            1.0|            0.0|          3824.0|            194.0| (3,[1],[1.0])|  (603,[0],[1.0])|(3936,[3824],[1.0])|(334,[194],[1.0])|   (4874,[0,4427,473...|\n",
            "|               Ujala|       Naresh Saigal|Mala Sinha, Shamm...|Dramas, Internati...| TV-14|               India|        1959| Teenagers|            1.0|            1.0|          2871.0|              0.0| (3,[1],[1.0])|  (603,[1],[1.0])|(3936,[2871],[1.0])|  (334,[0],[1.0])|   (4874,[1,3474,453...|\n",
            "|           Singapore|      Shakti Samanta|Shammi Kapoor, Pa...|Comedies, Dramas,...| TV-PG|     India, Malaysia|        1960| Teenagers|            1.0|          305.0|           660.0|              2.0| (3,[1],[1.0])|(603,[305],[1.0])| (3936,[660],[1.0])|  (334,[2],[1.0])|   (4874,[305,1263,4...|\n",
            "|       Butterfield 8|         Daniel Mann|Elizabeth Taylor,...|Classic Movies, D...| TV-14|       United States|        1960| Teenagers|            1.0|            0.0|          1401.0|            162.0| (3,[1],[1.0])|  (603,[0],[1.0])|(3936,[1401],[1.0])|(334,[162],[1.0])|   (4874,[0,2004,470...|\n",
            "|      Ocean's Eleven|     Lewis Milestone|Frank Sinatra, De...|Action & Adventur...| TV-PG|       United States|        1960| Teenagers|            1.0|            0.0|          2486.0|            135.0| (3,[1],[1.0])|  (603,[0],[1.0])|(3936,[2486],[1.0])|(334,[135],[1.0])|   (4874,[0,3089,467...|\n",
            "|The Guns of Navarone|     J. Lee Thompson|Gregory Peck, Dav...|Action & Adventur...| TV-14|United Kingdom, U...|        1961| Teenagers|            1.0|           13.0|          1953.0|            112.0| (3,[1],[1.0])| (603,[13],[1.0])|(3936,[1953],[1.0])|(334,[112],[1.0])|   (4874,[13,2556,46...|\n",
            "+--------------------+--------------------+--------------------+--------------------+------+--------------------+------------+----------+---------------+---------------+----------------+-----------------+--------------+-----------------+-------------------+-----------------+-----------------------+\n",
            "only showing top 20 rows\n",
            "\n"
          ]
        }
      ]
    },
    {
      "cell_type": "markdown",
      "source": [
        "Adaugarea de labels"
      ],
      "metadata": {
        "id": "Bi6BXDdFICbu"
      }
    },
    {
      "cell_type": "code",
      "source": [
        "label_indexer = StringIndexer().setInputCol(\"rating_udfIndex\").setOutputCol(\"label\")"
      ],
      "metadata": {
        "id": "JIsjA3QBa286"
      },
      "execution_count": 64,
      "outputs": []
    },
    {
      "cell_type": "code",
      "source": [
        "\n",
        "label_indexer_model = label_indexer.fit(assembler_df)\n",
        "label_indexer_df= label_indexer_model.transform(assembler_df)\n",
        "\n",
        "label_indexer_df.show()"
      ],
      "metadata": {
        "colab": {
          "base_uri": "https://localhost:8080/"
        },
        "id": "0RuZqeDiICGM",
        "outputId": "c49cd4ef-9fcf-4f8b-9731-82072058c3c9"
      },
      "execution_count": 65,
      "outputs": [
        {
          "output_type": "stream",
          "name": "stdout",
          "text": [
            "+--------------------+--------------------+--------------------+--------------------+------+--------------------+------------+----------+---------------+---------------+----------------+-----------------+--------------+-----------------+-------------------+-----------------+-----------------------+-----+\n",
            "|               title|            director|                cast|           listed_in|rating|             country|release_year|rating_udf|rating_udfIndex|country_indexed|director_indexed|listed_in_indexed|rating_encoded|  country_encoded|   director_encoded|listed_in_encoded|vectorized_features_out|label|\n",
            "+--------------------+--------------------+--------------------+--------------------+------+--------------------+------------+----------+---------------+---------------+----------------+-----------------+--------------+-----------------+-------------------+-----------------+-----------------------+-----+\n",
            "|The Battle of Midway|           John Ford|Henry Fonda, Jane...|Classic Movies, D...| TV-14|       United States|        1942| Teenagers|            1.0|            0.0|          2151.0|            120.0| (3,[1],[1.0])|  (603,[0],[1.0])|(3936,[2151],[1.0])|(334,[120],[1.0])|   (4874,[0,2754,465...|  1.0|\n",
            "|    Tunisian Victory|Frank Capra, John...|    Burgess Meredith|Classic Movies, D...| TV-14|United States, Un...|        1944| Teenagers|            1.0|           22.0|          1687.0|            120.0| (3,[1],[1.0])| (603,[22],[1.0])|(3936,[1687],[1.0])|(334,[120],[1.0])|   (4874,[22,2290,46...|  1.0|\n",
            "|Know Your Enemy -...|Frank Capra, Jori...|Walter Huston, Da...|Classic Movies, D...| TV-14|       United States|        1945| Teenagers|            1.0|            0.0|          1688.0|            120.0| (3,[1],[1.0])|  (603,[0],[1.0])|(3936,[1688],[1.0])|(334,[120],[1.0])|   (4874,[0,2291,465...|  1.0|\n",
            "|  Let There Be Light|         John Huston|       Walter Huston|Classic Movies, D...| TV-PG|       United States|        1946| Teenagers|            1.0|            0.0|          2155.0|            120.0| (3,[1],[1.0])|  (603,[0],[1.0])|(3936,[2155],[1.0])|(334,[120],[1.0])|   (4874,[0,2758,465...|  1.0|\n",
            "|         Thunderbolt|William Wyler, Jo...|James Stewart, Ll...|Classic Movies, D...| TV-PG|       United States|        1947| Teenagers|            1.0|            0.0|          3863.0|            120.0| (3,[1],[1.0])|  (603,[0],[1.0])|(3936,[3863],[1.0])|(334,[120],[1.0])|   (4874,[0,4466,465...|  1.0|\n",
            "|     White Christmas|      Michael Curtiz|Bing Crosby, Dann...|Children & Family...|  TV-G|       United States|        1954|    Adults|            0.0|            0.0|          2748.0|            156.0| (3,[0],[1.0])|  (603,[0],[1.0])|(3936,[2748],[1.0])|(334,[156],[1.0])|   (4874,[0,3351,469...|  0.0|\n",
            "|     The Blazing Sun|     Youssef Chahine|Omar Sharif, Fate...|Classic Movies, D...| TV-14|               Egypt|        1954| Teenagers|            1.0|            5.0|             6.0|             56.0| (3,[1],[1.0])|  (603,[5],[1.0])|   (3936,[6],[1.0])| (334,[56],[1.0])|   (4874,[5,609,4595...|  1.0|\n",
            "|Rebel Without a C...|        Nicholas Ray|James Dean, Natal...|Classic Movies, D...| PG-13|       United States|        1955| Teenagers|            1.0|            0.0|          2899.0|             68.0| (3,[1],[1.0])|  (603,[0],[1.0])|(3936,[2899],[1.0])| (334,[68],[1.0])|   (4874,[0,3502,460...|  1.0|\n",
            "| Scandal in Sorrento|           Dino Risi|Vittorio De Sica,...|Classic Movies, C...| TV-PG|       Italy, France|        1955| Teenagers|            1.0|           70.0|           401.0|            193.0| (3,[1],[1.0])| (603,[70],[1.0])| (3936,[401],[1.0])|(334,[193],[1.0])|   (4874,[70,1004,47...|  1.0|\n",
            "|   The Sign of Venus|           Dino Risi|Sophia Loren, Fra...|Classic Movies, C...| TV-14|               Italy|        1955| Teenagers|            1.0|           25.0|           401.0|            193.0| (3,[1],[1.0])| (603,[25],[1.0])| (3936,[401],[1.0])|(334,[193],[1.0])|   (4874,[25,1004,47...|  1.0|\n",
            "|         Dark Waters|     Youssef Chahine|Faten Hamama, Oma...|Classic Movies, D...| TV-14|               Egypt|        1956| Teenagers|            1.0|            5.0|             6.0|             56.0| (3,[1],[1.0])|  (603,[5],[1.0])|   (3936,[6],[1.0])| (334,[56],[1.0])|   (4874,[5,609,4595...|  1.0|\n",
            "|    Forbidden Planet|      Fred M. Wilcox|Leslie Nielsen, W...|Action & Adventur...|     G|       United States|        1956| Teenagers|            1.0|            0.0|          1698.0|            230.0| (3,[1],[1.0])|  (603,[0],[1.0])|(3936,[1698],[1.0])|(334,[230],[1.0])|   (4874,[0,2301,476...|  1.0|\n",
            "|       Cairo Station|     Youssef Chahine|Farid Shawqy, Hin...|Classic Movies, D...| TV-14|               Egypt|        1958| Teenagers|            1.0|            5.0|             6.0|             56.0| (3,[1],[1.0])|  (603,[5],[1.0])|   (3936,[6],[1.0])| (334,[56],[1.0])|   (4874,[5,609,4595...|  1.0|\n",
            "|Cat on a Hot Tin ...|      Richard Brooks|Elizabeth Taylor,...|Classic Movies, D...|    NR|       United States|        1958|       N/A|            3.0|            0.0|          3222.0|             68.0|     (3,[],[])|  (603,[0],[1.0])|(3936,[3222],[1.0])| (334,[68],[1.0])|   (4874,[0,3825,460...|  3.0|\n",
            "|                Gigi|Vincente Minnelli...|Leslie Caron, Mau...|Classic Movies, C...|     G|       United States|        1958| Teenagers|            1.0|            0.0|          3824.0|            194.0| (3,[1],[1.0])|  (603,[0],[1.0])|(3936,[3824],[1.0])|(334,[194],[1.0])|   (4874,[0,4427,473...|  1.0|\n",
            "|               Ujala|       Naresh Saigal|Mala Sinha, Shamm...|Dramas, Internati...| TV-14|               India|        1959| Teenagers|            1.0|            1.0|          2871.0|              0.0| (3,[1],[1.0])|  (603,[1],[1.0])|(3936,[2871],[1.0])|  (334,[0],[1.0])|   (4874,[1,3474,453...|  1.0|\n",
            "|           Singapore|      Shakti Samanta|Shammi Kapoor, Pa...|Comedies, Dramas,...| TV-PG|     India, Malaysia|        1960| Teenagers|            1.0|          305.0|           660.0|              2.0| (3,[1],[1.0])|(603,[305],[1.0])| (3936,[660],[1.0])|  (334,[2],[1.0])|   (4874,[305,1263,4...|  1.0|\n",
            "|       Butterfield 8|         Daniel Mann|Elizabeth Taylor,...|Classic Movies, D...| TV-14|       United States|        1960| Teenagers|            1.0|            0.0|          1401.0|            162.0| (3,[1],[1.0])|  (603,[0],[1.0])|(3936,[1401],[1.0])|(334,[162],[1.0])|   (4874,[0,2004,470...|  1.0|\n",
            "|      Ocean's Eleven|     Lewis Milestone|Frank Sinatra, De...|Action & Adventur...| TV-PG|       United States|        1960| Teenagers|            1.0|            0.0|          2486.0|            135.0| (3,[1],[1.0])|  (603,[0],[1.0])|(3936,[2486],[1.0])|(334,[135],[1.0])|   (4874,[0,3089,467...|  1.0|\n",
            "|The Guns of Navarone|     J. Lee Thompson|Gregory Peck, Dav...|Action & Adventur...| TV-14|United Kingdom, U...|        1961| Teenagers|            1.0|           13.0|          1953.0|            112.0| (3,[1],[1.0])| (603,[13],[1.0])|(3936,[1953],[1.0])|(334,[112],[1.0])|   (4874,[13,2556,46...|  1.0|\n",
            "+--------------------+--------------------+--------------------+--------------------+------+--------------------+------------+----------+---------------+---------------+----------------+-----------------+--------------+-----------------+-------------------+-----------------+-----------------------+-----+\n",
            "only showing top 20 rows\n",
            "\n"
          ]
        }
      ]
    },
    {
      "cell_type": "code",
      "source": [
        "from pyspark.ml.feature import StandardScaler"
      ],
      "metadata": {
        "id": "SHZuWKBv_W6w"
      },
      "execution_count": 66,
      "outputs": []
    },
    {
      "cell_type": "code",
      "source": [
        "scaler=StandardScaler().setInputCol(\"vectorized_features_out\").setOutputCol(\"features\")"
      ],
      "metadata": {
        "id": "OKnUgozQa8S5"
      },
      "execution_count": 67,
      "outputs": []
    },
    {
      "cell_type": "code",
      "source": [
        "scaler_model=scaler.fit(label_indexer_df)\n",
        "scaler_df=scaler_model.transform(label_indexer_df)\n",
        "scaler_df.show()"
      ],
      "metadata": {
        "colab": {
          "base_uri": "https://localhost:8080/"
        },
        "id": "D4ougvR4y5i6",
        "outputId": "1a8ca5cf-29fa-4637-f9f0-94b887ff4f92"
      },
      "execution_count": 68,
      "outputs": [
        {
          "output_type": "stream",
          "name": "stdout",
          "text": [
            "+--------------------+--------------------+--------------------+--------------------+------+--------------------+------------+----------+---------------+---------------+----------------+-----------------+--------------+-----------------+-------------------+-----------------+-----------------------+-----+--------------------+\n",
            "|               title|            director|                cast|           listed_in|rating|             country|release_year|rating_udf|rating_udfIndex|country_indexed|director_indexed|listed_in_indexed|rating_encoded|  country_encoded|   director_encoded|listed_in_encoded|vectorized_features_out|label|            features|\n",
            "+--------------------+--------------------+--------------------+--------------------+------+--------------------+------------+----------+---------------+---------------+----------------+-----------------+--------------+-----------------+-------------------+-----------------+-----------------------+-----+--------------------+\n",
            "|The Battle of Midway|           John Ford|Henry Fonda, Jane...|Classic Movies, D...| TV-14|       United States|        1942| Teenagers|            1.0|            0.0|          2151.0|            120.0| (3,[1],[1.0])|  (603,[0],[1.0])|(3936,[2151],[1.0])|(334,[120],[1.0])|   (4874,[0,2754,465...|  1.0|(4874,[0,2754,465...|\n",
            "|    Tunisian Victory|Frank Capra, John...|    Burgess Meredith|Classic Movies, D...| TV-14|United States, Un...|        1944| Teenagers|            1.0|           22.0|          1687.0|            120.0| (3,[1],[1.0])| (603,[22],[1.0])|(3936,[1687],[1.0])|(334,[120],[1.0])|   (4874,[22,2290,46...|  1.0|(4874,[22,2290,46...|\n",
            "|Know Your Enemy -...|Frank Capra, Jori...|Walter Huston, Da...|Classic Movies, D...| TV-14|       United States|        1945| Teenagers|            1.0|            0.0|          1688.0|            120.0| (3,[1],[1.0])|  (603,[0],[1.0])|(3936,[1688],[1.0])|(334,[120],[1.0])|   (4874,[0,2291,465...|  1.0|(4874,[0,2291,465...|\n",
            "|  Let There Be Light|         John Huston|       Walter Huston|Classic Movies, D...| TV-PG|       United States|        1946| Teenagers|            1.0|            0.0|          2155.0|            120.0| (3,[1],[1.0])|  (603,[0],[1.0])|(3936,[2155],[1.0])|(334,[120],[1.0])|   (4874,[0,2758,465...|  1.0|(4874,[0,2758,465...|\n",
            "|         Thunderbolt|William Wyler, Jo...|James Stewart, Ll...|Classic Movies, D...| TV-PG|       United States|        1947| Teenagers|            1.0|            0.0|          3863.0|            120.0| (3,[1],[1.0])|  (603,[0],[1.0])|(3936,[3863],[1.0])|(334,[120],[1.0])|   (4874,[0,4466,465...|  1.0|(4874,[0,4466,465...|\n",
            "|     White Christmas|      Michael Curtiz|Bing Crosby, Dann...|Children & Family...|  TV-G|       United States|        1954|    Adults|            0.0|            0.0|          2748.0|            156.0| (3,[0],[1.0])|  (603,[0],[1.0])|(3936,[2748],[1.0])|(334,[156],[1.0])|   (4874,[0,3351,469...|  0.0|(4874,[0,3351,469...|\n",
            "|     The Blazing Sun|     Youssef Chahine|Omar Sharif, Fate...|Classic Movies, D...| TV-14|               Egypt|        1954| Teenagers|            1.0|            5.0|             6.0|             56.0| (3,[1],[1.0])|  (603,[5],[1.0])|   (3936,[6],[1.0])| (334,[56],[1.0])|   (4874,[5,609,4595...|  1.0|(4874,[5,609,4595...|\n",
            "|Rebel Without a C...|        Nicholas Ray|James Dean, Natal...|Classic Movies, D...| PG-13|       United States|        1955| Teenagers|            1.0|            0.0|          2899.0|             68.0| (3,[1],[1.0])|  (603,[0],[1.0])|(3936,[2899],[1.0])| (334,[68],[1.0])|   (4874,[0,3502,460...|  1.0|(4874,[0,3502,460...|\n",
            "| Scandal in Sorrento|           Dino Risi|Vittorio De Sica,...|Classic Movies, C...| TV-PG|       Italy, France|        1955| Teenagers|            1.0|           70.0|           401.0|            193.0| (3,[1],[1.0])| (603,[70],[1.0])| (3936,[401],[1.0])|(334,[193],[1.0])|   (4874,[70,1004,47...|  1.0|(4874,[70,1004,47...|\n",
            "|   The Sign of Venus|           Dino Risi|Sophia Loren, Fra...|Classic Movies, C...| TV-14|               Italy|        1955| Teenagers|            1.0|           25.0|           401.0|            193.0| (3,[1],[1.0])| (603,[25],[1.0])| (3936,[401],[1.0])|(334,[193],[1.0])|   (4874,[25,1004,47...|  1.0|(4874,[25,1004,47...|\n",
            "|         Dark Waters|     Youssef Chahine|Faten Hamama, Oma...|Classic Movies, D...| TV-14|               Egypt|        1956| Teenagers|            1.0|            5.0|             6.0|             56.0| (3,[1],[1.0])|  (603,[5],[1.0])|   (3936,[6],[1.0])| (334,[56],[1.0])|   (4874,[5,609,4595...|  1.0|(4874,[5,609,4595...|\n",
            "|    Forbidden Planet|      Fred M. Wilcox|Leslie Nielsen, W...|Action & Adventur...|     G|       United States|        1956| Teenagers|            1.0|            0.0|          1698.0|            230.0| (3,[1],[1.0])|  (603,[0],[1.0])|(3936,[1698],[1.0])|(334,[230],[1.0])|   (4874,[0,2301,476...|  1.0|(4874,[0,2301,476...|\n",
            "|       Cairo Station|     Youssef Chahine|Farid Shawqy, Hin...|Classic Movies, D...| TV-14|               Egypt|        1958| Teenagers|            1.0|            5.0|             6.0|             56.0| (3,[1],[1.0])|  (603,[5],[1.0])|   (3936,[6],[1.0])| (334,[56],[1.0])|   (4874,[5,609,4595...|  1.0|(4874,[5,609,4595...|\n",
            "|Cat on a Hot Tin ...|      Richard Brooks|Elizabeth Taylor,...|Classic Movies, D...|    NR|       United States|        1958|       N/A|            3.0|            0.0|          3222.0|             68.0|     (3,[],[])|  (603,[0],[1.0])|(3936,[3222],[1.0])| (334,[68],[1.0])|   (4874,[0,3825,460...|  3.0|(4874,[0,3825,460...|\n",
            "|                Gigi|Vincente Minnelli...|Leslie Caron, Mau...|Classic Movies, C...|     G|       United States|        1958| Teenagers|            1.0|            0.0|          3824.0|            194.0| (3,[1],[1.0])|  (603,[0],[1.0])|(3936,[3824],[1.0])|(334,[194],[1.0])|   (4874,[0,4427,473...|  1.0|(4874,[0,4427,473...|\n",
            "|               Ujala|       Naresh Saigal|Mala Sinha, Shamm...|Dramas, Internati...| TV-14|               India|        1959| Teenagers|            1.0|            1.0|          2871.0|              0.0| (3,[1],[1.0])|  (603,[1],[1.0])|(3936,[2871],[1.0])|  (334,[0],[1.0])|   (4874,[1,3474,453...|  1.0|(4874,[1,3474,453...|\n",
            "|           Singapore|      Shakti Samanta|Shammi Kapoor, Pa...|Comedies, Dramas,...| TV-PG|     India, Malaysia|        1960| Teenagers|            1.0|          305.0|           660.0|              2.0| (3,[1],[1.0])|(603,[305],[1.0])| (3936,[660],[1.0])|  (334,[2],[1.0])|   (4874,[305,1263,4...|  1.0|(4874,[305,1263,4...|\n",
            "|       Butterfield 8|         Daniel Mann|Elizabeth Taylor,...|Classic Movies, D...| TV-14|       United States|        1960| Teenagers|            1.0|            0.0|          1401.0|            162.0| (3,[1],[1.0])|  (603,[0],[1.0])|(3936,[1401],[1.0])|(334,[162],[1.0])|   (4874,[0,2004,470...|  1.0|(4874,[0,2004,470...|\n",
            "|      Ocean's Eleven|     Lewis Milestone|Frank Sinatra, De...|Action & Adventur...| TV-PG|       United States|        1960| Teenagers|            1.0|            0.0|          2486.0|            135.0| (3,[1],[1.0])|  (603,[0],[1.0])|(3936,[2486],[1.0])|(334,[135],[1.0])|   (4874,[0,3089,467...|  1.0|(4874,[0,3089,467...|\n",
            "|The Guns of Navarone|     J. Lee Thompson|Gregory Peck, Dav...|Action & Adventur...| TV-14|United Kingdom, U...|        1961| Teenagers|            1.0|           13.0|          1953.0|            112.0| (3,[1],[1.0])| (603,[13],[1.0])|(3936,[1953],[1.0])|(334,[112],[1.0])|   (4874,[13,2556,46...|  1.0|(4874,[13,2556,46...|\n",
            "+--------------------+--------------------+--------------------+--------------------+------+--------------------+------------+----------+---------------+---------------+----------------+-----------------+--------------+-----------------+-------------------+-----------------+-----------------------+-----+--------------------+\n",
            "only showing top 20 rows\n",
            "\n"
          ]
        }
      ]
    },
    {
      "cell_type": "markdown",
      "source": [
        "Imparrtirea setului de date in test si train"
      ],
      "metadata": {
        "id": "3MC9J59cJR0C"
      }
    },
    {
      "cell_type": "code",
      "source": [
        "train, test= scaler_df.randomSplit([0.8, 0.2], seed = 2018)\n",
        "print(\"Training:\" + str(train.count()))\n",
        "print(\"Testing:\" + str(test.count()))\n"
      ],
      "metadata": {
        "colab": {
          "base_uri": "https://localhost:8080/"
        },
        "id": "UocwfMWzJQ2Y",
        "outputId": "4b339620-6c7a-4fc8-c134-4d249ebfe829"
      },
      "execution_count": 69,
      "outputs": [
        {
          "output_type": "stream",
          "name": "stdout",
          "text": [
            "Training:4292\n",
            "Testing:1024\n"
          ]
        }
      ]
    },
    {
      "cell_type": "code",
      "source": [
        "train.groupby(\"rating_udf\").count().show()"
      ],
      "metadata": {
        "colab": {
          "base_uri": "https://localhost:8080/"
        },
        "id": "LJOfDzRwJ-pH",
        "outputId": "70f872e2-7fdf-434b-a3cc-2c8b7e42a0c6"
      },
      "execution_count": 70,
      "outputs": [
        {
          "output_type": "stream",
          "name": "stdout",
          "text": [
            "+----------+-----+\n",
            "|rating_udf|count|\n",
            "+----------+-----+\n",
            "| Teenagers| 1959|\n",
            "|       N/A|   51|\n",
            "|  Children|  126|\n",
            "|    Adults| 2156|\n",
            "+----------+-----+\n",
            "\n"
          ]
        }
      ]
    },
    {
      "cell_type": "markdown",
      "source": [
        "Antrenarea modelului:"
      ],
      "metadata": {
        "id": "Q8rF_624KbJn"
      }
    },
    {
      "cell_type": "code",
      "source": [
        "from pyspark.ml.classification import LogisticRegression"
      ],
      "metadata": {
        "id": "leesBX16Kdrv"
      },
      "execution_count": 71,
      "outputs": []
    },
    {
      "cell_type": "code",
      "source": [
        "lr=LogisticRegression(featuresCol='features', labelCol='label', maxIter=5)\n",
        "lrModel=lr.fit(train)\n",
        "predictions = lrModel.transform(test)\n",
        "predictions.select('label', 'features', 'rawPrediction', 'prediction', 'probability' ).toPandas().head(5)"
      ],
      "metadata": {
        "colab": {
          "base_uri": "https://localhost:8080/",
          "height": 206
        },
        "id": "93XgO1UCKojj",
        "outputId": "1f69c9fd-a195-4f02-9f07-c6a1591fd50a"
      },
      "execution_count": 72,
      "outputs": [
        {
          "output_type": "execute_result",
          "data": {
            "text/plain": [
              "   label                                           features  \\\n",
              "0    0.0  (0.0, 0.0, 0.0, 0.0, 0.0, 0.0, 0.0, 0.0, 0.0, ...   \n",
              "1    1.0  (2.1028977685248162, 0.0, 0.0, 0.0, 0.0, 0.0, ...   \n",
              "2    1.0  (2.1028977685248162, 0.0, 0.0, 0.0, 0.0, 0.0, ...   \n",
              "3    1.0  (0.0, 0.0, 0.0, 0.0, 0.0, 0.0, 0.0, 0.0, 0.0, ...   \n",
              "4    1.0  (0.0, 0.0, 0.0, 0.0, 0.0, 0.0, 0.0, 0.0, 0.0, ...   \n",
              "\n",
              "                                       rawPrediction  prediction  \\\n",
              "0  [2.7966739920552257, 1.0362036439696425, -1.71...         0.0   \n",
              "1  [1.6196192391916213, 1.9423363031701513, -1.47...         1.0   \n",
              "2  [0.5513024980409824, 2.9429496054799955, -1.35...         1.0   \n",
              "3  [4.073586194094901, -0.2376074450211263, -1.52...         0.0   \n",
              "4  [1.7198178217476112, 2.136823399450833, -1.563...         1.0   \n",
              "\n",
              "                                         probability  \n",
              "0  [0.8401296497697716, 0.14447202306579301, 0.00...  \n",
              "1  [0.40804284660263834, 0.5634560011426484, 0.01...  \n",
              "2  [0.08231841204405566, 0.8998624413881202, 0.01...  \n",
              "3  [0.9815349899732081, 0.01316976962840571, 0.00...  \n",
              "4  [0.38865100546530834, 0.5897433017517467, 0.01...  "
            ],
            "text/html": [
              "\n",
              "  <div id=\"df-8ebcddd7-c534-4552-9505-0e04c3118f5a\">\n",
              "    <div class=\"colab-df-container\">\n",
              "      <div>\n",
              "<style scoped>\n",
              "    .dataframe tbody tr th:only-of-type {\n",
              "        vertical-align: middle;\n",
              "    }\n",
              "\n",
              "    .dataframe tbody tr th {\n",
              "        vertical-align: top;\n",
              "    }\n",
              "\n",
              "    .dataframe thead th {\n",
              "        text-align: right;\n",
              "    }\n",
              "</style>\n",
              "<table border=\"1\" class=\"dataframe\">\n",
              "  <thead>\n",
              "    <tr style=\"text-align: right;\">\n",
              "      <th></th>\n",
              "      <th>label</th>\n",
              "      <th>features</th>\n",
              "      <th>rawPrediction</th>\n",
              "      <th>prediction</th>\n",
              "      <th>probability</th>\n",
              "    </tr>\n",
              "  </thead>\n",
              "  <tbody>\n",
              "    <tr>\n",
              "      <th>0</th>\n",
              "      <td>0.0</td>\n",
              "      <td>(0.0, 0.0, 0.0, 0.0, 0.0, 0.0, 0.0, 0.0, 0.0, ...</td>\n",
              "      <td>[2.7966739920552257, 1.0362036439696425, -1.71...</td>\n",
              "      <td>0.0</td>\n",
              "      <td>[0.8401296497697716, 0.14447202306579301, 0.00...</td>\n",
              "    </tr>\n",
              "    <tr>\n",
              "      <th>1</th>\n",
              "      <td>1.0</td>\n",
              "      <td>(2.1028977685248162, 0.0, 0.0, 0.0, 0.0, 0.0, ...</td>\n",
              "      <td>[1.6196192391916213, 1.9423363031701513, -1.47...</td>\n",
              "      <td>1.0</td>\n",
              "      <td>[0.40804284660263834, 0.5634560011426484, 0.01...</td>\n",
              "    </tr>\n",
              "    <tr>\n",
              "      <th>2</th>\n",
              "      <td>1.0</td>\n",
              "      <td>(2.1028977685248162, 0.0, 0.0, 0.0, 0.0, 0.0, ...</td>\n",
              "      <td>[0.5513024980409824, 2.9429496054799955, -1.35...</td>\n",
              "      <td>1.0</td>\n",
              "      <td>[0.08231841204405566, 0.8998624413881202, 0.01...</td>\n",
              "    </tr>\n",
              "    <tr>\n",
              "      <th>3</th>\n",
              "      <td>1.0</td>\n",
              "      <td>(0.0, 0.0, 0.0, 0.0, 0.0, 0.0, 0.0, 0.0, 0.0, ...</td>\n",
              "      <td>[4.073586194094901, -0.2376074450211263, -1.52...</td>\n",
              "      <td>0.0</td>\n",
              "      <td>[0.9815349899732081, 0.01316976962840571, 0.00...</td>\n",
              "    </tr>\n",
              "    <tr>\n",
              "      <th>4</th>\n",
              "      <td>1.0</td>\n",
              "      <td>(0.0, 0.0, 0.0, 0.0, 0.0, 0.0, 0.0, 0.0, 0.0, ...</td>\n",
              "      <td>[1.7198178217476112, 2.136823399450833, -1.563...</td>\n",
              "      <td>1.0</td>\n",
              "      <td>[0.38865100546530834, 0.5897433017517467, 0.01...</td>\n",
              "    </tr>\n",
              "  </tbody>\n",
              "</table>\n",
              "</div>\n",
              "      <button class=\"colab-df-convert\" onclick=\"convertToInteractive('df-8ebcddd7-c534-4552-9505-0e04c3118f5a')\"\n",
              "              title=\"Convert this dataframe to an interactive table.\"\n",
              "              style=\"display:none;\">\n",
              "        \n",
              "  <svg xmlns=\"http://www.w3.org/2000/svg\" height=\"24px\"viewBox=\"0 0 24 24\"\n",
              "       width=\"24px\">\n",
              "    <path d=\"M0 0h24v24H0V0z\" fill=\"none\"/>\n",
              "    <path d=\"M18.56 5.44l.94 2.06.94-2.06 2.06-.94-2.06-.94-.94-2.06-.94 2.06-2.06.94zm-11 1L8.5 8.5l.94-2.06 2.06-.94-2.06-.94L8.5 2.5l-.94 2.06-2.06.94zm10 10l.94 2.06.94-2.06 2.06-.94-2.06-.94-.94-2.06-.94 2.06-2.06.94z\"/><path d=\"M17.41 7.96l-1.37-1.37c-.4-.4-.92-.59-1.43-.59-.52 0-1.04.2-1.43.59L10.3 9.45l-7.72 7.72c-.78.78-.78 2.05 0 2.83L4 21.41c.39.39.9.59 1.41.59.51 0 1.02-.2 1.41-.59l7.78-7.78 2.81-2.81c.8-.78.8-2.07 0-2.86zM5.41 20L4 18.59l7.72-7.72 1.47 1.35L5.41 20z\"/>\n",
              "  </svg>\n",
              "      </button>\n",
              "      \n",
              "  <style>\n",
              "    .colab-df-container {\n",
              "      display:flex;\n",
              "      flex-wrap:wrap;\n",
              "      gap: 12px;\n",
              "    }\n",
              "\n",
              "    .colab-df-convert {\n",
              "      background-color: #E8F0FE;\n",
              "      border: none;\n",
              "      border-radius: 50%;\n",
              "      cursor: pointer;\n",
              "      display: none;\n",
              "      fill: #1967D2;\n",
              "      height: 32px;\n",
              "      padding: 0 0 0 0;\n",
              "      width: 32px;\n",
              "    }\n",
              "\n",
              "    .colab-df-convert:hover {\n",
              "      background-color: #E2EBFA;\n",
              "      box-shadow: 0px 1px 2px rgba(60, 64, 67, 0.3), 0px 1px 3px 1px rgba(60, 64, 67, 0.15);\n",
              "      fill: #174EA6;\n",
              "    }\n",
              "\n",
              "    [theme=dark] .colab-df-convert {\n",
              "      background-color: #3B4455;\n",
              "      fill: #D2E3FC;\n",
              "    }\n",
              "\n",
              "    [theme=dark] .colab-df-convert:hover {\n",
              "      background-color: #434B5C;\n",
              "      box-shadow: 0px 1px 3px 1px rgba(0, 0, 0, 0.15);\n",
              "      filter: drop-shadow(0px 1px 2px rgba(0, 0, 0, 0.3));\n",
              "      fill: #FFFFFF;\n",
              "    }\n",
              "  </style>\n",
              "\n",
              "      <script>\n",
              "        const buttonEl =\n",
              "          document.querySelector('#df-8ebcddd7-c534-4552-9505-0e04c3118f5a button.colab-df-convert');\n",
              "        buttonEl.style.display =\n",
              "          google.colab.kernel.accessAllowed ? 'block' : 'none';\n",
              "\n",
              "        async function convertToInteractive(key) {\n",
              "          const element = document.querySelector('#df-8ebcddd7-c534-4552-9505-0e04c3118f5a');\n",
              "          const dataTable =\n",
              "            await google.colab.kernel.invokeFunction('convertToInteractive',\n",
              "                                                     [key], {});\n",
              "          if (!dataTable) return;\n",
              "\n",
              "          const docLinkHtml = 'Like what you see? Visit the ' +\n",
              "            '<a target=\"_blank\" href=https://colab.research.google.com/notebooks/data_table.ipynb>data table notebook</a>'\n",
              "            + ' to learn more about interactive tables.';\n",
              "          element.innerHTML = '';\n",
              "          dataTable['output_type'] = 'display_data';\n",
              "          await google.colab.output.renderOutput(dataTable, element);\n",
              "          const docLink = document.createElement('div');\n",
              "          docLink.innerHTML = docLinkHtml;\n",
              "          element.appendChild(docLink);\n",
              "        }\n",
              "      </script>\n",
              "    </div>\n",
              "  </div>\n",
              "  "
            ]
          },
          "metadata": {},
          "execution_count": 72
        }
      ]
    },
    {
      "cell_type": "markdown",
      "source": [
        "Calcularea acuratetii\n"
      ],
      "metadata": {
        "id": "oAHUeUVpMp_-"
      }
    },
    {
      "cell_type": "code",
      "source": [
        "accuracy = predictions.filter(predictions.label == predictions.prediction).count()/float(predictions.count())\n",
        "print(\"Accuracy:\", accuracy)"
      ],
      "metadata": {
        "colab": {
          "base_uri": "https://localhost:8080/"
        },
        "id": "UX2svkzAMt_O",
        "outputId": "ef02043b-b54b-4e72-c5c6-dfcc3d1a34ac"
      },
      "execution_count": 73,
      "outputs": [
        {
          "output_type": "stream",
          "name": "stdout",
          "text": [
            "Accuracy: 0.6767578125\n"
          ]
        }
      ]
    },
    {
      "cell_type": "markdown",
      "source": [
        "Utilizarea unui Decision Tree Classifier pentru aceeasi problema"
      ],
      "metadata": {
        "id": "XvxlMf_vV1RF"
      }
    },
    {
      "cell_type": "code",
      "source": [
        "from pyspark.ml.classification import DecisionTreeClassifier"
      ],
      "metadata": {
        "id": "dySagc1kWO8y"
      },
      "execution_count": 74,
      "outputs": []
    },
    {
      "cell_type": "code",
      "source": [
        "dt = DecisionTreeClassifier(featuresCol = 'features', labelCol = 'label', maxDepth = 3)\n",
        "dtModel = dt.fit(train)\n",
        "predictions = dtModel.transform(test)\n",
        "predictions.select('label', 'features', 'rawPrediction', 'prediction', 'probability' ).toPandas().head(5)"
      ],
      "metadata": {
        "colab": {
          "base_uri": "https://localhost:8080/",
          "height": 206
        },
        "id": "5dTdbGB4WWUX",
        "outputId": "483b77ce-72d3-486a-cb07-2d5cff49947b"
      },
      "execution_count": 75,
      "outputs": [
        {
          "output_type": "execute_result",
          "data": {
            "text/plain": [
              "   label                                           features  \\\n",
              "0    0.0  (0.0, 0.0, 0.0, 0.0, 0.0, 0.0, 0.0, 0.0, 0.0, ...   \n",
              "1    1.0  (2.1028977685248162, 0.0, 0.0, 0.0, 0.0, 0.0, ...   \n",
              "2    1.0  (2.1028977685248162, 0.0, 0.0, 0.0, 0.0, 0.0, ...   \n",
              "3    1.0  (0.0, 0.0, 0.0, 0.0, 0.0, 0.0, 0.0, 0.0, 0.0, ...   \n",
              "4    1.0  (0.0, 0.0, 0.0, 0.0, 0.0, 0.0, 0.0, 0.0, 0.0, ...   \n",
              "\n",
              "                 rawPrediction  prediction  \\\n",
              "0   [534.0, 661.0, 33.0, 23.0]         1.0   \n",
              "1  [1429.0, 762.0, 44.0, 25.0]         0.0   \n",
              "2  [1429.0, 762.0, 44.0, 25.0]         0.0   \n",
              "3  [1429.0, 762.0, 44.0, 25.0]         0.0   \n",
              "4  [1429.0, 762.0, 44.0, 25.0]         0.0   \n",
              "\n",
              "                                         probability  \n",
              "0  [0.42685851318944845, 0.5283772981614708, 0.02...  \n",
              "1  [0.6323008849557522, 0.33716814159292036, 0.01...  \n",
              "2  [0.6323008849557522, 0.33716814159292036, 0.01...  \n",
              "3  [0.6323008849557522, 0.33716814159292036, 0.01...  \n",
              "4  [0.6323008849557522, 0.33716814159292036, 0.01...  "
            ],
            "text/html": [
              "\n",
              "  <div id=\"df-6322ad56-62c5-4761-b75d-2a48a5cf9b8f\">\n",
              "    <div class=\"colab-df-container\">\n",
              "      <div>\n",
              "<style scoped>\n",
              "    .dataframe tbody tr th:only-of-type {\n",
              "        vertical-align: middle;\n",
              "    }\n",
              "\n",
              "    .dataframe tbody tr th {\n",
              "        vertical-align: top;\n",
              "    }\n",
              "\n",
              "    .dataframe thead th {\n",
              "        text-align: right;\n",
              "    }\n",
              "</style>\n",
              "<table border=\"1\" class=\"dataframe\">\n",
              "  <thead>\n",
              "    <tr style=\"text-align: right;\">\n",
              "      <th></th>\n",
              "      <th>label</th>\n",
              "      <th>features</th>\n",
              "      <th>rawPrediction</th>\n",
              "      <th>prediction</th>\n",
              "      <th>probability</th>\n",
              "    </tr>\n",
              "  </thead>\n",
              "  <tbody>\n",
              "    <tr>\n",
              "      <th>0</th>\n",
              "      <td>0.0</td>\n",
              "      <td>(0.0, 0.0, 0.0, 0.0, 0.0, 0.0, 0.0, 0.0, 0.0, ...</td>\n",
              "      <td>[534.0, 661.0, 33.0, 23.0]</td>\n",
              "      <td>1.0</td>\n",
              "      <td>[0.42685851318944845, 0.5283772981614708, 0.02...</td>\n",
              "    </tr>\n",
              "    <tr>\n",
              "      <th>1</th>\n",
              "      <td>1.0</td>\n",
              "      <td>(2.1028977685248162, 0.0, 0.0, 0.0, 0.0, 0.0, ...</td>\n",
              "      <td>[1429.0, 762.0, 44.0, 25.0]</td>\n",
              "      <td>0.0</td>\n",
              "      <td>[0.6323008849557522, 0.33716814159292036, 0.01...</td>\n",
              "    </tr>\n",
              "    <tr>\n",
              "      <th>2</th>\n",
              "      <td>1.0</td>\n",
              "      <td>(2.1028977685248162, 0.0, 0.0, 0.0, 0.0, 0.0, ...</td>\n",
              "      <td>[1429.0, 762.0, 44.0, 25.0]</td>\n",
              "      <td>0.0</td>\n",
              "      <td>[0.6323008849557522, 0.33716814159292036, 0.01...</td>\n",
              "    </tr>\n",
              "    <tr>\n",
              "      <th>3</th>\n",
              "      <td>1.0</td>\n",
              "      <td>(0.0, 0.0, 0.0, 0.0, 0.0, 0.0, 0.0, 0.0, 0.0, ...</td>\n",
              "      <td>[1429.0, 762.0, 44.0, 25.0]</td>\n",
              "      <td>0.0</td>\n",
              "      <td>[0.6323008849557522, 0.33716814159292036, 0.01...</td>\n",
              "    </tr>\n",
              "    <tr>\n",
              "      <th>4</th>\n",
              "      <td>1.0</td>\n",
              "      <td>(0.0, 0.0, 0.0, 0.0, 0.0, 0.0, 0.0, 0.0, 0.0, ...</td>\n",
              "      <td>[1429.0, 762.0, 44.0, 25.0]</td>\n",
              "      <td>0.0</td>\n",
              "      <td>[0.6323008849557522, 0.33716814159292036, 0.01...</td>\n",
              "    </tr>\n",
              "  </tbody>\n",
              "</table>\n",
              "</div>\n",
              "      <button class=\"colab-df-convert\" onclick=\"convertToInteractive('df-6322ad56-62c5-4761-b75d-2a48a5cf9b8f')\"\n",
              "              title=\"Convert this dataframe to an interactive table.\"\n",
              "              style=\"display:none;\">\n",
              "        \n",
              "  <svg xmlns=\"http://www.w3.org/2000/svg\" height=\"24px\"viewBox=\"0 0 24 24\"\n",
              "       width=\"24px\">\n",
              "    <path d=\"M0 0h24v24H0V0z\" fill=\"none\"/>\n",
              "    <path d=\"M18.56 5.44l.94 2.06.94-2.06 2.06-.94-2.06-.94-.94-2.06-.94 2.06-2.06.94zm-11 1L8.5 8.5l.94-2.06 2.06-.94-2.06-.94L8.5 2.5l-.94 2.06-2.06.94zm10 10l.94 2.06.94-2.06 2.06-.94-2.06-.94-.94-2.06-.94 2.06-2.06.94z\"/><path d=\"M17.41 7.96l-1.37-1.37c-.4-.4-.92-.59-1.43-.59-.52 0-1.04.2-1.43.59L10.3 9.45l-7.72 7.72c-.78.78-.78 2.05 0 2.83L4 21.41c.39.39.9.59 1.41.59.51 0 1.02-.2 1.41-.59l7.78-7.78 2.81-2.81c.8-.78.8-2.07 0-2.86zM5.41 20L4 18.59l7.72-7.72 1.47 1.35L5.41 20z\"/>\n",
              "  </svg>\n",
              "      </button>\n",
              "      \n",
              "  <style>\n",
              "    .colab-df-container {\n",
              "      display:flex;\n",
              "      flex-wrap:wrap;\n",
              "      gap: 12px;\n",
              "    }\n",
              "\n",
              "    .colab-df-convert {\n",
              "      background-color: #E8F0FE;\n",
              "      border: none;\n",
              "      border-radius: 50%;\n",
              "      cursor: pointer;\n",
              "      display: none;\n",
              "      fill: #1967D2;\n",
              "      height: 32px;\n",
              "      padding: 0 0 0 0;\n",
              "      width: 32px;\n",
              "    }\n",
              "\n",
              "    .colab-df-convert:hover {\n",
              "      background-color: #E2EBFA;\n",
              "      box-shadow: 0px 1px 2px rgba(60, 64, 67, 0.3), 0px 1px 3px 1px rgba(60, 64, 67, 0.15);\n",
              "      fill: #174EA6;\n",
              "    }\n",
              "\n",
              "    [theme=dark] .colab-df-convert {\n",
              "      background-color: #3B4455;\n",
              "      fill: #D2E3FC;\n",
              "    }\n",
              "\n",
              "    [theme=dark] .colab-df-convert:hover {\n",
              "      background-color: #434B5C;\n",
              "      box-shadow: 0px 1px 3px 1px rgba(0, 0, 0, 0.15);\n",
              "      filter: drop-shadow(0px 1px 2px rgba(0, 0, 0, 0.3));\n",
              "      fill: #FFFFFF;\n",
              "    }\n",
              "  </style>\n",
              "\n",
              "      <script>\n",
              "        const buttonEl =\n",
              "          document.querySelector('#df-6322ad56-62c5-4761-b75d-2a48a5cf9b8f button.colab-df-convert');\n",
              "        buttonEl.style.display =\n",
              "          google.colab.kernel.accessAllowed ? 'block' : 'none';\n",
              "\n",
              "        async function convertToInteractive(key) {\n",
              "          const element = document.querySelector('#df-6322ad56-62c5-4761-b75d-2a48a5cf9b8f');\n",
              "          const dataTable =\n",
              "            await google.colab.kernel.invokeFunction('convertToInteractive',\n",
              "                                                     [key], {});\n",
              "          if (!dataTable) return;\n",
              "\n",
              "          const docLinkHtml = 'Like what you see? Visit the ' +\n",
              "            '<a target=\"_blank\" href=https://colab.research.google.com/notebooks/data_table.ipynb>data table notebook</a>'\n",
              "            + ' to learn more about interactive tables.';\n",
              "          element.innerHTML = '';\n",
              "          dataTable['output_type'] = 'display_data';\n",
              "          await google.colab.output.renderOutput(dataTable, element);\n",
              "          const docLink = document.createElement('div');\n",
              "          docLink.innerHTML = docLinkHtml;\n",
              "          element.appendChild(docLink);\n",
              "        }\n",
              "      </script>\n",
              "    </div>\n",
              "  </div>\n",
              "  "
            ]
          },
          "metadata": {},
          "execution_count": 75
        }
      ]
    },
    {
      "cell_type": "markdown",
      "source": [
        "Calcularea acuratetii"
      ],
      "metadata": {
        "id": "iJt-UNfNWphE"
      }
    },
    {
      "cell_type": "code",
      "source": [
        "accuracy = predictions.filter(predictions.label == predictions.prediction).count()/float(predictions.count())\n",
        "print(\"Accuracy:\", accuracy)"
      ],
      "metadata": {
        "colab": {
          "base_uri": "https://localhost:8080/"
        },
        "id": "PeCXQuJUWo-j",
        "outputId": "344834bc-cd4c-47ee-9155-84d895126f78"
      },
      "execution_count": 76,
      "outputs": [
        {
          "output_type": "stream",
          "name": "stdout",
          "text": [
            "Accuracy: 0.6044921875\n"
          ]
        }
      ]
    },
    {
      "cell_type": "markdown",
      "source": [
        "4. Adaugarea unui pipeline"
      ],
      "metadata": {
        "id": "bFWfxiNiDm64"
      }
    },
    {
      "cell_type": "code",
      "source": [
        "import pyspark.ml\n",
        "from pyspark.ml.feature import StringIndexer, OneHotEncoder, VectorAssembler\n",
        "from pyspark.ml.classification import LogisticRegression\n",
        "from pyspark.ml import Pipeline\n",
        "from pyspark.ml.feature import StandardScaler\n",
        "from pyspark.ml.classification import LogisticRegression\n",
        "from pyspark.sql.functions import udf"
      ],
      "metadata": {
        "id": "0Rtg-Ju4Dpu4"
      },
      "execution_count": 77,
      "outputs": []
    },
    {
      "cell_type": "code",
      "source": [
        "from pyspark.sql.functions import udf\n",
        "def udf_content_rating_group(rating):\n",
        "  if rating == \"TV-Y\" or rating == \"TV-Y7\":\n",
        "    return 'Children'\n",
        "  elif rating == \"TV-MA\" or rating == \"NC-17\" or rating == \"R\" or rating == \"TV-G\":\n",
        "    return 'Adults'\n",
        "  elif rating ==\"TV-Y7-FV\" or rating == \"TV-PG\" or rating== \"TV-14\"  or rating == \"PG\" or rating == \"G\" or rating == \"PG-13\":\n",
        "    return 'Teenagers'\n",
        "  else:\n",
        "    return 'N/A'"
      ],
      "metadata": {
        "id": "DZdpfjggdtCr"
      },
      "execution_count": 78,
      "outputs": []
    },
    {
      "cell_type": "code",
      "source": [
        "stringIndexer1p=StringIndexer().setInputCol(\"rating_udf_p\").setOutputCol(\"rating_udfIndex_p\")\n",
        "stringIndexer2p=StringIndexer().setInputCol(\"country\").setOutputCol(\"country_indexed_p\")\n",
        "stringIndexer3p=StringIndexer().setInputCol(\"director\").setOutputCol(\"director_indexed_p\")\n",
        "stringIndexer4p=StringIndexer().setInputCol(\"listed_in\").setOutputCol(\"listed_in_indexed_p\")"
      ],
      "metadata": {
        "id": "Myq-OcAmd8ZH"
      },
      "execution_count": 94,
      "outputs": []
    },
    {
      "cell_type": "code",
      "source": [
        "encoder_p=OneHotEncoder().setInputCols([\"rating_udfIndex_p\",\"country_indexed_p\", \"director_indexed_p\", \"listed_in_indexed_p\" ]).setOutputCols([\"rating_encoded_p\", \"country_encoded_p\", \"director_encoded_p\", \"listed_in_encoded_p\"])"
      ],
      "metadata": {
        "id": "BgttQL5Id9EO"
      },
      "execution_count": 95,
      "outputs": []
    },
    {
      "cell_type": "code",
      "source": [
        "assembler_p=VectorAssembler().setInputCols([ \"country_encoded_p\", \"director_encoded_p\", \"listed_in_encoded_p\",  \"release_year\"]).setOutputCol(\"vectorized_features_out\")"
      ],
      "metadata": {
        "id": "vUxXRvzyeCx7"
      },
      "execution_count": 102,
      "outputs": []
    },
    {
      "cell_type": "code",
      "source": [
        "label_indexer_p = StringIndexer().setInputCol(\"rating_udfIndex_p\").setOutputCol(\"label\")"
      ],
      "metadata": {
        "id": "ivfRKcPSeVTc"
      },
      "execution_count": 97,
      "outputs": []
    },
    {
      "cell_type": "code",
      "source": [
        "scaler_p=StandardScaler().setInputCol(\"vectorized_features_out\").setOutputCol(\"features\")"
      ],
      "metadata": {
        "id": "OHmbhV2iedtu"
      },
      "execution_count": 98,
      "outputs": []
    },
    {
      "cell_type": "code",
      "source": [
        "dataframeforpipeline=spark.sql(\"Select title, director, cast, listed_in, rating, country, cast(release_year as int) from NetflixTableClean\")\n",
        "dataframeforpipeline.show()"
      ],
      "metadata": {
        "colab": {
          "base_uri": "https://localhost:8080/"
        },
        "id": "HaVjS5nlPqW6",
        "outputId": "5cf3099b-885a-4e45-a560-141348e3b4c4"
      },
      "execution_count": 99,
      "outputs": [
        {
          "output_type": "stream",
          "name": "stdout",
          "text": [
            "+--------------------+--------------------+--------------------+--------------------+------+--------------------+------------+\n",
            "|               title|            director|                cast|           listed_in|rating|             country|release_year|\n",
            "+--------------------+--------------------+--------------------+--------------------+------+--------------------+------------+\n",
            "|The Battle of Midway|           John Ford|Henry Fonda, Jane...|Classic Movies, D...| TV-14|       United States|        1942|\n",
            "|    Tunisian Victory|Frank Capra, John...|    Burgess Meredith|Classic Movies, D...| TV-14|United States, Un...|        1944|\n",
            "|Know Your Enemy -...|Frank Capra, Jori...|Walter Huston, Da...|Classic Movies, D...| TV-14|       United States|        1945|\n",
            "|  Let There Be Light|         John Huston|       Walter Huston|Classic Movies, D...| TV-PG|       United States|        1946|\n",
            "|         Thunderbolt|William Wyler, Jo...|James Stewart, Ll...|Classic Movies, D...| TV-PG|       United States|        1947|\n",
            "|     White Christmas|      Michael Curtiz|Bing Crosby, Dann...|Children & Family...|  TV-G|       United States|        1954|\n",
            "|     The Blazing Sun|     Youssef Chahine|Omar Sharif, Fate...|Classic Movies, D...| TV-14|               Egypt|        1954|\n",
            "|   The Sign of Venus|           Dino Risi|Sophia Loren, Fra...|Classic Movies, C...| TV-14|               Italy|        1955|\n",
            "|Rebel Without a C...|        Nicholas Ray|James Dean, Natal...|Classic Movies, D...| PG-13|       United States|        1955|\n",
            "| Scandal in Sorrento|           Dino Risi|Vittorio De Sica,...|Classic Movies, C...| TV-PG|       Italy, France|        1955|\n",
            "|    Forbidden Planet|      Fred M. Wilcox|Leslie Nielsen, W...|Action & Adventur...|     G|       United States|        1956|\n",
            "|         Dark Waters|     Youssef Chahine|Faten Hamama, Oma...|Classic Movies, D...| TV-14|               Egypt|        1956|\n",
            "|                Gigi|Vincente Minnelli...|Leslie Caron, Mau...|Classic Movies, C...|     G|       United States|        1958|\n",
            "|       Cairo Station|     Youssef Chahine|Farid Shawqy, Hin...|Classic Movies, D...| TV-14|               Egypt|        1958|\n",
            "|Cat on a Hot Tin ...|      Richard Brooks|Elizabeth Taylor,...|Classic Movies, D...|    NR|       United States|        1958|\n",
            "|               Ujala|       Naresh Saigal|Mala Sinha, Shamm...|Dramas, Internati...| TV-14|               India|        1959|\n",
            "|           Singapore|      Shakti Samanta|Shammi Kapoor, Pa...|Comedies, Dramas,...| TV-PG|     India, Malaysia|        1960|\n",
            "|       Butterfield 8|         Daniel Mann|Elizabeth Taylor,...|Classic Movies, D...| TV-14|       United States|        1960|\n",
            "|      Ocean's Eleven|     Lewis Milestone|Frank Sinatra, De...|Action & Adventur...| TV-PG|       United States|        1960|\n",
            "|The Guns of Navarone|     J. Lee Thompson|Gregory Peck, Dav...|Action & Adventur...| TV-14|United Kingdom, U...|        1961|\n",
            "+--------------------+--------------------+--------------------+--------------------+------+--------------------+------------+\n",
            "only showing top 20 rows\n",
            "\n"
          ]
        }
      ]
    },
    {
      "cell_type": "code",
      "source": [
        "rating_udf_p= udf(udf_content_rating_group)\n",
        "dataframeforpipeline=dataframeforpipeline.withColumn(\"rating_udf_p\",rating_udf('rating'))\n",
        "dataframeforpipeline.show()"
      ],
      "metadata": {
        "colab": {
          "base_uri": "https://localhost:8080/"
        },
        "id": "C2Ojf2MeQfFe",
        "outputId": "17a9b76d-e0ff-4171-a853-9f8baf375c0f"
      },
      "execution_count": 100,
      "outputs": [
        {
          "output_type": "stream",
          "name": "stdout",
          "text": [
            "+--------------------+--------------------+--------------------+--------------------+------+--------------------+------------+------------+\n",
            "|               title|            director|                cast|           listed_in|rating|             country|release_year|rating_udf_p|\n",
            "+--------------------+--------------------+--------------------+--------------------+------+--------------------+------------+------------+\n",
            "|The Battle of Midway|           John Ford|Henry Fonda, Jane...|Classic Movies, D...| TV-14|       United States|        1942|   Teenagers|\n",
            "|    Tunisian Victory|Frank Capra, John...|    Burgess Meredith|Classic Movies, D...| TV-14|United States, Un...|        1944|   Teenagers|\n",
            "|Know Your Enemy -...|Frank Capra, Jori...|Walter Huston, Da...|Classic Movies, D...| TV-14|       United States|        1945|   Teenagers|\n",
            "|  Let There Be Light|         John Huston|       Walter Huston|Classic Movies, D...| TV-PG|       United States|        1946|   Teenagers|\n",
            "|         Thunderbolt|William Wyler, Jo...|James Stewart, Ll...|Classic Movies, D...| TV-PG|       United States|        1947|   Teenagers|\n",
            "|     White Christmas|      Michael Curtiz|Bing Crosby, Dann...|Children & Family...|  TV-G|       United States|        1954|      Adults|\n",
            "|     The Blazing Sun|     Youssef Chahine|Omar Sharif, Fate...|Classic Movies, D...| TV-14|               Egypt|        1954|   Teenagers|\n",
            "|Rebel Without a C...|        Nicholas Ray|James Dean, Natal...|Classic Movies, D...| PG-13|       United States|        1955|   Teenagers|\n",
            "| Scandal in Sorrento|           Dino Risi|Vittorio De Sica,...|Classic Movies, C...| TV-PG|       Italy, France|        1955|   Teenagers|\n",
            "|   The Sign of Venus|           Dino Risi|Sophia Loren, Fra...|Classic Movies, C...| TV-14|               Italy|        1955|   Teenagers|\n",
            "|         Dark Waters|     Youssef Chahine|Faten Hamama, Oma...|Classic Movies, D...| TV-14|               Egypt|        1956|   Teenagers|\n",
            "|    Forbidden Planet|      Fred M. Wilcox|Leslie Nielsen, W...|Action & Adventur...|     G|       United States|        1956|   Teenagers|\n",
            "|       Cairo Station|     Youssef Chahine|Farid Shawqy, Hin...|Classic Movies, D...| TV-14|               Egypt|        1958|   Teenagers|\n",
            "|Cat on a Hot Tin ...|      Richard Brooks|Elizabeth Taylor,...|Classic Movies, D...|    NR|       United States|        1958|         N/A|\n",
            "|                Gigi|Vincente Minnelli...|Leslie Caron, Mau...|Classic Movies, C...|     G|       United States|        1958|   Teenagers|\n",
            "|               Ujala|       Naresh Saigal|Mala Sinha, Shamm...|Dramas, Internati...| TV-14|               India|        1959|   Teenagers|\n",
            "|           Singapore|      Shakti Samanta|Shammi Kapoor, Pa...|Comedies, Dramas,...| TV-PG|     India, Malaysia|        1960|   Teenagers|\n",
            "|       Butterfield 8|         Daniel Mann|Elizabeth Taylor,...|Classic Movies, D...| TV-14|       United States|        1960|   Teenagers|\n",
            "|      Ocean's Eleven|     Lewis Milestone|Frank Sinatra, De...|Action & Adventur...| TV-PG|       United States|        1960|   Teenagers|\n",
            "|The Guns of Navarone|     J. Lee Thompson|Gregory Peck, Dav...|Action & Adventur...| TV-14|United Kingdom, U...|        1961|   Teenagers|\n",
            "+--------------------+--------------------+--------------------+--------------------+------+--------------------+------------+------------+\n",
            "only showing top 20 rows\n",
            "\n"
          ]
        }
      ]
    },
    {
      "cell_type": "code",
      "source": [
        "pipeline_stages=Pipeline().setStages([stringIndexer1p,stringIndexer2p, stringIndexer3p,  stringIndexer4p, encoder_p, assembler_p,label_indexer_p, scaler_p  ])\n",
        "pipeline_model=pipeline_stages.fit(dataframeforpipeline)\n",
        "pipeline_df=pipeline_model.transform(dataframeforpipeline)\n",
        "pipeline_df.show()"
      ],
      "metadata": {
        "colab": {
          "base_uri": "https://localhost:8080/"
        },
        "id": "wMXgr2fjQn7k",
        "outputId": "65d03720-d960-44b0-cf79-7f0d9908f0f2"
      },
      "execution_count": 105,
      "outputs": [
        {
          "output_type": "stream",
          "name": "stdout",
          "text": [
            "+--------------------+--------------------+--------------------+--------------------+------+--------------------+------------+------------+-----------------+-----------------+------------------+-------------------+----------------+-----------------+-------------------+-------------------+-----------------------+-----+--------------------+\n",
            "|               title|            director|                cast|           listed_in|rating|             country|release_year|rating_udf_p|rating_udfIndex_p|country_indexed_p|director_indexed_p|listed_in_indexed_p|rating_encoded_p|country_encoded_p| director_encoded_p|listed_in_encoded_p|vectorized_features_out|label|            features|\n",
            "+--------------------+--------------------+--------------------+--------------------+------+--------------------+------------+------------+-----------------+-----------------+------------------+-------------------+----------------+-----------------+-------------------+-------------------+-----------------------+-----+--------------------+\n",
            "|The Battle of Midway|           John Ford|Henry Fonda, Jane...|Classic Movies, D...| TV-14|       United States|        1942|   Teenagers|              1.0|              0.0|            2151.0|              120.0|   (3,[1],[1.0])|  (603,[0],[1.0])|(3936,[2151],[1.0])|  (334,[120],[1.0])|   (4874,[0,2754,465...|  1.0|(4874,[0,2754,465...|\n",
            "|    Tunisian Victory|Frank Capra, John...|    Burgess Meredith|Classic Movies, D...| TV-14|United States, Un...|        1944|   Teenagers|              1.0|             22.0|            1687.0|              120.0|   (3,[1],[1.0])| (603,[22],[1.0])|(3936,[1687],[1.0])|  (334,[120],[1.0])|   (4874,[22,2290,46...|  1.0|(4874,[22,2290,46...|\n",
            "|Know Your Enemy -...|Frank Capra, Jori...|Walter Huston, Da...|Classic Movies, D...| TV-14|       United States|        1945|   Teenagers|              1.0|              0.0|            1688.0|              120.0|   (3,[1],[1.0])|  (603,[0],[1.0])|(3936,[1688],[1.0])|  (334,[120],[1.0])|   (4874,[0,2291,465...|  1.0|(4874,[0,2291,465...|\n",
            "|  Let There Be Light|         John Huston|       Walter Huston|Classic Movies, D...| TV-PG|       United States|        1946|   Teenagers|              1.0|              0.0|            2155.0|              120.0|   (3,[1],[1.0])|  (603,[0],[1.0])|(3936,[2155],[1.0])|  (334,[120],[1.0])|   (4874,[0,2758,465...|  1.0|(4874,[0,2758,465...|\n",
            "|         Thunderbolt|William Wyler, Jo...|James Stewart, Ll...|Classic Movies, D...| TV-PG|       United States|        1947|   Teenagers|              1.0|              0.0|            3863.0|              120.0|   (3,[1],[1.0])|  (603,[0],[1.0])|(3936,[3863],[1.0])|  (334,[120],[1.0])|   (4874,[0,4466,465...|  1.0|(4874,[0,4466,465...|\n",
            "|     White Christmas|      Michael Curtiz|Bing Crosby, Dann...|Children & Family...|  TV-G|       United States|        1954|      Adults|              0.0|              0.0|            2748.0|              156.0|   (3,[0],[1.0])|  (603,[0],[1.0])|(3936,[2748],[1.0])|  (334,[156],[1.0])|   (4874,[0,3351,469...|  0.0|(4874,[0,3351,469...|\n",
            "|     The Blazing Sun|     Youssef Chahine|Omar Sharif, Fate...|Classic Movies, D...| TV-14|               Egypt|        1954|   Teenagers|              1.0|              5.0|               6.0|               56.0|   (3,[1],[1.0])|  (603,[5],[1.0])|   (3936,[6],[1.0])|   (334,[56],[1.0])|   (4874,[5,609,4595...|  1.0|(4874,[5,609,4595...|\n",
            "|Rebel Without a C...|        Nicholas Ray|James Dean, Natal...|Classic Movies, D...| PG-13|       United States|        1955|   Teenagers|              1.0|              0.0|            2899.0|               68.0|   (3,[1],[1.0])|  (603,[0],[1.0])|(3936,[2899],[1.0])|   (334,[68],[1.0])|   (4874,[0,3502,460...|  1.0|(4874,[0,3502,460...|\n",
            "| Scandal in Sorrento|           Dino Risi|Vittorio De Sica,...|Classic Movies, C...| TV-PG|       Italy, France|        1955|   Teenagers|              1.0|             70.0|             401.0|              193.0|   (3,[1],[1.0])| (603,[70],[1.0])| (3936,[401],[1.0])|  (334,[193],[1.0])|   (4874,[70,1004,47...|  1.0|(4874,[70,1004,47...|\n",
            "|   The Sign of Venus|           Dino Risi|Sophia Loren, Fra...|Classic Movies, C...| TV-14|               Italy|        1955|   Teenagers|              1.0|             25.0|             401.0|              193.0|   (3,[1],[1.0])| (603,[25],[1.0])| (3936,[401],[1.0])|  (334,[193],[1.0])|   (4874,[25,1004,47...|  1.0|(4874,[25,1004,47...|\n",
            "|         Dark Waters|     Youssef Chahine|Faten Hamama, Oma...|Classic Movies, D...| TV-14|               Egypt|        1956|   Teenagers|              1.0|              5.0|               6.0|               56.0|   (3,[1],[1.0])|  (603,[5],[1.0])|   (3936,[6],[1.0])|   (334,[56],[1.0])|   (4874,[5,609,4595...|  1.0|(4874,[5,609,4595...|\n",
            "|    Forbidden Planet|      Fred M. Wilcox|Leslie Nielsen, W...|Action & Adventur...|     G|       United States|        1956|   Teenagers|              1.0|              0.0|            1698.0|              230.0|   (3,[1],[1.0])|  (603,[0],[1.0])|(3936,[1698],[1.0])|  (334,[230],[1.0])|   (4874,[0,2301,476...|  1.0|(4874,[0,2301,476...|\n",
            "|       Cairo Station|     Youssef Chahine|Farid Shawqy, Hin...|Classic Movies, D...| TV-14|               Egypt|        1958|   Teenagers|              1.0|              5.0|               6.0|               56.0|   (3,[1],[1.0])|  (603,[5],[1.0])|   (3936,[6],[1.0])|   (334,[56],[1.0])|   (4874,[5,609,4595...|  1.0|(4874,[5,609,4595...|\n",
            "|Cat on a Hot Tin ...|      Richard Brooks|Elizabeth Taylor,...|Classic Movies, D...|    NR|       United States|        1958|         N/A|              3.0|              0.0|            3222.0|               68.0|       (3,[],[])|  (603,[0],[1.0])|(3936,[3222],[1.0])|   (334,[68],[1.0])|   (4874,[0,3825,460...|  3.0|(4874,[0,3825,460...|\n",
            "|                Gigi|Vincente Minnelli...|Leslie Caron, Mau...|Classic Movies, C...|     G|       United States|        1958|   Teenagers|              1.0|              0.0|            3824.0|              194.0|   (3,[1],[1.0])|  (603,[0],[1.0])|(3936,[3824],[1.0])|  (334,[194],[1.0])|   (4874,[0,4427,473...|  1.0|(4874,[0,4427,473...|\n",
            "|               Ujala|       Naresh Saigal|Mala Sinha, Shamm...|Dramas, Internati...| TV-14|               India|        1959|   Teenagers|              1.0|              1.0|            2871.0|                0.0|   (3,[1],[1.0])|  (603,[1],[1.0])|(3936,[2871],[1.0])|    (334,[0],[1.0])|   (4874,[1,3474,453...|  1.0|(4874,[1,3474,453...|\n",
            "|           Singapore|      Shakti Samanta|Shammi Kapoor, Pa...|Comedies, Dramas,...| TV-PG|     India, Malaysia|        1960|   Teenagers|              1.0|            305.0|             660.0|                2.0|   (3,[1],[1.0])|(603,[305],[1.0])| (3936,[660],[1.0])|    (334,[2],[1.0])|   (4874,[305,1263,4...|  1.0|(4874,[305,1263,4...|\n",
            "|       Butterfield 8|         Daniel Mann|Elizabeth Taylor,...|Classic Movies, D...| TV-14|       United States|        1960|   Teenagers|              1.0|              0.0|            1401.0|              162.0|   (3,[1],[1.0])|  (603,[0],[1.0])|(3936,[1401],[1.0])|  (334,[162],[1.0])|   (4874,[0,2004,470...|  1.0|(4874,[0,2004,470...|\n",
            "|      Ocean's Eleven|     Lewis Milestone|Frank Sinatra, De...|Action & Adventur...| TV-PG|       United States|        1960|   Teenagers|              1.0|              0.0|            2486.0|              135.0|   (3,[1],[1.0])|  (603,[0],[1.0])|(3936,[2486],[1.0])|  (334,[135],[1.0])|   (4874,[0,3089,467...|  1.0|(4874,[0,3089,467...|\n",
            "|The Guns of Navarone|     J. Lee Thompson|Gregory Peck, Dav...|Action & Adventur...| TV-14|United Kingdom, U...|        1961|   Teenagers|              1.0|             13.0|            1953.0|              112.0|   (3,[1],[1.0])| (603,[13],[1.0])|(3936,[1953],[1.0])|  (334,[112],[1.0])|   (4874,[13,2556,46...|  1.0|(4874,[13,2556,46...|\n",
            "+--------------------+--------------------+--------------------+--------------------+------+--------------------+------------+------------+-----------------+-----------------+------------------+-------------------+----------------+-----------------+-------------------+-------------------+-----------------------+-----+--------------------+\n",
            "only showing top 20 rows\n",
            "\n"
          ]
        }
      ]
    },
    {
      "cell_type": "markdown",
      "source": [],
      "metadata": {
        "id": "KUE98rYXTeO6"
      }
    },
    {
      "cell_type": "code",
      "source": [
        "trainpipeline, testpipeline= pipeline_df.randomSplit([0.8, 0.2], seed = 2018)\n",
        "print(\"Training:\" + str(trainpipeline.count()))\n",
        "print(\"Testing:\" + str(testpipeline.count()))"
      ],
      "metadata": {
        "colab": {
          "base_uri": "https://localhost:8080/"
        },
        "id": "ydVQtQaHcifS",
        "outputId": "e05ed29a-700f-46dc-acfc-fc2e7be190d0"
      },
      "execution_count": 106,
      "outputs": [
        {
          "output_type": "stream",
          "name": "stdout",
          "text": [
            "Training:4292\n",
            "Testing:1024\n"
          ]
        }
      ]
    },
    {
      "cell_type": "code",
      "source": [
        "lr=LogisticRegression(featuresCol='features', labelCol='label', maxIter=5)\n",
        "lrModel=lr.fit(trainpipeline)\n",
        "predictionspipeline = lrModel.transform(testpipeline)\n",
        "predictionspipeline.select('label', 'features', 'rawPrediction', 'prediction', 'probability' ).toPandas().head(5)"
      ],
      "metadata": {
        "colab": {
          "base_uri": "https://localhost:8080/",
          "height": 206
        },
        "id": "RnLC708DcwCy",
        "outputId": "2e8c77f1-654e-4d5b-eb0b-c89aea739f67"
      },
      "execution_count": 107,
      "outputs": [
        {
          "output_type": "execute_result",
          "data": {
            "text/plain": [
              "   label                                           features  \\\n",
              "0    0.0  (0.0, 0.0, 0.0, 0.0, 0.0, 0.0, 0.0, 0.0, 0.0, ...   \n",
              "1    1.0  (2.1028977685248162, 0.0, 0.0, 0.0, 0.0, 0.0, ...   \n",
              "2    1.0  (2.1028977685248162, 0.0, 0.0, 0.0, 0.0, 0.0, ...   \n",
              "3    1.0  (0.0, 0.0, 0.0, 0.0, 0.0, 0.0, 0.0, 0.0, 0.0, ...   \n",
              "4    1.0  (0.0, 0.0, 0.0, 0.0, 0.0, 0.0, 0.0, 0.0, 0.0, ...   \n",
              "\n",
              "                                       rawPrediction  prediction  \\\n",
              "0  [2.7966739920552257, 1.0362036439696425, -1.71...         0.0   \n",
              "1  [1.6196192391916213, 1.9423363031701513, -1.47...         1.0   \n",
              "2  [0.5513024980409824, 2.9429496054799955, -1.35...         1.0   \n",
              "3  [4.073586194094901, -0.2376074450211263, -1.52...         0.0   \n",
              "4  [1.7198178217476112, 2.136823399450833, -1.563...         1.0   \n",
              "\n",
              "                                         probability  \n",
              "0  [0.8401296497697716, 0.14447202306579301, 0.00...  \n",
              "1  [0.40804284660263834, 0.5634560011426484, 0.01...  \n",
              "2  [0.08231841204405566, 0.8998624413881202, 0.01...  \n",
              "3  [0.9815349899732081, 0.01316976962840571, 0.00...  \n",
              "4  [0.38865100546530834, 0.5897433017517467, 0.01...  "
            ],
            "text/html": [
              "\n",
              "  <div id=\"df-f8858595-37f2-4f10-8d49-d14a48acbf0a\">\n",
              "    <div class=\"colab-df-container\">\n",
              "      <div>\n",
              "<style scoped>\n",
              "    .dataframe tbody tr th:only-of-type {\n",
              "        vertical-align: middle;\n",
              "    }\n",
              "\n",
              "    .dataframe tbody tr th {\n",
              "        vertical-align: top;\n",
              "    }\n",
              "\n",
              "    .dataframe thead th {\n",
              "        text-align: right;\n",
              "    }\n",
              "</style>\n",
              "<table border=\"1\" class=\"dataframe\">\n",
              "  <thead>\n",
              "    <tr style=\"text-align: right;\">\n",
              "      <th></th>\n",
              "      <th>label</th>\n",
              "      <th>features</th>\n",
              "      <th>rawPrediction</th>\n",
              "      <th>prediction</th>\n",
              "      <th>probability</th>\n",
              "    </tr>\n",
              "  </thead>\n",
              "  <tbody>\n",
              "    <tr>\n",
              "      <th>0</th>\n",
              "      <td>0.0</td>\n",
              "      <td>(0.0, 0.0, 0.0, 0.0, 0.0, 0.0, 0.0, 0.0, 0.0, ...</td>\n",
              "      <td>[2.7966739920552257, 1.0362036439696425, -1.71...</td>\n",
              "      <td>0.0</td>\n",
              "      <td>[0.8401296497697716, 0.14447202306579301, 0.00...</td>\n",
              "    </tr>\n",
              "    <tr>\n",
              "      <th>1</th>\n",
              "      <td>1.0</td>\n",
              "      <td>(2.1028977685248162, 0.0, 0.0, 0.0, 0.0, 0.0, ...</td>\n",
              "      <td>[1.6196192391916213, 1.9423363031701513, -1.47...</td>\n",
              "      <td>1.0</td>\n",
              "      <td>[0.40804284660263834, 0.5634560011426484, 0.01...</td>\n",
              "    </tr>\n",
              "    <tr>\n",
              "      <th>2</th>\n",
              "      <td>1.0</td>\n",
              "      <td>(2.1028977685248162, 0.0, 0.0, 0.0, 0.0, 0.0, ...</td>\n",
              "      <td>[0.5513024980409824, 2.9429496054799955, -1.35...</td>\n",
              "      <td>1.0</td>\n",
              "      <td>[0.08231841204405566, 0.8998624413881202, 0.01...</td>\n",
              "    </tr>\n",
              "    <tr>\n",
              "      <th>3</th>\n",
              "      <td>1.0</td>\n",
              "      <td>(0.0, 0.0, 0.0, 0.0, 0.0, 0.0, 0.0, 0.0, 0.0, ...</td>\n",
              "      <td>[4.073586194094901, -0.2376074450211263, -1.52...</td>\n",
              "      <td>0.0</td>\n",
              "      <td>[0.9815349899732081, 0.01316976962840571, 0.00...</td>\n",
              "    </tr>\n",
              "    <tr>\n",
              "      <th>4</th>\n",
              "      <td>1.0</td>\n",
              "      <td>(0.0, 0.0, 0.0, 0.0, 0.0, 0.0, 0.0, 0.0, 0.0, ...</td>\n",
              "      <td>[1.7198178217476112, 2.136823399450833, -1.563...</td>\n",
              "      <td>1.0</td>\n",
              "      <td>[0.38865100546530834, 0.5897433017517467, 0.01...</td>\n",
              "    </tr>\n",
              "  </tbody>\n",
              "</table>\n",
              "</div>\n",
              "      <button class=\"colab-df-convert\" onclick=\"convertToInteractive('df-f8858595-37f2-4f10-8d49-d14a48acbf0a')\"\n",
              "              title=\"Convert this dataframe to an interactive table.\"\n",
              "              style=\"display:none;\">\n",
              "        \n",
              "  <svg xmlns=\"http://www.w3.org/2000/svg\" height=\"24px\"viewBox=\"0 0 24 24\"\n",
              "       width=\"24px\">\n",
              "    <path d=\"M0 0h24v24H0V0z\" fill=\"none\"/>\n",
              "    <path d=\"M18.56 5.44l.94 2.06.94-2.06 2.06-.94-2.06-.94-.94-2.06-.94 2.06-2.06.94zm-11 1L8.5 8.5l.94-2.06 2.06-.94-2.06-.94L8.5 2.5l-.94 2.06-2.06.94zm10 10l.94 2.06.94-2.06 2.06-.94-2.06-.94-.94-2.06-.94 2.06-2.06.94z\"/><path d=\"M17.41 7.96l-1.37-1.37c-.4-.4-.92-.59-1.43-.59-.52 0-1.04.2-1.43.59L10.3 9.45l-7.72 7.72c-.78.78-.78 2.05 0 2.83L4 21.41c.39.39.9.59 1.41.59.51 0 1.02-.2 1.41-.59l7.78-7.78 2.81-2.81c.8-.78.8-2.07 0-2.86zM5.41 20L4 18.59l7.72-7.72 1.47 1.35L5.41 20z\"/>\n",
              "  </svg>\n",
              "      </button>\n",
              "      \n",
              "  <style>\n",
              "    .colab-df-container {\n",
              "      display:flex;\n",
              "      flex-wrap:wrap;\n",
              "      gap: 12px;\n",
              "    }\n",
              "\n",
              "    .colab-df-convert {\n",
              "      background-color: #E8F0FE;\n",
              "      border: none;\n",
              "      border-radius: 50%;\n",
              "      cursor: pointer;\n",
              "      display: none;\n",
              "      fill: #1967D2;\n",
              "      height: 32px;\n",
              "      padding: 0 0 0 0;\n",
              "      width: 32px;\n",
              "    }\n",
              "\n",
              "    .colab-df-convert:hover {\n",
              "      background-color: #E2EBFA;\n",
              "      box-shadow: 0px 1px 2px rgba(60, 64, 67, 0.3), 0px 1px 3px 1px rgba(60, 64, 67, 0.15);\n",
              "      fill: #174EA6;\n",
              "    }\n",
              "\n",
              "    [theme=dark] .colab-df-convert {\n",
              "      background-color: #3B4455;\n",
              "      fill: #D2E3FC;\n",
              "    }\n",
              "\n",
              "    [theme=dark] .colab-df-convert:hover {\n",
              "      background-color: #434B5C;\n",
              "      box-shadow: 0px 1px 3px 1px rgba(0, 0, 0, 0.15);\n",
              "      filter: drop-shadow(0px 1px 2px rgba(0, 0, 0, 0.3));\n",
              "      fill: #FFFFFF;\n",
              "    }\n",
              "  </style>\n",
              "\n",
              "      <script>\n",
              "        const buttonEl =\n",
              "          document.querySelector('#df-f8858595-37f2-4f10-8d49-d14a48acbf0a button.colab-df-convert');\n",
              "        buttonEl.style.display =\n",
              "          google.colab.kernel.accessAllowed ? 'block' : 'none';\n",
              "\n",
              "        async function convertToInteractive(key) {\n",
              "          const element = document.querySelector('#df-f8858595-37f2-4f10-8d49-d14a48acbf0a');\n",
              "          const dataTable =\n",
              "            await google.colab.kernel.invokeFunction('convertToInteractive',\n",
              "                                                     [key], {});\n",
              "          if (!dataTable) return;\n",
              "\n",
              "          const docLinkHtml = 'Like what you see? Visit the ' +\n",
              "            '<a target=\"_blank\" href=https://colab.research.google.com/notebooks/data_table.ipynb>data table notebook</a>'\n",
              "            + ' to learn more about interactive tables.';\n",
              "          element.innerHTML = '';\n",
              "          dataTable['output_type'] = 'display_data';\n",
              "          await google.colab.output.renderOutput(dataTable, element);\n",
              "          const docLink = document.createElement('div');\n",
              "          docLink.innerHTML = docLinkHtml;\n",
              "          element.appendChild(docLink);\n",
              "        }\n",
              "      </script>\n",
              "    </div>\n",
              "  </div>\n",
              "  "
            ]
          },
          "metadata": {},
          "execution_count": 107
        }
      ]
    },
    {
      "cell_type": "code",
      "source": [
        "accuracy = predictionspipeline.filter(predictionspipeline.label == predictionspipeline.prediction).count()/float(predictionspipeline.count())\n",
        "print(\"Accuracy:\", accuracy)"
      ],
      "metadata": {
        "colab": {
          "base_uri": "https://localhost:8080/"
        },
        "id": "PmfRiRhwdAOX",
        "outputId": "9a80607f-9562-436d-b63c-8d82156679b9"
      },
      "execution_count": 108,
      "outputs": [
        {
          "output_type": "stream",
          "name": "stdout",
          "text": [
            "Accuracy: 0.6767578125\n"
          ]
        }
      ]
    }
  ]
}