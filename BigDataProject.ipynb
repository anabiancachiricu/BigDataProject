{
  "nbformat": 4,
  "nbformat_minor": 0,
  "metadata": {
    "colab": {
      "provenance": [],
      "mount_file_id": "19V_H-gHn2UXcPmaJhmsOxLVbUNFhVgpW",
      "authorship_tag": "ABX9TyOOp/2eml7w7RyolJfavss9",
      "include_colab_link": true
    },
    "kernelspec": {
      "name": "python3",
      "display_name": "Python 3"
    },
    "language_info": {
      "name": "python"
    }
  },
  "cells": [
    {
      "cell_type": "markdown",
      "metadata": {
        "id": "view-in-github",
        "colab_type": "text"
      },
      "source": [
        "<a href=\"https://colab.research.google.com/github/anabiancachiricu/BigDataProject/blob/main/BigDataProject.ipynb\" target=\"_parent\"><img src=\"https://colab.research.google.com/assets/colab-badge.svg\" alt=\"Open In Colab\"/></a>"
      ]
    },
    {
      "cell_type": "markdown",
      "source": [
        "Proiect Big data - Chiricu Ana Bianca, grupa 405"
      ],
      "metadata": {
        "id": "eiXKB1la7Lyp"
      }
    },
    {
      "cell_type": "markdown",
      "source": [
        "1. Introducere\n",
        "\n",
        "Am ales setul de date Netflix Movies and TV Shows care reprezinta o lista cu toate filmele si serialele disponibile pe platforma de streaming Netflix la mmomentul crearii setului de date, impreuna cu detalii despre fiecare, cum ar fi durata, anul lansarii, distributia sau regizorii.\n",
        "\n"
      ],
      "metadata": {
        "id": "3nuN0qxb839I"
      }
    },
    {
      "cell_type": "markdown",
      "source": [
        "Link data set: https://www.kaggle.com/datasets/shivamb/netflix-shows"
      ],
      "metadata": {
        "id": "9mZFA1sz7Z-l"
      }
    },
    {
      "cell_type": "markdown",
      "source": [
        "2."
      ],
      "metadata": {
        "id": "jHMhK4xKAp5I"
      }
    },
    {
      "cell_type": "code",
      "source": [
        "!pip install PySpark"
      ],
      "metadata": {
        "colab": {
          "base_uri": "https://localhost:8080/"
        },
        "id": "53xtZ0r-7ZTv",
        "outputId": "b73e19dc-528e-4be4-81b2-e3cf86a88fd1"
      },
      "execution_count": 5,
      "outputs": [
        {
          "output_type": "stream",
          "name": "stdout",
          "text": [
            "Looking in indexes: https://pypi.org/simple, https://us-python.pkg.dev/colab-wheels/public/simple/\n",
            "Collecting PySpark\n",
            "  Downloading pyspark-3.4.0.tar.gz (310.8 MB)\n",
            "\u001b[2K     \u001b[90m━━━━━━━━━━━━━━━━━━━━━━━━━━━━━━━━━━━━━━━\u001b[0m \u001b[32m310.8/310.8 MB\u001b[0m \u001b[31m4.4 MB/s\u001b[0m eta \u001b[36m0:00:00\u001b[0m\n",
            "\u001b[?25h  Preparing metadata (setup.py) ... \u001b[?25l\u001b[?25hdone\n",
            "Requirement already satisfied: py4j==0.10.9.7 in /usr/local/lib/python3.10/dist-packages (from PySpark) (0.10.9.7)\n",
            "Building wheels for collected packages: PySpark\n",
            "  Building wheel for PySpark (setup.py) ... \u001b[?25l\u001b[?25hdone\n",
            "  Created wheel for PySpark: filename=pyspark-3.4.0-py2.py3-none-any.whl size=311317130 sha256=2519246f42895c3fbfdda9f78020a39ad9acac372da2bf518098ac4dd6a6b286\n",
            "  Stored in directory: /root/.cache/pip/wheels/7b/1b/4b/3363a1d04368e7ff0d408e57ff57966fcdf00583774e761327\n",
            "Successfully built PySpark\n",
            "Installing collected packages: PySpark\n",
            "Successfully installed PySpark-3.4.0\n"
          ]
        }
      ]
    },
    {
      "cell_type": "code",
      "source": [
        "import pyspark\n",
        "from pyspark.sql import SparkSession\n",
        "from pyspark.sql import SQLContext\n",
        "import seaborn as sns\n",
        "import matplotlib.pyplot as plt\n",
        "spark = SparkSession.builder.getOrCreate()"
      ],
      "metadata": {
        "id": "bsHOIWxG7hLL"
      },
      "execution_count": 6,
      "outputs": []
    },
    {
      "cell_type": "code",
      "source": [
        "dataframe = spark.read.csv('sample_data/netflix_titles.csv', inferSchema=True, header=True)\n",
        "dataframe.show(10)"
      ],
      "metadata": {
        "colab": {
          "base_uri": "https://localhost:8080/"
        },
        "id": "aDdk1qgmCdyq",
        "outputId": "138aee97-a1db-4ab8-c7d9-9a05a1be6df6"
      },
      "execution_count": 8,
      "outputs": [
        {
          "output_type": "stream",
          "name": "stdout",
          "text": [
            "+-------+-------+--------------------+--------------------+--------------------+--------------------+------------------+------------+------+---------+--------------------+--------------------+\n",
            "|show_id|   type|               title|            director|                cast|             country|        date_added|release_year|rating| duration|           listed_in|         description|\n",
            "+-------+-------+--------------------+--------------------+--------------------+--------------------+------------------+------------+------+---------+--------------------+--------------------+\n",
            "|     s1|  Movie|Dick Johnson Is Dead|     Kirsten Johnson|                null|       United States|September 25, 2021|        2020| PG-13|   90 min|       Documentaries|As her father nea...|\n",
            "|     s2|TV Show|       Blood & Water|                null|Ama Qamata, Khosi...|        South Africa|September 24, 2021|        2021| TV-MA|2 Seasons|International TV ...|After crossing pa...|\n",
            "|     s3|TV Show|           Ganglands|     Julien Leclercq|Sami Bouajila, Tr...|                null|September 24, 2021|        2021| TV-MA| 1 Season|Crime TV Shows, I...|To protect his fa...|\n",
            "|     s4|TV Show|Jailbirds New Orl...|                null|                null|                null|September 24, 2021|        2021| TV-MA| 1 Season|Docuseries, Reali...|Feuds, flirtation...|\n",
            "|     s5|TV Show|        Kota Factory|                null|Mayur More, Jiten...|               India|September 24, 2021|        2021| TV-MA|2 Seasons|International TV ...|In a city of coac...|\n",
            "|     s6|TV Show|       Midnight Mass|       Mike Flanagan|Kate Siegel, Zach...|                null|September 24, 2021|        2021| TV-MA| 1 Season|TV Dramas, TV Hor...|The arrival of a ...|\n",
            "|     s7|  Movie|My Little Pony: A...|Robert Cullen, Jo...|Vanessa Hudgens, ...|                null|September 24, 2021|        2021|    PG|   91 min|Children & Family...|Equestria's divid...|\n",
            "|     s8|  Movie|             Sankofa|        Haile Gerima|Kofi Ghanaba, Oya...|United States, Gh...|September 24, 2021|        1993| TV-MA|  125 min|Dramas, Independe...|On a photo shoot ...|\n",
            "|     s9|TV Show|The Great British...|     Andy Devonshire|Mel Giedroyc, Sue...|      United Kingdom|September 24, 2021|        2021| TV-14|9 Seasons|British TV Shows,...|A talented batch ...|\n",
            "|    s10|  Movie|        The Starling|      Theodore Melfi|Melissa McCarthy,...|       United States|September 24, 2021|        2021| PG-13|  104 min|    Comedies, Dramas|A woman adjusting...|\n",
            "+-------+-------+--------------------+--------------------+--------------------+--------------------+------------------+------------+------+---------+--------------------+--------------------+\n",
            "only showing top 10 rows\n",
            "\n"
          ]
        }
      ]
    },
    {
      "cell_type": "code",
      "source": [
        "dataframe.printSchema()"
      ],
      "metadata": {
        "colab": {
          "base_uri": "https://localhost:8080/"
        },
        "id": "iLDtzxi6RAH6",
        "outputId": "c9844a94-db88-4855-e292-057df325b201"
      },
      "execution_count": 9,
      "outputs": [
        {
          "output_type": "stream",
          "name": "stdout",
          "text": [
            "root\n",
            " |-- show_id: string (nullable = true)\n",
            " |-- type: string (nullable = true)\n",
            " |-- title: string (nullable = true)\n",
            " |-- director: string (nullable = true)\n",
            " |-- cast: string (nullable = true)\n",
            " |-- country: string (nullable = true)\n",
            " |-- date_added: string (nullable = true)\n",
            " |-- release_year: string (nullable = true)\n",
            " |-- rating: string (nullable = true)\n",
            " |-- duration: string (nullable = true)\n",
            " |-- listed_in: string (nullable = true)\n",
            " |-- description: string (nullable = true)\n",
            "\n"
          ]
        }
      ]
    },
    {
      "cell_type": "code",
      "source": [
        "dataframe.registerTempTable('NetflixTable')"
      ],
      "metadata": {
        "colab": {
          "base_uri": "https://localhost:8080/"
        },
        "id": "YhPmqVgAGcgi",
        "outputId": "b5e78493-0427-430f-8f76-4bc7fa8b951f"
      },
      "execution_count": 10,
      "outputs": [
        {
          "output_type": "stream",
          "name": "stderr",
          "text": [
            "/usr/local/lib/python3.10/dist-packages/pyspark/sql/dataframe.py:330: FutureWarning: Deprecated in 2.0, use createOrReplaceTempView instead.\n",
            "  warnings.warn(\"Deprecated in 2.0, use createOrReplaceTempView instead.\", FutureWarning)\n"
          ]
        }
      ]
    },
    {
      "cell_type": "markdown",
      "source": [
        "Verificarea si eliminarea inregistrarilor care au alt tip in afara de tv show si movie."
      ],
      "metadata": {
        "id": "tkKu8jOvJPoq"
      }
    },
    {
      "cell_type": "code",
      "source": [
        "df2= spark.sql(\"Select distinct (type) from NetflixTable\" )\n",
        "df2.show()"
      ],
      "metadata": {
        "colab": {
          "base_uri": "https://localhost:8080/"
        },
        "id": "QKZIjHn_GKo3",
        "outputId": "9af3129f-3081-478d-abcd-33ee6b23ff25"
      },
      "execution_count": 11,
      "outputs": [
        {
          "output_type": "stream",
          "name": "stdout",
          "text": [
            "+-------------+\n",
            "|         type|\n",
            "+-------------+\n",
            "|         null|\n",
            "|      TV Show|\n",
            "|        Movie|\n",
            "|William Wyler|\n",
            "+-------------+\n",
            "\n"
          ]
        }
      ]
    },
    {
      "cell_type": "code",
      "source": [
        "df3= spark.sql(\"Select * from NetflixTable where type in ('TV Show', 'Movie') \")"
      ],
      "metadata": {
        "id": "JHQbdARNGyWk"
      },
      "execution_count": 12,
      "outputs": []
    },
    {
      "cell_type": "code",
      "source": [
        "df3.show(10)"
      ],
      "metadata": {
        "colab": {
          "base_uri": "https://localhost:8080/"
        },
        "id": "qpEJ8lCUHBPg",
        "outputId": "21b9bc7b-0c27-4ebb-a71d-40c4fc14478e"
      },
      "execution_count": 13,
      "outputs": [
        {
          "output_type": "stream",
          "name": "stdout",
          "text": [
            "+-------+-------+--------------------+--------------------+--------------------+--------------------+------------------+------------+------+---------+--------------------+--------------------+\n",
            "|show_id|   type|               title|            director|                cast|             country|        date_added|release_year|rating| duration|           listed_in|         description|\n",
            "+-------+-------+--------------------+--------------------+--------------------+--------------------+------------------+------------+------+---------+--------------------+--------------------+\n",
            "|     s1|  Movie|Dick Johnson Is Dead|     Kirsten Johnson|                null|       United States|September 25, 2021|        2020| PG-13|   90 min|       Documentaries|As her father nea...|\n",
            "|     s2|TV Show|       Blood & Water|                null|Ama Qamata, Khosi...|        South Africa|September 24, 2021|        2021| TV-MA|2 Seasons|International TV ...|After crossing pa...|\n",
            "|     s3|TV Show|           Ganglands|     Julien Leclercq|Sami Bouajila, Tr...|                null|September 24, 2021|        2021| TV-MA| 1 Season|Crime TV Shows, I...|To protect his fa...|\n",
            "|     s4|TV Show|Jailbirds New Orl...|                null|                null|                null|September 24, 2021|        2021| TV-MA| 1 Season|Docuseries, Reali...|Feuds, flirtation...|\n",
            "|     s5|TV Show|        Kota Factory|                null|Mayur More, Jiten...|               India|September 24, 2021|        2021| TV-MA|2 Seasons|International TV ...|In a city of coac...|\n",
            "|     s6|TV Show|       Midnight Mass|       Mike Flanagan|Kate Siegel, Zach...|                null|September 24, 2021|        2021| TV-MA| 1 Season|TV Dramas, TV Hor...|The arrival of a ...|\n",
            "|     s7|  Movie|My Little Pony: A...|Robert Cullen, Jo...|Vanessa Hudgens, ...|                null|September 24, 2021|        2021|    PG|   91 min|Children & Family...|Equestria's divid...|\n",
            "|     s8|  Movie|             Sankofa|        Haile Gerima|Kofi Ghanaba, Oya...|United States, Gh...|September 24, 2021|        1993| TV-MA|  125 min|Dramas, Independe...|On a photo shoot ...|\n",
            "|     s9|TV Show|The Great British...|     Andy Devonshire|Mel Giedroyc, Sue...|      United Kingdom|September 24, 2021|        2021| TV-14|9 Seasons|British TV Shows,...|A talented batch ...|\n",
            "|    s10|  Movie|        The Starling|      Theodore Melfi|Melissa McCarthy,...|       United States|September 24, 2021|        2021| PG-13|  104 min|    Comedies, Dramas|A woman adjusting...|\n",
            "+-------+-------+--------------------+--------------------+--------------------+--------------------+------------------+------------+------+---------+--------------------+--------------------+\n",
            "only showing top 10 rows\n",
            "\n"
          ]
        }
      ]
    },
    {
      "cell_type": "code",
      "source": [
        "df3.registerTempTable('NetflixTable')"
      ],
      "metadata": {
        "id": "zzzURS0YhwJh"
      },
      "execution_count": 14,
      "outputs": []
    },
    {
      "cell_type": "markdown",
      "source": [
        "Eliminarea inregistrarilor care nu au an de lansare corespunzator."
      ],
      "metadata": {
        "id": "GyalUQG_JeVB"
      }
    },
    {
      "cell_type": "code",
      "source": [
        "df4=spark.sql(\"Select distinct(release_year) from NetflixTable\")\n",
        "df4.show()"
      ],
      "metadata": {
        "colab": {
          "base_uri": "https://localhost:8080/"
        },
        "id": "-Qld5ZYbh5WX",
        "outputId": "ca8b3492-ea56-4cbb-82e9-808069f57f21"
      },
      "execution_count": 15,
      "outputs": [
        {
          "output_type": "stream",
          "name": "stdout",
          "text": [
            "+-----------------+\n",
            "|     release_year|\n",
            "+-----------------+\n",
            "|     Ted Ferguson|\n",
            "|             1987|\n",
            "|             1956|\n",
            "|             2016|\n",
            "|             2020|\n",
            "|             2012|\n",
            "|             1958|\n",
            "|             1943|\n",
            "|             1972|\n",
            "| Marquell Manning|\n",
            "|             1988|\n",
            "|             2019|\n",
            "|             2017|\n",
            "|             1977|\n",
            "|             2014|\n",
            "|             1971|\n",
            "|             1984|\n",
            "|             2013|\n",
            "|             1982|\n",
            "|             2005|\n",
            "+-----------------+\n",
            "only showing top 20 rows\n",
            "\n"
          ]
        }
      ]
    },
    {
      "cell_type": "code",
      "source": [
        "df4= spark.sql(\"Select * from NetflixTable where release_year like ('____') order by release_year \")\n",
        "df4.show()"
      ],
      "metadata": {
        "colab": {
          "base_uri": "https://localhost:8080/"
        },
        "id": "I1LjjHeCHM5b",
        "outputId": "844914ca-214e-4f7c-9615-9437fb73b718"
      },
      "execution_count": 16,
      "outputs": [
        {
          "output_type": "stream",
          "name": "stdout",
          "text": [
            "+-------+-------+--------------------+--------------------+--------------------+--------------------+-----------------+------------+------+--------+--------------------+--------------------+\n",
            "|show_id|   type|               title|            director|                cast|             country|       date_added|release_year|rating|duration|           listed_in|         description|\n",
            "+-------+-------+--------------------+--------------------+--------------------+--------------------+-----------------+------------+------+--------+--------------------+--------------------+\n",
            "|  s4251|TV Show|Pioneers: First W...|                null|                null|                null|December 30, 2018|        1925| TV-14|1 Season|            TV Shows|This collection r...|\n",
            "|  s7791|  Movie|      Prelude to War|         Frank Capra|                null|       United States|   March 31, 2017|        1942| TV-14|  52 min|Classic Movies, D...|Frank Capra's doc...|\n",
            "|  s8206|  Movie|The Battle of Midway|           John Ford|Henry Fonda, Jane...|       United States|   March 31, 2017|        1942| TV-14|  18 min|Classic Movies, D...|Director John For...|\n",
            "|  s8661|  Movie|Undercover: How t...|           John Ford|                null|       United States|   March 31, 2017|        1943| TV-PG|  61 min|Classic Movies, D...|This World War II...|\n",
            "|  s8740|  Movie|Why We Fight: The...|Frank Capra, Anat...|                null|       United States|   March 31, 2017|        1943| TV-PG|  82 min|       Documentaries|This installment ...|\n",
            "|  s8764|  Movie|WWII: Report from...|         John Huston|                null|       United States|   March 31, 2017|        1943| TV-PG|  45 min|       Documentaries|Filmmaker John Hu...|\n",
            "|  s8437|  Movie|   The Negro Soldier|      Stuart Heisler|                null|       United States|   March 31, 2017|        1944| TV-14|  40 min|Classic Movies, D...|This documentary ...|\n",
            "|  s8641|  Movie|    Tunisian Victory|Frank Capra, John...|    Burgess Meredith|United States, Un...|   March 31, 2017|        1944| TV-14|  76 min|Classic Movies, D...|British and Ameri...|\n",
            "|  s1332|TV Show|Five Came Back: T...|                null|                null|       United States| February 9, 2021|        1945| TV-MA|1 Season|            TV Shows|\"This collection ...|\n",
            "|  s7220|  Movie|Know Your Enemy -...|Frank Capra, Jori...|Walter Huston, Da...|       United States|   March 31, 2017|        1945| TV-14|  63 min|Classic Movies, D...|Though culturally...|\n",
            "|  s7576|  Movie|Nazi Concentratio...|      George Stevens|                null|       United States|   March 31, 2017|        1945| TV-MA|  59 min|Classic Movies, D...|Shocking footage ...|\n",
            "|  s7931|  Movie|          San Pietro|         John Huston|                null|       United States|   March 31, 2017|        1945| TV-14|  32 min|Classic Movies, D...|After the Allies ...|\n",
            "|  s7295|  Movie|  Let There Be Light|         John Huston|       Walter Huston|       United States|   March 31, 2017|        1946| TV-PG|  58 min|Classic Movies, D...|Some returning co...|\n",
            "|  s7744|TV Show|Pioneers of Afric...|Oscar Micheaux, S...|                null|       United States| February 1, 2017|        1946| TV-14|1 Season|            TV Shows|This newly preser...|\n",
            "|  s8588|  Movie|         Thunderbolt|William Wyler, Jo...|James Stewart, Ll...|       United States|   March 31, 2017|        1947| TV-PG|  42 min|Classic Movies, D...|A P-47 Thunderbol...|\n",
            "|  s1700|  Movie|     White Christmas|      Michael Curtiz|Bing Crosby, Dann...|       United States|November 15, 2020|        1954|  TV-G| 120 min|Children & Family...|Two war buddies f...|\n",
            "|  s2376|  Movie|     The Blazing Sun|     Youssef Chahine|Omar Sharif, Fate...|               Egypt|    June 18, 2020|        1954| TV-14| 116 min|Classic Movies, D...|Competition betwe...|\n",
            "|  s7840|  Movie|Rebel Without a C...|        Nicholas Ray|James Dean, Natal...|       United States| November 1, 2019|        1955| PG-13| 111 min|Classic Movies, D...|When Jim Stark ar...|\n",
            "|  s7955|  Movie| Scandal in Sorrento|           Dino Risi|Vittorio De Sica,...|       Italy, France|November 13, 2020|        1955| TV-PG|  93 min|Classic Movies, C...|When a marshal mo...|\n",
            "|  s8507|  Movie|   The Sign of Venus|           Dino Risi|Sophia Loren, Fra...|               Italy|November 13, 2020|        1955| TV-14|  97 min|Classic Movies, C...|While suitors swo...|\n",
            "+-------+-------+--------------------+--------------------+--------------------+--------------------+-----------------+------------+------+--------+--------------------+--------------------+\n",
            "only showing top 20 rows\n",
            "\n"
          ]
        }
      ]
    },
    {
      "cell_type": "code",
      "source": [
        "df4.registerTempTable('NetflixTable')"
      ],
      "metadata": {
        "id": "DOXCPhYIK4vl"
      },
      "execution_count": 17,
      "outputs": []
    },
    {
      "cell_type": "markdown",
      "source": [
        "Eliminarea tuturor inregistrarilor care contin date lipsa."
      ],
      "metadata": {
        "id": "WTve4AIJiRBf"
      }
    },
    {
      "cell_type": "code",
      "source": [
        "dfclean= spark.sql(\"Select * from NetflixTable where director is not null and cast is not null and country is not null and date_added is not null and release_year is not null and rating is not null and duration is not null and listed_in is not null and description is not null \")\n",
        "dfclean.show()"
      ],
      "metadata": {
        "colab": {
          "base_uri": "https://localhost:8080/"
        },
        "id": "xx2Gb2gsJshQ",
        "outputId": "2f662bc6-51c1-43e2-b1d6-eba77b723a66"
      },
      "execution_count": 18,
      "outputs": [
        {
          "output_type": "stream",
          "name": "stdout",
          "text": [
            "+-------+-----+--------------------+--------------------+--------------------+--------------------+-----------------+------------+------+--------+--------------------+--------------------+\n",
            "|show_id| type|               title|            director|                cast|             country|       date_added|release_year|rating|duration|           listed_in|         description|\n",
            "+-------+-----+--------------------+--------------------+--------------------+--------------------+-----------------+------------+------+--------+--------------------+--------------------+\n",
            "|  s8206|Movie|The Battle of Midway|           John Ford|Henry Fonda, Jane...|       United States|   March 31, 2017|        1942| TV-14|  18 min|Classic Movies, D...|Director John For...|\n",
            "|  s8641|Movie|    Tunisian Victory|Frank Capra, John...|    Burgess Meredith|United States, Un...|   March 31, 2017|        1944| TV-14|  76 min|Classic Movies, D...|British and Ameri...|\n",
            "|  s7220|Movie|Know Your Enemy -...|Frank Capra, Jori...|Walter Huston, Da...|       United States|   March 31, 2017|        1945| TV-14|  63 min|Classic Movies, D...|Though culturally...|\n",
            "|  s7295|Movie|  Let There Be Light|         John Huston|       Walter Huston|       United States|   March 31, 2017|        1946| TV-PG|  58 min|Classic Movies, D...|Some returning co...|\n",
            "|  s8588|Movie|         Thunderbolt|William Wyler, Jo...|James Stewart, Ll...|       United States|   March 31, 2017|        1947| TV-PG|  42 min|Classic Movies, D...|A P-47 Thunderbol...|\n",
            "|  s1700|Movie|     White Christmas|      Michael Curtiz|Bing Crosby, Dann...|       United States|November 15, 2020|        1954|  TV-G| 120 min|Children & Family...|Two war buddies f...|\n",
            "|  s2376|Movie|     The Blazing Sun|     Youssef Chahine|Omar Sharif, Fate...|               Egypt|    June 18, 2020|        1954| TV-14| 116 min|Classic Movies, D...|Competition betwe...|\n",
            "|  s8507|Movie|   The Sign of Venus|           Dino Risi|Sophia Loren, Fra...|               Italy|November 13, 2020|        1955| TV-14|  97 min|Classic Movies, C...|While suitors swo...|\n",
            "|  s7840|Movie|Rebel Without a C...|        Nicholas Ray|James Dean, Natal...|       United States| November 1, 2019|        1955| PG-13| 111 min|Classic Movies, D...|When Jim Stark ar...|\n",
            "|  s7955|Movie| Scandal in Sorrento|           Dino Risi|Vittorio De Sica,...|       Italy, France|November 13, 2020|        1955| TV-PG|  93 min|Classic Movies, C...|When a marshal mo...|\n",
            "|  s6785|Movie|    Forbidden Planet|      Fred M. Wilcox|Leslie Nielsen, W...|       United States| November 1, 2019|        1956|     G|  98 min|Action & Adventur...|A pulp-fiction sc...|\n",
            "|  s2370|Movie|         Dark Waters|     Youssef Chahine|Faten Hamama, Oma...|               Egypt|    June 18, 2020|        1956| TV-14| 104 min|Classic Movies, D...|A fisherman retur...|\n",
            "|  s6854|Movie|                Gigi|Vincente Minnelli...|Leslie Caron, Mau...|       United States| November 1, 2019|        1958|     G| 115 min|Classic Movies, C...|Gigi's an avant-g...|\n",
            "|  s2369|Movie|       Cairo Station|     Youssef Chahine|Farid Shawqy, Hin...|               Egypt|    June 18, 2020|        1958| TV-14|  73 min|Classic Movies, D...|A Cairo newsstand...|\n",
            "|  s6432|Movie|Cat on a Hot Tin ...|      Richard Brooks|Elizabeth Taylor,...|       United States| November 1, 2019|        1958|    NR| 108 min|Classic Movies, D...|Members of a Sout...|\n",
            "|   s543|Movie|               Ujala|       Naresh Saigal|Mala Sinha, Shamm...|               India|     July 6, 2021|        1959| TV-14| 143 min|Dramas, Internati...|An honest man dre...|\n",
            "|  s5221|Movie|           Singapore|      Shakti Samanta|Shammi Kapoor, Pa...|     India, Malaysia| October 15, 2017|        1960| TV-PG| 158 min|Comedies, Dramas,...|When his employee...|\n",
            "|  s6396|Movie|       Butterfield 8|         Daniel Mann|Elizabeth Taylor,...|       United States| November 1, 2019|        1960| TV-14| 108 min|Classic Movies, D...|Elizabeth Taylor ...|\n",
            "|  s7638|Movie|      Ocean's Eleven|     Lewis Milestone|Frank Sinatra, De...|       United States| November 1, 2019|        1960| TV-PG| 127 min|Action & Adventur...|Frank Sinatra lea...|\n",
            "|   s178|Movie|The Guns of Navarone|     J. Lee Thompson|Gregory Peck, Dav...|United Kingdom, U...|September 1, 2021|        1961| TV-14| 156 min|Action & Adventur...|During World War ...|\n",
            "+-------+-----+--------------------+--------------------+--------------------+--------------------+-----------------+------------+------+--------+--------------------+--------------------+\n",
            "only showing top 20 rows\n",
            "\n"
          ]
        }
      ]
    },
    {
      "cell_type": "code",
      "source": [
        "dfclean.registerTempTable('NetflixTableClean')"
      ],
      "metadata": {
        "id": "1xhVgCTWoseX"
      },
      "execution_count": 19,
      "outputs": []
    },
    {
      "cell_type": "markdown",
      "source": [
        "Calcularea numarului de filme si seriale aparute in fiecare an"
      ],
      "metadata": {
        "id": "KMpjP7Dc9W1G"
      }
    },
    {
      "cell_type": "code",
      "source": [
        "dfmoviesandshowsperyear= spark.sql(\"select release_year, count(show_id),  type from NetflixTableClean group by release_year, type order by release_year\" )\n",
        "dfmoviesandshowsperyear.show()"
      ],
      "metadata": {
        "colab": {
          "base_uri": "https://localhost:8080/"
        },
        "id": "PNfIrCio9dkG",
        "outputId": "75db39e8-47fb-4e8d-9ff6-9d4a5ef8f2b5"
      },
      "execution_count": 20,
      "outputs": [
        {
          "output_type": "stream",
          "name": "stdout",
          "text": [
            "+------------+--------------+-----+\n",
            "|release_year|count(show_id)| type|\n",
            "+------------+--------------+-----+\n",
            "|        1942|             1|Movie|\n",
            "|        1944|             1|Movie|\n",
            "|        1945|             1|Movie|\n",
            "|        1946|             1|Movie|\n",
            "|        1947|             1|Movie|\n",
            "|        1954|             2|Movie|\n",
            "|        1955|             3|Movie|\n",
            "|        1956|             2|Movie|\n",
            "|        1958|             3|Movie|\n",
            "|        1959|             1|Movie|\n",
            "|        1960|             3|Movie|\n",
            "|        1961|             1|Movie|\n",
            "|        1962|             3|Movie|\n",
            "|        1963|             1|Movie|\n",
            "|        1964|             2|Movie|\n",
            "|        1965|             2|Movie|\n",
            "|        1966|             1|Movie|\n",
            "|        1967|             4|Movie|\n",
            "|        1968|             3|Movie|\n",
            "|        1969|             2|Movie|\n",
            "+------------+--------------+-----+\n",
            "only showing top 20 rows\n",
            "\n"
          ]
        }
      ]
    },
    {
      "cell_type": "markdown",
      "source": [
        "Durata medie a filmelor in functie de anul lansarii"
      ],
      "metadata": {
        "id": "UTMdv29CuG_1"
      }
    },
    {
      "cell_type": "code",
      "source": [
        "from pyspark.sql.functions import first\n",
        "from pyspark.sql.functions import split\n",
        "\n",
        "df7 = spark.sql(\"Select type, release_year, duration from NetflixTableClean\")\n",
        "dff = df7.groupBy(\"type\", \"release_year\", \"duration\").agg(split(\"duration\", \" \").getItem(0).alias(\"dur\"))\n",
        "dff.registerTempTable('NetflixMoviesDuration')\n",
        "dfavgDuration=spark.sql(\"Select avg(dur), release_year from NetflixMoviesDuration group by release_year order by release_year\")\n",
        "dfavgDuration.show()"
      ],
      "metadata": {
        "colab": {
          "base_uri": "https://localhost:8080/"
        },
        "id": "3BrfCD_-2b6E",
        "outputId": "06e41328-c14b-4057-82fd-4639cf5b44a5"
      },
      "execution_count": 21,
      "outputs": [
        {
          "output_type": "stream",
          "name": "stdout",
          "text": [
            "+------------------+------------+\n",
            "|          avg(dur)|release_year|\n",
            "+------------------+------------+\n",
            "|              18.0|        1942|\n",
            "|              76.0|        1944|\n",
            "|              63.0|        1945|\n",
            "|              58.0|        1946|\n",
            "|              42.0|        1947|\n",
            "|             118.0|        1954|\n",
            "|100.33333333333333|        1955|\n",
            "|             101.0|        1956|\n",
            "| 98.66666666666667|        1958|\n",
            "|             143.0|        1959|\n",
            "|             131.0|        1960|\n",
            "|             156.0|        1961|\n",
            "|             167.0|        1962|\n",
            "|             194.0|        1963|\n",
            "|             200.5|        1964|\n",
            "|             151.5|        1965|\n",
            "|             116.0|        1966|\n",
            "|            105.25|        1967|\n",
            "|149.66666666666666|        1968|\n",
            "|             140.0|        1969|\n",
            "+------------------+------------+\n",
            "only showing top 20 rows\n",
            "\n"
          ]
        }
      ]
    },
    {
      "cell_type": "markdown",
      "source": [
        "3. Regresie logistica pentru predictia ratingului in functie de tara, catgorie si anul aparitiei."
      ],
      "metadata": {
        "id": "EhhYRmPEZdLO"
      }
    },
    {
      "cell_type": "code",
      "source": [
        "import pyspark.ml\n",
        "from pyspark.ml.feature import StringIndexer, OneHotEncoder, VectorAssembler\n",
        "from pyspark.ml.classification import LogisticRegression"
      ],
      "metadata": {
        "id": "gl4LKnboZgQa"
      },
      "execution_count": 22,
      "outputs": []
    },
    {
      "cell_type": "markdown",
      "source": [
        "Prelucrarea datelor:"
      ],
      "metadata": {
        "id": "20PM5QuagM_s"
      }
    },
    {
      "cell_type": "code",
      "source": [
        "df= spark.sql(\"Select title, director, cast, listed_in, rating, country, cast(release_year as int) from NetflixTableClean\")"
      ],
      "metadata": {
        "id": "0xyYftvPgrjP"
      },
      "execution_count": 23,
      "outputs": []
    },
    {
      "cell_type": "code",
      "source": [
        "display(df)"
      ],
      "metadata": {
        "colab": {
          "base_uri": "https://localhost:8080/",
          "height": 35
        },
        "id": "gHBRAb7MS3Zs",
        "outputId": "9d4d5083-cf2b-4c36-92b0-74fd31352071"
      },
      "execution_count": 24,
      "outputs": [
        {
          "output_type": "display_data",
          "data": {
            "text/plain": [
              "DataFrame[title: string, director: string, cast: string, listed_in: string, rating: string, country: string, release_year: int]"
            ]
          },
          "metadata": {}
        }
      ]
    },
    {
      "cell_type": "markdown",
      "source": [
        "Verificam cate filme si seriale fac parte din fiecare categorie de rating"
      ],
      "metadata": {
        "id": "8oDx2DNCkBMy"
      }
    },
    {
      "cell_type": "code",
      "source": [
        "df.groupby(\"rating\").count().show()"
      ],
      "metadata": {
        "colab": {
          "base_uri": "https://localhost:8080/"
        },
        "id": "209_Jf2bjz5g",
        "outputId": "76c21934-b28a-41a5-c58b-7f7be168b639"
      },
      "execution_count": 25,
      "outputs": [
        {
          "output_type": "stream",
          "name": "stdout",
          "text": [
            "+--------+-----+\n",
            "|  rating|count|\n",
            "+--------+-----+\n",
            "|    TV-Y|   76|\n",
            "|      UR|    3|\n",
            "|      PG|  274|\n",
            "|   TV-MA| 1812|\n",
            "|TV-Y7-FV|    3|\n",
            "|      NR|   58|\n",
            "|   TV-PG|  431|\n",
            "|   NC-17|    2|\n",
            "|       R|  775|\n",
            "|       G|   40|\n",
            "|   TV-14| 1213|\n",
            "|    TV-G|   84|\n",
            "|   TV-Y7|   76|\n",
            "|   PG-13|  469|\n",
            "+--------+-----+\n",
            "\n"
          ]
        }
      ]
    },
    {
      "cell_type": "markdown",
      "source": [
        "Functie definita de utilizator pentru a imparti categoriile de rating in 3 categorii: children, teenagers si adults."
      ],
      "metadata": {
        "id": "3oXMDdqhlXrS"
      }
    },
    {
      "cell_type": "code",
      "source": [
        "from pyspark.sql.functions import udf\n",
        "def udf_content_rating_group(rating):\n",
        "  if rating == \"TV-Y\" or rating == \"TV-Y7\":\n",
        "    return 'Children'\n",
        "  elif rating == \"TV-MA\" or rating == \"NC-17\" or rating == \"R\" or rating == \"TV-G\":\n",
        "    return 'Adults'\n",
        "  elif rating ==\"TV-Y7-FV\" or rating == \"TV-PG\" or rating== \"TV-14\"  or rating == \"PG\" or rating == \"G\" or rating == \"PG-13\":\n",
        "    return 'Teenagers'\n",
        "  else:\n",
        "    return 'N/A'\n",
        "\n",
        "rating_udf= udf(udf_content_rating_group)\n",
        "df=df.withColumn(\"rating_udf\",rating_udf('rating') )\n",
        "df.show()"
      ],
      "metadata": {
        "colab": {
          "base_uri": "https://localhost:8080/"
        },
        "id": "rAZ3otSJkIGV",
        "outputId": "5c20167e-6b58-4a83-e88f-1f6989e508cd"
      },
      "execution_count": 26,
      "outputs": [
        {
          "output_type": "stream",
          "name": "stdout",
          "text": [
            "+--------------------+--------------------+--------------------+--------------------+------+--------------------+------------+----------+\n",
            "|               title|            director|                cast|           listed_in|rating|             country|release_year|rating_udf|\n",
            "+--------------------+--------------------+--------------------+--------------------+------+--------------------+------------+----------+\n",
            "|The Battle of Midway|           John Ford|Henry Fonda, Jane...|Classic Movies, D...| TV-14|       United States|        1942| Teenagers|\n",
            "|    Tunisian Victory|Frank Capra, John...|    Burgess Meredith|Classic Movies, D...| TV-14|United States, Un...|        1944| Teenagers|\n",
            "|Know Your Enemy -...|Frank Capra, Jori...|Walter Huston, Da...|Classic Movies, D...| TV-14|       United States|        1945| Teenagers|\n",
            "|  Let There Be Light|         John Huston|       Walter Huston|Classic Movies, D...| TV-PG|       United States|        1946| Teenagers|\n",
            "|         Thunderbolt|William Wyler, Jo...|James Stewart, Ll...|Classic Movies, D...| TV-PG|       United States|        1947| Teenagers|\n",
            "|     White Christmas|      Michael Curtiz|Bing Crosby, Dann...|Children & Family...|  TV-G|       United States|        1954|    Adults|\n",
            "|     The Blazing Sun|     Youssef Chahine|Omar Sharif, Fate...|Classic Movies, D...| TV-14|               Egypt|        1954| Teenagers|\n",
            "|Rebel Without a C...|        Nicholas Ray|James Dean, Natal...|Classic Movies, D...| PG-13|       United States|        1955| Teenagers|\n",
            "| Scandal in Sorrento|           Dino Risi|Vittorio De Sica,...|Classic Movies, C...| TV-PG|       Italy, France|        1955| Teenagers|\n",
            "|   The Sign of Venus|           Dino Risi|Sophia Loren, Fra...|Classic Movies, C...| TV-14|               Italy|        1955| Teenagers|\n",
            "|         Dark Waters|     Youssef Chahine|Faten Hamama, Oma...|Classic Movies, D...| TV-14|               Egypt|        1956| Teenagers|\n",
            "|    Forbidden Planet|      Fred M. Wilcox|Leslie Nielsen, W...|Action & Adventur...|     G|       United States|        1956| Teenagers|\n",
            "|       Cairo Station|     Youssef Chahine|Farid Shawqy, Hin...|Classic Movies, D...| TV-14|               Egypt|        1958| Teenagers|\n",
            "|Cat on a Hot Tin ...|      Richard Brooks|Elizabeth Taylor,...|Classic Movies, D...|    NR|       United States|        1958|       N/A|\n",
            "|                Gigi|Vincente Minnelli...|Leslie Caron, Mau...|Classic Movies, C...|     G|       United States|        1958| Teenagers|\n",
            "|               Ujala|       Naresh Saigal|Mala Sinha, Shamm...|Dramas, Internati...| TV-14|               India|        1959| Teenagers|\n",
            "|           Singapore|      Shakti Samanta|Shammi Kapoor, Pa...|Comedies, Dramas,...| TV-PG|     India, Malaysia|        1960| Teenagers|\n",
            "|       Butterfield 8|         Daniel Mann|Elizabeth Taylor,...|Classic Movies, D...| TV-14|       United States|        1960| Teenagers|\n",
            "|      Ocean's Eleven|     Lewis Milestone|Frank Sinatra, De...|Action & Adventur...| TV-PG|       United States|        1960| Teenagers|\n",
            "|The Guns of Navarone|     J. Lee Thompson|Gregory Peck, Dav...|Action & Adventur...| TV-14|United Kingdom, U...|        1961| Teenagers|\n",
            "+--------------------+--------------------+--------------------+--------------------+------+--------------------+------------+----------+\n",
            "only showing top 20 rows\n",
            "\n"
          ]
        }
      ]
    },
    {
      "cell_type": "code",
      "source": [
        "stringIndexer=StringIndexer().setInputCol(\"rating_udf\").setOutputCol(\"rating_udfIndex\")\n",
        "rating_udfIndex_model=stringIndexer.fit(df)\n",
        "rating_udfIndex_df = rating_udfIndex_model.transform(df)\n",
        "rating_udfIndex_df.groupby(\"rating_udfIndex\").count().show()"
      ],
      "metadata": {
        "colab": {
          "base_uri": "https://localhost:8080/"
        },
        "id": "RIvNzDY2sr4S",
        "outputId": "16f68d98-95e7-4e34-b924-fda6f609565c"
      },
      "execution_count": 27,
      "outputs": [
        {
          "output_type": "stream",
          "name": "stdout",
          "text": [
            "+---------------+-----+\n",
            "|rating_udfIndex|count|\n",
            "+---------------+-----+\n",
            "|            0.0| 2673|\n",
            "|            1.0| 2430|\n",
            "|            3.0|   61|\n",
            "|            2.0|  152|\n",
            "+---------------+-----+\n",
            "\n"
          ]
        }
      ]
    },
    {
      "cell_type": "markdown",
      "source": [
        "Utilizerea de StringIndexer pentru restul coloanelor: country, director, listed_in"
      ],
      "metadata": {
        "id": "J4-WCcy34mP3"
      }
    },
    {
      "cell_type": "code",
      "source": [
        "stringIndexer=StringIndexer().setInputCol(\"country\").setOutputCol(\"country_indexed\")\n",
        "country_indexed_model=stringIndexer.fit(rating_udfIndex_df)\n",
        "country_indexed_df = country_indexed_model.transform(rating_udfIndex_df)\n",
        "country_indexed_df.groupby(\"country_indexed\").count().show()"
      ],
      "metadata": {
        "colab": {
          "base_uri": "https://localhost:8080/"
        },
        "id": "IIRF35Kl4l6R",
        "outputId": "ba29422d-7cf1-446a-bf33-4a02e311eba1"
      },
      "execution_count": 28,
      "outputs": [
        {
          "output_type": "stream",
          "name": "stdout",
          "text": [
            "+---------------+-----+\n",
            "|country_indexed|count|\n",
            "+---------------+-----+\n",
            "|          305.0|    1|\n",
            "|          558.0|    1|\n",
            "|          596.0|    1|\n",
            "|          496.0|    1|\n",
            "|          299.0|    1|\n",
            "|          576.0|    1|\n",
            "|          147.0|    2|\n",
            "|          184.0|    1|\n",
            "|          170.0|    1|\n",
            "|          160.0|    1|\n",
            "|          169.0|    1|\n",
            "|           70.0|    4|\n",
            "|           67.0|    4|\n",
            "|          571.0|    1|\n",
            "|            8.0|   79|\n",
            "|          486.0|    1|\n",
            "|          379.0|    1|\n",
            "|          311.0|    1|\n",
            "|          168.0|    1|\n",
            "|            0.0| 1836|\n",
            "+---------------+-----+\n",
            "only showing top 20 rows\n",
            "\n"
          ]
        }
      ]
    },
    {
      "cell_type": "code",
      "source": [
        "stringIndexer=StringIndexer().setInputCol(\"director\").setOutputCol(\"director_indexed\")\n",
        "director_indexed_model=stringIndexer.fit(country_indexed_df)\n",
        "director_indexed_df = director_indexed_model.transform(country_indexed_df)\n",
        "director_indexed_df.groupby(\"director_indexed\").count().show()"
      ],
      "metadata": {
        "colab": {
          "base_uri": "https://localhost:8080/"
        },
        "id": "rsuMxAGR5QOC",
        "outputId": "050e6d4c-ee97-4d53-ac06-3b5477cd9fe9"
      },
      "execution_count": 29,
      "outputs": [
        {
          "output_type": "stream",
          "name": "stdout",
          "text": [
            "+----------------+-----+\n",
            "|director_indexed|count|\n",
            "+----------------+-----+\n",
            "|           934.0|    1|\n",
            "|          2734.0|    1|\n",
            "|           596.0|    2|\n",
            "|          1761.0|    1|\n",
            "|           299.0|    2|\n",
            "|           558.0|    2|\n",
            "|          2862.0|    1|\n",
            "|           769.0|    1|\n",
            "|          2815.0|    1|\n",
            "|           305.0|    2|\n",
            "|          1051.0|    1|\n",
            "|          3597.0|    1|\n",
            "|          3901.0|    1|\n",
            "|           692.0|    2|\n",
            "|           496.0|    2|\n",
            "|          3029.0|    1|\n",
            "|           720.0|    2|\n",
            "|           782.0|    1|\n",
            "|           576.0|    2|\n",
            "|          3507.0|    1|\n",
            "+----------------+-----+\n",
            "only showing top 20 rows\n",
            "\n"
          ]
        }
      ]
    },
    {
      "cell_type": "code",
      "source": [
        "stringIndexer=StringIndexer().setInputCol(\"listed_in\").setOutputCol(\"listed_in_indexed\")\n",
        "listed_in_indexed_model=stringIndexer.fit(director_indexed_df)\n",
        "listed_in_indexed_df = listed_in_indexed_model.transform(director_indexed_df)\n",
        "listed_in_indexed_df.groupby(\"listed_in_indexed\").count().show()"
      ],
      "metadata": {
        "colab": {
          "base_uri": "https://localhost:8080/"
        },
        "id": "2B9Cestm5evA",
        "outputId": "8949c69a-06a7-4b85-a66d-e4d52d84aef0"
      },
      "execution_count": 30,
      "outputs": [
        {
          "output_type": "stream",
          "name": "stdout",
          "text": [
            "+-----------------+-----+\n",
            "|listed_in_indexed|count|\n",
            "+-----------------+-----+\n",
            "|            299.0|    1|\n",
            "|            305.0|    1|\n",
            "|            147.0|    4|\n",
            "|            184.0|    2|\n",
            "|            170.0|    3|\n",
            "|            160.0|    3|\n",
            "|            169.0|    3|\n",
            "|             67.0|   11|\n",
            "|              8.0|  143|\n",
            "|             70.0|   11|\n",
            "|            311.0|    1|\n",
            "|            168.0|    3|\n",
            "|              0.0|  335|\n",
            "|             69.0|   11|\n",
            "|            206.0|    2|\n",
            "|              7.0|  152|\n",
            "|            249.0|    1|\n",
            "|            142.0|    4|\n",
            "|            191.0|    2|\n",
            "|            329.0|    1|\n",
            "+-----------------+-----+\n",
            "only showing top 20 rows\n",
            "\n"
          ]
        }
      ]
    },
    {
      "cell_type": "code",
      "source": [
        "listed_in_indexed_df.show()"
      ],
      "metadata": {
        "colab": {
          "base_uri": "https://localhost:8080/"
        },
        "id": "9IUk2BIV7Okj",
        "outputId": "58a6fe02-30f0-4d53-8e42-a4d72e8d6fb6"
      },
      "execution_count": 31,
      "outputs": [
        {
          "output_type": "stream",
          "name": "stdout",
          "text": [
            "+--------------------+--------------------+--------------------+--------------------+------+--------------------+------------+----------+---------------+---------------+----------------+-----------------+\n",
            "|               title|            director|                cast|           listed_in|rating|             country|release_year|rating_udf|rating_udfIndex|country_indexed|director_indexed|listed_in_indexed|\n",
            "+--------------------+--------------------+--------------------+--------------------+------+--------------------+------------+----------+---------------+---------------+----------------+-----------------+\n",
            "|The Battle of Midway|           John Ford|Henry Fonda, Jane...|Classic Movies, D...| TV-14|       United States|        1942| Teenagers|            1.0|            0.0|          2151.0|            120.0|\n",
            "|    Tunisian Victory|Frank Capra, John...|    Burgess Meredith|Classic Movies, D...| TV-14|United States, Un...|        1944| Teenagers|            1.0|           22.0|          1687.0|            120.0|\n",
            "|Know Your Enemy -...|Frank Capra, Jori...|Walter Huston, Da...|Classic Movies, D...| TV-14|       United States|        1945| Teenagers|            1.0|            0.0|          1688.0|            120.0|\n",
            "|  Let There Be Light|         John Huston|       Walter Huston|Classic Movies, D...| TV-PG|       United States|        1946| Teenagers|            1.0|            0.0|          2155.0|            120.0|\n",
            "|         Thunderbolt|William Wyler, Jo...|James Stewart, Ll...|Classic Movies, D...| TV-PG|       United States|        1947| Teenagers|            1.0|            0.0|          3863.0|            120.0|\n",
            "|     White Christmas|      Michael Curtiz|Bing Crosby, Dann...|Children & Family...|  TV-G|       United States|        1954|    Adults|            0.0|            0.0|          2748.0|            156.0|\n",
            "|     The Blazing Sun|     Youssef Chahine|Omar Sharif, Fate...|Classic Movies, D...| TV-14|               Egypt|        1954| Teenagers|            1.0|            5.0|             6.0|             56.0|\n",
            "|Rebel Without a C...|        Nicholas Ray|James Dean, Natal...|Classic Movies, D...| PG-13|       United States|        1955| Teenagers|            1.0|            0.0|          2899.0|             68.0|\n",
            "| Scandal in Sorrento|           Dino Risi|Vittorio De Sica,...|Classic Movies, C...| TV-PG|       Italy, France|        1955| Teenagers|            1.0|           70.0|           401.0|            193.0|\n",
            "|   The Sign of Venus|           Dino Risi|Sophia Loren, Fra...|Classic Movies, C...| TV-14|               Italy|        1955| Teenagers|            1.0|           25.0|           401.0|            193.0|\n",
            "|         Dark Waters|     Youssef Chahine|Faten Hamama, Oma...|Classic Movies, D...| TV-14|               Egypt|        1956| Teenagers|            1.0|            5.0|             6.0|             56.0|\n",
            "|    Forbidden Planet|      Fred M. Wilcox|Leslie Nielsen, W...|Action & Adventur...|     G|       United States|        1956| Teenagers|            1.0|            0.0|          1698.0|            230.0|\n",
            "|       Cairo Station|     Youssef Chahine|Farid Shawqy, Hin...|Classic Movies, D...| TV-14|               Egypt|        1958| Teenagers|            1.0|            5.0|             6.0|             56.0|\n",
            "|Cat on a Hot Tin ...|      Richard Brooks|Elizabeth Taylor,...|Classic Movies, D...|    NR|       United States|        1958|       N/A|            3.0|            0.0|          3222.0|             68.0|\n",
            "|                Gigi|Vincente Minnelli...|Leslie Caron, Mau...|Classic Movies, C...|     G|       United States|        1958| Teenagers|            1.0|            0.0|          3824.0|            194.0|\n",
            "|               Ujala|       Naresh Saigal|Mala Sinha, Shamm...|Dramas, Internati...| TV-14|               India|        1959| Teenagers|            1.0|            1.0|          2871.0|              0.0|\n",
            "|           Singapore|      Shakti Samanta|Shammi Kapoor, Pa...|Comedies, Dramas,...| TV-PG|     India, Malaysia|        1960| Teenagers|            1.0|          305.0|           660.0|              2.0|\n",
            "|       Butterfield 8|         Daniel Mann|Elizabeth Taylor,...|Classic Movies, D...| TV-14|       United States|        1960| Teenagers|            1.0|            0.0|          1401.0|            162.0|\n",
            "|      Ocean's Eleven|     Lewis Milestone|Frank Sinatra, De...|Action & Adventur...| TV-PG|       United States|        1960| Teenagers|            1.0|            0.0|          2486.0|            135.0|\n",
            "|The Guns of Navarone|     J. Lee Thompson|Gregory Peck, Dav...|Action & Adventur...| TV-14|United Kingdom, U...|        1961| Teenagers|            1.0|           13.0|          1953.0|            112.0|\n",
            "+--------------------+--------------------+--------------------+--------------------+------+--------------------+------------+----------+---------------+---------------+----------------+-----------------+\n",
            "only showing top 20 rows\n",
            "\n"
          ]
        }
      ]
    },
    {
      "cell_type": "markdown",
      "source": [
        "Adaugarea oneHotEncoder pentru grupele de rating si pentru titlu, regizor si tara"
      ],
      "metadata": {
        "id": "U4QKJGAuwLUi"
      }
    },
    {
      "cell_type": "code",
      "source": [
        "encoder=OneHotEncoder().setInputCols([\"rating_udfIndex\",\"country_indexed\", \"director_indexed\", \"listed_in_indexed\" ]).setOutputCols([\"rating_encoded\", \"country_encoded\", \"director_encoded\", \"listed_in_encoded\"])\n",
        "encoder_model=encoder.fit(listed_in_indexed_df)\n",
        "encoder_df=encoder_model.transform(listed_in_indexed_df)\n",
        "\n",
        "encoder_df.show()"
      ],
      "metadata": {
        "colab": {
          "base_uri": "https://localhost:8080/"
        },
        "id": "A8yPGRnvwSzO",
        "outputId": "39720603-2213-46c1-c4f2-fa77a4a91507"
      },
      "execution_count": 32,
      "outputs": [
        {
          "output_type": "stream",
          "name": "stdout",
          "text": [
            "+--------------------+--------------------+--------------------+--------------------+------+--------------------+------------+----------+---------------+---------------+----------------+-----------------+--------------+-----------------+-------------------+-----------------+\n",
            "|               title|            director|                cast|           listed_in|rating|             country|release_year|rating_udf|rating_udfIndex|country_indexed|director_indexed|listed_in_indexed|rating_encoded|  country_encoded|   director_encoded|listed_in_encoded|\n",
            "+--------------------+--------------------+--------------------+--------------------+------+--------------------+------------+----------+---------------+---------------+----------------+-----------------+--------------+-----------------+-------------------+-----------------+\n",
            "|The Battle of Midway|           John Ford|Henry Fonda, Jane...|Classic Movies, D...| TV-14|       United States|        1942| Teenagers|            1.0|            0.0|          2151.0|            120.0| (3,[1],[1.0])|  (603,[0],[1.0])|(3936,[2151],[1.0])|(334,[120],[1.0])|\n",
            "|    Tunisian Victory|Frank Capra, John...|    Burgess Meredith|Classic Movies, D...| TV-14|United States, Un...|        1944| Teenagers|            1.0|           22.0|          1687.0|            120.0| (3,[1],[1.0])| (603,[22],[1.0])|(3936,[1687],[1.0])|(334,[120],[1.0])|\n",
            "|Know Your Enemy -...|Frank Capra, Jori...|Walter Huston, Da...|Classic Movies, D...| TV-14|       United States|        1945| Teenagers|            1.0|            0.0|          1688.0|            120.0| (3,[1],[1.0])|  (603,[0],[1.0])|(3936,[1688],[1.0])|(334,[120],[1.0])|\n",
            "|  Let There Be Light|         John Huston|       Walter Huston|Classic Movies, D...| TV-PG|       United States|        1946| Teenagers|            1.0|            0.0|          2155.0|            120.0| (3,[1],[1.0])|  (603,[0],[1.0])|(3936,[2155],[1.0])|(334,[120],[1.0])|\n",
            "|         Thunderbolt|William Wyler, Jo...|James Stewart, Ll...|Classic Movies, D...| TV-PG|       United States|        1947| Teenagers|            1.0|            0.0|          3863.0|            120.0| (3,[1],[1.0])|  (603,[0],[1.0])|(3936,[3863],[1.0])|(334,[120],[1.0])|\n",
            "|     White Christmas|      Michael Curtiz|Bing Crosby, Dann...|Children & Family...|  TV-G|       United States|        1954|    Adults|            0.0|            0.0|          2748.0|            156.0| (3,[0],[1.0])|  (603,[0],[1.0])|(3936,[2748],[1.0])|(334,[156],[1.0])|\n",
            "|     The Blazing Sun|     Youssef Chahine|Omar Sharif, Fate...|Classic Movies, D...| TV-14|               Egypt|        1954| Teenagers|            1.0|            5.0|             6.0|             56.0| (3,[1],[1.0])|  (603,[5],[1.0])|   (3936,[6],[1.0])| (334,[56],[1.0])|\n",
            "|Rebel Without a C...|        Nicholas Ray|James Dean, Natal...|Classic Movies, D...| PG-13|       United States|        1955| Teenagers|            1.0|            0.0|          2899.0|             68.0| (3,[1],[1.0])|  (603,[0],[1.0])|(3936,[2899],[1.0])| (334,[68],[1.0])|\n",
            "| Scandal in Sorrento|           Dino Risi|Vittorio De Sica,...|Classic Movies, C...| TV-PG|       Italy, France|        1955| Teenagers|            1.0|           70.0|           401.0|            193.0| (3,[1],[1.0])| (603,[70],[1.0])| (3936,[401],[1.0])|(334,[193],[1.0])|\n",
            "|   The Sign of Venus|           Dino Risi|Sophia Loren, Fra...|Classic Movies, C...| TV-14|               Italy|        1955| Teenagers|            1.0|           25.0|           401.0|            193.0| (3,[1],[1.0])| (603,[25],[1.0])| (3936,[401],[1.0])|(334,[193],[1.0])|\n",
            "|         Dark Waters|     Youssef Chahine|Faten Hamama, Oma...|Classic Movies, D...| TV-14|               Egypt|        1956| Teenagers|            1.0|            5.0|             6.0|             56.0| (3,[1],[1.0])|  (603,[5],[1.0])|   (3936,[6],[1.0])| (334,[56],[1.0])|\n",
            "|    Forbidden Planet|      Fred M. Wilcox|Leslie Nielsen, W...|Action & Adventur...|     G|       United States|        1956| Teenagers|            1.0|            0.0|          1698.0|            230.0| (3,[1],[1.0])|  (603,[0],[1.0])|(3936,[1698],[1.0])|(334,[230],[1.0])|\n",
            "|       Cairo Station|     Youssef Chahine|Farid Shawqy, Hin...|Classic Movies, D...| TV-14|               Egypt|        1958| Teenagers|            1.0|            5.0|             6.0|             56.0| (3,[1],[1.0])|  (603,[5],[1.0])|   (3936,[6],[1.0])| (334,[56],[1.0])|\n",
            "|Cat on a Hot Tin ...|      Richard Brooks|Elizabeth Taylor,...|Classic Movies, D...|    NR|       United States|        1958|       N/A|            3.0|            0.0|          3222.0|             68.0|     (3,[],[])|  (603,[0],[1.0])|(3936,[3222],[1.0])| (334,[68],[1.0])|\n",
            "|                Gigi|Vincente Minnelli...|Leslie Caron, Mau...|Classic Movies, C...|     G|       United States|        1958| Teenagers|            1.0|            0.0|          3824.0|            194.0| (3,[1],[1.0])|  (603,[0],[1.0])|(3936,[3824],[1.0])|(334,[194],[1.0])|\n",
            "|               Ujala|       Naresh Saigal|Mala Sinha, Shamm...|Dramas, Internati...| TV-14|               India|        1959| Teenagers|            1.0|            1.0|          2871.0|              0.0| (3,[1],[1.0])|  (603,[1],[1.0])|(3936,[2871],[1.0])|  (334,[0],[1.0])|\n",
            "|           Singapore|      Shakti Samanta|Shammi Kapoor, Pa...|Comedies, Dramas,...| TV-PG|     India, Malaysia|        1960| Teenagers|            1.0|          305.0|           660.0|              2.0| (3,[1],[1.0])|(603,[305],[1.0])| (3936,[660],[1.0])|  (334,[2],[1.0])|\n",
            "|       Butterfield 8|         Daniel Mann|Elizabeth Taylor,...|Classic Movies, D...| TV-14|       United States|        1960| Teenagers|            1.0|            0.0|          1401.0|            162.0| (3,[1],[1.0])|  (603,[0],[1.0])|(3936,[1401],[1.0])|(334,[162],[1.0])|\n",
            "|      Ocean's Eleven|     Lewis Milestone|Frank Sinatra, De...|Action & Adventur...| TV-PG|       United States|        1960| Teenagers|            1.0|            0.0|          2486.0|            135.0| (3,[1],[1.0])|  (603,[0],[1.0])|(3936,[2486],[1.0])|(334,[135],[1.0])|\n",
            "|The Guns of Navarone|     J. Lee Thompson|Gregory Peck, Dav...|Action & Adventur...| TV-14|United Kingdom, U...|        1961| Teenagers|            1.0|           13.0|          1953.0|            112.0| (3,[1],[1.0])| (603,[13],[1.0])|(3936,[1953],[1.0])|(334,[112],[1.0])|\n",
            "+--------------------+--------------------+--------------------+--------------------+------+--------------------+------------+----------+---------------+---------------+----------------+-----------------+--------------+-----------------+-------------------+-----------------+\n",
            "only showing top 20 rows\n",
            "\n"
          ]
        }
      ]
    },
    {
      "cell_type": "markdown",
      "source": [
        "Transformarea caracteristiciolr selectate in vector folosind Vector Assembler"
      ],
      "metadata": {
        "id": "9Dlw8NurzGTr"
      }
    },
    {
      "cell_type": "code",
      "source": [
        "assembler=VectorAssembler().setInputCols([ \"country_encoded\", \"director_encoded\", \"listed_in_encoded\",  \"release_year\"]).setOutputCol(\"vectorized_features_out\")\n",
        "assembler_df=assembler.transform(encoder_df)\n",
        "assembler_df.show()"
      ],
      "metadata": {
        "colab": {
          "base_uri": "https://localhost:8080/"
        },
        "id": "jUDk_cyWzFzW",
        "outputId": "60c85100-6cea-493a-831b-97dcfb4e6824"
      },
      "execution_count": 67,
      "outputs": [
        {
          "output_type": "stream",
          "name": "stdout",
          "text": [
            "+--------------------+--------------------+--------------------+--------------------+------+--------------------+------------+----------+---------------+---------------+----------------+-----------------+--------------+-----------------+-------------------+-----------------+-----------------------+\n",
            "|               title|            director|                cast|           listed_in|rating|             country|release_year|rating_udf|rating_udfIndex|country_indexed|director_indexed|listed_in_indexed|rating_encoded|  country_encoded|   director_encoded|listed_in_encoded|vectorized_features_out|\n",
            "+--------------------+--------------------+--------------------+--------------------+------+--------------------+------------+----------+---------------+---------------+----------------+-----------------+--------------+-----------------+-------------------+-----------------+-----------------------+\n",
            "|The Battle of Midway|           John Ford|Henry Fonda, Jane...|Classic Movies, D...| TV-14|       United States|        1942| Teenagers|            1.0|            0.0|          2151.0|            120.0| (3,[1],[1.0])|  (603,[0],[1.0])|(3936,[2151],[1.0])|(334,[120],[1.0])|   (4874,[0,2754,465...|\n",
            "|    Tunisian Victory|Frank Capra, John...|    Burgess Meredith|Classic Movies, D...| TV-14|United States, Un...|        1944| Teenagers|            1.0|           22.0|          1687.0|            120.0| (3,[1],[1.0])| (603,[22],[1.0])|(3936,[1687],[1.0])|(334,[120],[1.0])|   (4874,[22,2290,46...|\n",
            "|Know Your Enemy -...|Frank Capra, Jori...|Walter Huston, Da...|Classic Movies, D...| TV-14|       United States|        1945| Teenagers|            1.0|            0.0|          1688.0|            120.0| (3,[1],[1.0])|  (603,[0],[1.0])|(3936,[1688],[1.0])|(334,[120],[1.0])|   (4874,[0,2291,465...|\n",
            "|  Let There Be Light|         John Huston|       Walter Huston|Classic Movies, D...| TV-PG|       United States|        1946| Teenagers|            1.0|            0.0|          2155.0|            120.0| (3,[1],[1.0])|  (603,[0],[1.0])|(3936,[2155],[1.0])|(334,[120],[1.0])|   (4874,[0,2758,465...|\n",
            "|         Thunderbolt|William Wyler, Jo...|James Stewart, Ll...|Classic Movies, D...| TV-PG|       United States|        1947| Teenagers|            1.0|            0.0|          3863.0|            120.0| (3,[1],[1.0])|  (603,[0],[1.0])|(3936,[3863],[1.0])|(334,[120],[1.0])|   (4874,[0,4466,465...|\n",
            "|     White Christmas|      Michael Curtiz|Bing Crosby, Dann...|Children & Family...|  TV-G|       United States|        1954|    Adults|            0.0|            0.0|          2748.0|            156.0| (3,[0],[1.0])|  (603,[0],[1.0])|(3936,[2748],[1.0])|(334,[156],[1.0])|   (4874,[0,3351,469...|\n",
            "|     The Blazing Sun|     Youssef Chahine|Omar Sharif, Fate...|Classic Movies, D...| TV-14|               Egypt|        1954| Teenagers|            1.0|            5.0|             6.0|             56.0| (3,[1],[1.0])|  (603,[5],[1.0])|   (3936,[6],[1.0])| (334,[56],[1.0])|   (4874,[5,609,4595...|\n",
            "|Rebel Without a C...|        Nicholas Ray|James Dean, Natal...|Classic Movies, D...| PG-13|       United States|        1955| Teenagers|            1.0|            0.0|          2899.0|             68.0| (3,[1],[1.0])|  (603,[0],[1.0])|(3936,[2899],[1.0])| (334,[68],[1.0])|   (4874,[0,3502,460...|\n",
            "| Scandal in Sorrento|           Dino Risi|Vittorio De Sica,...|Classic Movies, C...| TV-PG|       Italy, France|        1955| Teenagers|            1.0|           70.0|           401.0|            193.0| (3,[1],[1.0])| (603,[70],[1.0])| (3936,[401],[1.0])|(334,[193],[1.0])|   (4874,[70,1004,47...|\n",
            "|   The Sign of Venus|           Dino Risi|Sophia Loren, Fra...|Classic Movies, C...| TV-14|               Italy|        1955| Teenagers|            1.0|           25.0|           401.0|            193.0| (3,[1],[1.0])| (603,[25],[1.0])| (3936,[401],[1.0])|(334,[193],[1.0])|   (4874,[25,1004,47...|\n",
            "|         Dark Waters|     Youssef Chahine|Faten Hamama, Oma...|Classic Movies, D...| TV-14|               Egypt|        1956| Teenagers|            1.0|            5.0|             6.0|             56.0| (3,[1],[1.0])|  (603,[5],[1.0])|   (3936,[6],[1.0])| (334,[56],[1.0])|   (4874,[5,609,4595...|\n",
            "|    Forbidden Planet|      Fred M. Wilcox|Leslie Nielsen, W...|Action & Adventur...|     G|       United States|        1956| Teenagers|            1.0|            0.0|          1698.0|            230.0| (3,[1],[1.0])|  (603,[0],[1.0])|(3936,[1698],[1.0])|(334,[230],[1.0])|   (4874,[0,2301,476...|\n",
            "|       Cairo Station|     Youssef Chahine|Farid Shawqy, Hin...|Classic Movies, D...| TV-14|               Egypt|        1958| Teenagers|            1.0|            5.0|             6.0|             56.0| (3,[1],[1.0])|  (603,[5],[1.0])|   (3936,[6],[1.0])| (334,[56],[1.0])|   (4874,[5,609,4595...|\n",
            "|Cat on a Hot Tin ...|      Richard Brooks|Elizabeth Taylor,...|Classic Movies, D...|    NR|       United States|        1958|       N/A|            3.0|            0.0|          3222.0|             68.0|     (3,[],[])|  (603,[0],[1.0])|(3936,[3222],[1.0])| (334,[68],[1.0])|   (4874,[0,3825,460...|\n",
            "|                Gigi|Vincente Minnelli...|Leslie Caron, Mau...|Classic Movies, C...|     G|       United States|        1958| Teenagers|            1.0|            0.0|          3824.0|            194.0| (3,[1],[1.0])|  (603,[0],[1.0])|(3936,[3824],[1.0])|(334,[194],[1.0])|   (4874,[0,4427,473...|\n",
            "|               Ujala|       Naresh Saigal|Mala Sinha, Shamm...|Dramas, Internati...| TV-14|               India|        1959| Teenagers|            1.0|            1.0|          2871.0|              0.0| (3,[1],[1.0])|  (603,[1],[1.0])|(3936,[2871],[1.0])|  (334,[0],[1.0])|   (4874,[1,3474,453...|\n",
            "|           Singapore|      Shakti Samanta|Shammi Kapoor, Pa...|Comedies, Dramas,...| TV-PG|     India, Malaysia|        1960| Teenagers|            1.0|          305.0|           660.0|              2.0| (3,[1],[1.0])|(603,[305],[1.0])| (3936,[660],[1.0])|  (334,[2],[1.0])|   (4874,[305,1263,4...|\n",
            "|       Butterfield 8|         Daniel Mann|Elizabeth Taylor,...|Classic Movies, D...| TV-14|       United States|        1960| Teenagers|            1.0|            0.0|          1401.0|            162.0| (3,[1],[1.0])|  (603,[0],[1.0])|(3936,[1401],[1.0])|(334,[162],[1.0])|   (4874,[0,2004,470...|\n",
            "|      Ocean's Eleven|     Lewis Milestone|Frank Sinatra, De...|Action & Adventur...| TV-PG|       United States|        1960| Teenagers|            1.0|            0.0|          2486.0|            135.0| (3,[1],[1.0])|  (603,[0],[1.0])|(3936,[2486],[1.0])|(334,[135],[1.0])|   (4874,[0,3089,467...|\n",
            "|The Guns of Navarone|     J. Lee Thompson|Gregory Peck, Dav...|Action & Adventur...| TV-14|United Kingdom, U...|        1961| Teenagers|            1.0|           13.0|          1953.0|            112.0| (3,[1],[1.0])| (603,[13],[1.0])|(3936,[1953],[1.0])|(334,[112],[1.0])|   (4874,[13,2556,46...|\n",
            "+--------------------+--------------------+--------------------+--------------------+------+--------------------+------------+----------+---------------+---------------+----------------+-----------------+--------------+-----------------+-------------------+-----------------+-----------------------+\n",
            "only showing top 20 rows\n",
            "\n"
          ]
        }
      ]
    },
    {
      "cell_type": "markdown",
      "source": [
        "Adaugarea de labels"
      ],
      "metadata": {
        "id": "Bi6BXDdFICbu"
      }
    },
    {
      "cell_type": "code",
      "source": [
        "label_indexer = StringIndexer().setInputCol(\"rating_udfIndex\").setOutputCol(\"label\")\n",
        "label_indexer_model = label_indexer.fit(assembler_df)\n",
        "label_indexer_df= label_indexer_model.transform(assembler_df)\n",
        "\n",
        "label_indexer_df.show()"
      ],
      "metadata": {
        "colab": {
          "base_uri": "https://localhost:8080/"
        },
        "id": "0RuZqeDiICGM",
        "outputId": "c72d1f35-dc9a-41b7-8511-a06597c6c3b6"
      },
      "execution_count": 68,
      "outputs": [
        {
          "output_type": "stream",
          "name": "stdout",
          "text": [
            "+--------------------+--------------------+--------------------+--------------------+------+--------------------+------------+----------+---------------+---------------+----------------+-----------------+--------------+-----------------+-------------------+-----------------+-----------------------+-----+\n",
            "|               title|            director|                cast|           listed_in|rating|             country|release_year|rating_udf|rating_udfIndex|country_indexed|director_indexed|listed_in_indexed|rating_encoded|  country_encoded|   director_encoded|listed_in_encoded|vectorized_features_out|label|\n",
            "+--------------------+--------------------+--------------------+--------------------+------+--------------------+------------+----------+---------------+---------------+----------------+-----------------+--------------+-----------------+-------------------+-----------------+-----------------------+-----+\n",
            "|The Battle of Midway|           John Ford|Henry Fonda, Jane...|Classic Movies, D...| TV-14|       United States|        1942| Teenagers|            1.0|            0.0|          2151.0|            120.0| (3,[1],[1.0])|  (603,[0],[1.0])|(3936,[2151],[1.0])|(334,[120],[1.0])|   (4874,[0,2754,465...|  1.0|\n",
            "|    Tunisian Victory|Frank Capra, John...|    Burgess Meredith|Classic Movies, D...| TV-14|United States, Un...|        1944| Teenagers|            1.0|           22.0|          1687.0|            120.0| (3,[1],[1.0])| (603,[22],[1.0])|(3936,[1687],[1.0])|(334,[120],[1.0])|   (4874,[22,2290,46...|  1.0|\n",
            "|Know Your Enemy -...|Frank Capra, Jori...|Walter Huston, Da...|Classic Movies, D...| TV-14|       United States|        1945| Teenagers|            1.0|            0.0|          1688.0|            120.0| (3,[1],[1.0])|  (603,[0],[1.0])|(3936,[1688],[1.0])|(334,[120],[1.0])|   (4874,[0,2291,465...|  1.0|\n",
            "|  Let There Be Light|         John Huston|       Walter Huston|Classic Movies, D...| TV-PG|       United States|        1946| Teenagers|            1.0|            0.0|          2155.0|            120.0| (3,[1],[1.0])|  (603,[0],[1.0])|(3936,[2155],[1.0])|(334,[120],[1.0])|   (4874,[0,2758,465...|  1.0|\n",
            "|         Thunderbolt|William Wyler, Jo...|James Stewart, Ll...|Classic Movies, D...| TV-PG|       United States|        1947| Teenagers|            1.0|            0.0|          3863.0|            120.0| (3,[1],[1.0])|  (603,[0],[1.0])|(3936,[3863],[1.0])|(334,[120],[1.0])|   (4874,[0,4466,465...|  1.0|\n",
            "|     White Christmas|      Michael Curtiz|Bing Crosby, Dann...|Children & Family...|  TV-G|       United States|        1954|    Adults|            0.0|            0.0|          2748.0|            156.0| (3,[0],[1.0])|  (603,[0],[1.0])|(3936,[2748],[1.0])|(334,[156],[1.0])|   (4874,[0,3351,469...|  0.0|\n",
            "|     The Blazing Sun|     Youssef Chahine|Omar Sharif, Fate...|Classic Movies, D...| TV-14|               Egypt|        1954| Teenagers|            1.0|            5.0|             6.0|             56.0| (3,[1],[1.0])|  (603,[5],[1.0])|   (3936,[6],[1.0])| (334,[56],[1.0])|   (4874,[5,609,4595...|  1.0|\n",
            "|Rebel Without a C...|        Nicholas Ray|James Dean, Natal...|Classic Movies, D...| PG-13|       United States|        1955| Teenagers|            1.0|            0.0|          2899.0|             68.0| (3,[1],[1.0])|  (603,[0],[1.0])|(3936,[2899],[1.0])| (334,[68],[1.0])|   (4874,[0,3502,460...|  1.0|\n",
            "| Scandal in Sorrento|           Dino Risi|Vittorio De Sica,...|Classic Movies, C...| TV-PG|       Italy, France|        1955| Teenagers|            1.0|           70.0|           401.0|            193.0| (3,[1],[1.0])| (603,[70],[1.0])| (3936,[401],[1.0])|(334,[193],[1.0])|   (4874,[70,1004,47...|  1.0|\n",
            "|   The Sign of Venus|           Dino Risi|Sophia Loren, Fra...|Classic Movies, C...| TV-14|               Italy|        1955| Teenagers|            1.0|           25.0|           401.0|            193.0| (3,[1],[1.0])| (603,[25],[1.0])| (3936,[401],[1.0])|(334,[193],[1.0])|   (4874,[25,1004,47...|  1.0|\n",
            "|         Dark Waters|     Youssef Chahine|Faten Hamama, Oma...|Classic Movies, D...| TV-14|               Egypt|        1956| Teenagers|            1.0|            5.0|             6.0|             56.0| (3,[1],[1.0])|  (603,[5],[1.0])|   (3936,[6],[1.0])| (334,[56],[1.0])|   (4874,[5,609,4595...|  1.0|\n",
            "|    Forbidden Planet|      Fred M. Wilcox|Leslie Nielsen, W...|Action & Adventur...|     G|       United States|        1956| Teenagers|            1.0|            0.0|          1698.0|            230.0| (3,[1],[1.0])|  (603,[0],[1.0])|(3936,[1698],[1.0])|(334,[230],[1.0])|   (4874,[0,2301,476...|  1.0|\n",
            "|       Cairo Station|     Youssef Chahine|Farid Shawqy, Hin...|Classic Movies, D...| TV-14|               Egypt|        1958| Teenagers|            1.0|            5.0|             6.0|             56.0| (3,[1],[1.0])|  (603,[5],[1.0])|   (3936,[6],[1.0])| (334,[56],[1.0])|   (4874,[5,609,4595...|  1.0|\n",
            "|Cat on a Hot Tin ...|      Richard Brooks|Elizabeth Taylor,...|Classic Movies, D...|    NR|       United States|        1958|       N/A|            3.0|            0.0|          3222.0|             68.0|     (3,[],[])|  (603,[0],[1.0])|(3936,[3222],[1.0])| (334,[68],[1.0])|   (4874,[0,3825,460...|  3.0|\n",
            "|                Gigi|Vincente Minnelli...|Leslie Caron, Mau...|Classic Movies, C...|     G|       United States|        1958| Teenagers|            1.0|            0.0|          3824.0|            194.0| (3,[1],[1.0])|  (603,[0],[1.0])|(3936,[3824],[1.0])|(334,[194],[1.0])|   (4874,[0,4427,473...|  1.0|\n",
            "|               Ujala|       Naresh Saigal|Mala Sinha, Shamm...|Dramas, Internati...| TV-14|               India|        1959| Teenagers|            1.0|            1.0|          2871.0|              0.0| (3,[1],[1.0])|  (603,[1],[1.0])|(3936,[2871],[1.0])|  (334,[0],[1.0])|   (4874,[1,3474,453...|  1.0|\n",
            "|           Singapore|      Shakti Samanta|Shammi Kapoor, Pa...|Comedies, Dramas,...| TV-PG|     India, Malaysia|        1960| Teenagers|            1.0|          305.0|           660.0|              2.0| (3,[1],[1.0])|(603,[305],[1.0])| (3936,[660],[1.0])|  (334,[2],[1.0])|   (4874,[305,1263,4...|  1.0|\n",
            "|       Butterfield 8|         Daniel Mann|Elizabeth Taylor,...|Classic Movies, D...| TV-14|       United States|        1960| Teenagers|            1.0|            0.0|          1401.0|            162.0| (3,[1],[1.0])|  (603,[0],[1.0])|(3936,[1401],[1.0])|(334,[162],[1.0])|   (4874,[0,2004,470...|  1.0|\n",
            "|      Ocean's Eleven|     Lewis Milestone|Frank Sinatra, De...|Action & Adventur...| TV-PG|       United States|        1960| Teenagers|            1.0|            0.0|          2486.0|            135.0| (3,[1],[1.0])|  (603,[0],[1.0])|(3936,[2486],[1.0])|(334,[135],[1.0])|   (4874,[0,3089,467...|  1.0|\n",
            "|The Guns of Navarone|     J. Lee Thompson|Gregory Peck, Dav...|Action & Adventur...| TV-14|United Kingdom, U...|        1961| Teenagers|            1.0|           13.0|          1953.0|            112.0| (3,[1],[1.0])| (603,[13],[1.0])|(3936,[1953],[1.0])|(334,[112],[1.0])|   (4874,[13,2556,46...|  1.0|\n",
            "+--------------------+--------------------+--------------------+--------------------+------+--------------------+------------+----------+---------------+---------------+----------------+-----------------+--------------+-----------------+-------------------+-----------------+-----------------------+-----+\n",
            "only showing top 20 rows\n",
            "\n"
          ]
        }
      ]
    },
    {
      "cell_type": "code",
      "source": [
        "from pyspark.ml.feature import StandardScaler"
      ],
      "metadata": {
        "id": "SHZuWKBv_W6w"
      },
      "execution_count": 34,
      "outputs": []
    },
    {
      "cell_type": "code",
      "source": [
        "scaler=StandardScaler()\n",
        "scaler.setInputCol(\"vectorized_features_out\")\n",
        "scaler.setOutputCol(\"features\")\n",
        "scaler_model=scaler.fit(label_indexer_df)\n",
        "scaler_df=scaler_model.transform(label_indexer_df)\n",
        "scaler_df.show()"
      ],
      "metadata": {
        "colab": {
          "base_uri": "https://localhost:8080/"
        },
        "id": "D4ougvR4y5i6",
        "outputId": "debe5aa1-02c8-4ef2-f144-df41081e5751"
      },
      "execution_count": 69,
      "outputs": [
        {
          "output_type": "stream",
          "name": "stdout",
          "text": [
            "+--------------------+--------------------+--------------------+--------------------+------+--------------------+------------+----------+---------------+---------------+----------------+-----------------+--------------+-----------------+-------------------+-----------------+-----------------------+-----+--------------------+\n",
            "|               title|            director|                cast|           listed_in|rating|             country|release_year|rating_udf|rating_udfIndex|country_indexed|director_indexed|listed_in_indexed|rating_encoded|  country_encoded|   director_encoded|listed_in_encoded|vectorized_features_out|label|            features|\n",
            "+--------------------+--------------------+--------------------+--------------------+------+--------------------+------------+----------+---------------+---------------+----------------+-----------------+--------------+-----------------+-------------------+-----------------+-----------------------+-----+--------------------+\n",
            "|The Battle of Midway|           John Ford|Henry Fonda, Jane...|Classic Movies, D...| TV-14|       United States|        1942| Teenagers|            1.0|            0.0|          2151.0|            120.0| (3,[1],[1.0])|  (603,[0],[1.0])|(3936,[2151],[1.0])|(334,[120],[1.0])|   (4874,[0,2754,465...|  1.0|(4874,[0,2754,465...|\n",
            "|    Tunisian Victory|Frank Capra, John...|    Burgess Meredith|Classic Movies, D...| TV-14|United States, Un...|        1944| Teenagers|            1.0|           22.0|          1687.0|            120.0| (3,[1],[1.0])| (603,[22],[1.0])|(3936,[1687],[1.0])|(334,[120],[1.0])|   (4874,[22,2290,46...|  1.0|(4874,[22,2290,46...|\n",
            "|Know Your Enemy -...|Frank Capra, Jori...|Walter Huston, Da...|Classic Movies, D...| TV-14|       United States|        1945| Teenagers|            1.0|            0.0|          1688.0|            120.0| (3,[1],[1.0])|  (603,[0],[1.0])|(3936,[1688],[1.0])|(334,[120],[1.0])|   (4874,[0,2291,465...|  1.0|(4874,[0,2291,465...|\n",
            "|  Let There Be Light|         John Huston|       Walter Huston|Classic Movies, D...| TV-PG|       United States|        1946| Teenagers|            1.0|            0.0|          2155.0|            120.0| (3,[1],[1.0])|  (603,[0],[1.0])|(3936,[2155],[1.0])|(334,[120],[1.0])|   (4874,[0,2758,465...|  1.0|(4874,[0,2758,465...|\n",
            "|         Thunderbolt|William Wyler, Jo...|James Stewart, Ll...|Classic Movies, D...| TV-PG|       United States|        1947| Teenagers|            1.0|            0.0|          3863.0|            120.0| (3,[1],[1.0])|  (603,[0],[1.0])|(3936,[3863],[1.0])|(334,[120],[1.0])|   (4874,[0,4466,465...|  1.0|(4874,[0,4466,465...|\n",
            "|     White Christmas|      Michael Curtiz|Bing Crosby, Dann...|Children & Family...|  TV-G|       United States|        1954|    Adults|            0.0|            0.0|          2748.0|            156.0| (3,[0],[1.0])|  (603,[0],[1.0])|(3936,[2748],[1.0])|(334,[156],[1.0])|   (4874,[0,3351,469...|  0.0|(4874,[0,3351,469...|\n",
            "|     The Blazing Sun|     Youssef Chahine|Omar Sharif, Fate...|Classic Movies, D...| TV-14|               Egypt|        1954| Teenagers|            1.0|            5.0|             6.0|             56.0| (3,[1],[1.0])|  (603,[5],[1.0])|   (3936,[6],[1.0])| (334,[56],[1.0])|   (4874,[5,609,4595...|  1.0|(4874,[5,609,4595...|\n",
            "|Rebel Without a C...|        Nicholas Ray|James Dean, Natal...|Classic Movies, D...| PG-13|       United States|        1955| Teenagers|            1.0|            0.0|          2899.0|             68.0| (3,[1],[1.0])|  (603,[0],[1.0])|(3936,[2899],[1.0])| (334,[68],[1.0])|   (4874,[0,3502,460...|  1.0|(4874,[0,3502,460...|\n",
            "| Scandal in Sorrento|           Dino Risi|Vittorio De Sica,...|Classic Movies, C...| TV-PG|       Italy, France|        1955| Teenagers|            1.0|           70.0|           401.0|            193.0| (3,[1],[1.0])| (603,[70],[1.0])| (3936,[401],[1.0])|(334,[193],[1.0])|   (4874,[70,1004,47...|  1.0|(4874,[70,1004,47...|\n",
            "|   The Sign of Venus|           Dino Risi|Sophia Loren, Fra...|Classic Movies, C...| TV-14|               Italy|        1955| Teenagers|            1.0|           25.0|           401.0|            193.0| (3,[1],[1.0])| (603,[25],[1.0])| (3936,[401],[1.0])|(334,[193],[1.0])|   (4874,[25,1004,47...|  1.0|(4874,[25,1004,47...|\n",
            "|         Dark Waters|     Youssef Chahine|Faten Hamama, Oma...|Classic Movies, D...| TV-14|               Egypt|        1956| Teenagers|            1.0|            5.0|             6.0|             56.0| (3,[1],[1.0])|  (603,[5],[1.0])|   (3936,[6],[1.0])| (334,[56],[1.0])|   (4874,[5,609,4595...|  1.0|(4874,[5,609,4595...|\n",
            "|    Forbidden Planet|      Fred M. Wilcox|Leslie Nielsen, W...|Action & Adventur...|     G|       United States|        1956| Teenagers|            1.0|            0.0|          1698.0|            230.0| (3,[1],[1.0])|  (603,[0],[1.0])|(3936,[1698],[1.0])|(334,[230],[1.0])|   (4874,[0,2301,476...|  1.0|(4874,[0,2301,476...|\n",
            "|       Cairo Station|     Youssef Chahine|Farid Shawqy, Hin...|Classic Movies, D...| TV-14|               Egypt|        1958| Teenagers|            1.0|            5.0|             6.0|             56.0| (3,[1],[1.0])|  (603,[5],[1.0])|   (3936,[6],[1.0])| (334,[56],[1.0])|   (4874,[5,609,4595...|  1.0|(4874,[5,609,4595...|\n",
            "|Cat on a Hot Tin ...|      Richard Brooks|Elizabeth Taylor,...|Classic Movies, D...|    NR|       United States|        1958|       N/A|            3.0|            0.0|          3222.0|             68.0|     (3,[],[])|  (603,[0],[1.0])|(3936,[3222],[1.0])| (334,[68],[1.0])|   (4874,[0,3825,460...|  3.0|(4874,[0,3825,460...|\n",
            "|                Gigi|Vincente Minnelli...|Leslie Caron, Mau...|Classic Movies, C...|     G|       United States|        1958| Teenagers|            1.0|            0.0|          3824.0|            194.0| (3,[1],[1.0])|  (603,[0],[1.0])|(3936,[3824],[1.0])|(334,[194],[1.0])|   (4874,[0,4427,473...|  1.0|(4874,[0,4427,473...|\n",
            "|               Ujala|       Naresh Saigal|Mala Sinha, Shamm...|Dramas, Internati...| TV-14|               India|        1959| Teenagers|            1.0|            1.0|          2871.0|              0.0| (3,[1],[1.0])|  (603,[1],[1.0])|(3936,[2871],[1.0])|  (334,[0],[1.0])|   (4874,[1,3474,453...|  1.0|(4874,[1,3474,453...|\n",
            "|           Singapore|      Shakti Samanta|Shammi Kapoor, Pa...|Comedies, Dramas,...| TV-PG|     India, Malaysia|        1960| Teenagers|            1.0|          305.0|           660.0|              2.0| (3,[1],[1.0])|(603,[305],[1.0])| (3936,[660],[1.0])|  (334,[2],[1.0])|   (4874,[305,1263,4...|  1.0|(4874,[305,1263,4...|\n",
            "|       Butterfield 8|         Daniel Mann|Elizabeth Taylor,...|Classic Movies, D...| TV-14|       United States|        1960| Teenagers|            1.0|            0.0|          1401.0|            162.0| (3,[1],[1.0])|  (603,[0],[1.0])|(3936,[1401],[1.0])|(334,[162],[1.0])|   (4874,[0,2004,470...|  1.0|(4874,[0,2004,470...|\n",
            "|      Ocean's Eleven|     Lewis Milestone|Frank Sinatra, De...|Action & Adventur...| TV-PG|       United States|        1960| Teenagers|            1.0|            0.0|          2486.0|            135.0| (3,[1],[1.0])|  (603,[0],[1.0])|(3936,[2486],[1.0])|(334,[135],[1.0])|   (4874,[0,3089,467...|  1.0|(4874,[0,3089,467...|\n",
            "|The Guns of Navarone|     J. Lee Thompson|Gregory Peck, Dav...|Action & Adventur...| TV-14|United Kingdom, U...|        1961| Teenagers|            1.0|           13.0|          1953.0|            112.0| (3,[1],[1.0])| (603,[13],[1.0])|(3936,[1953],[1.0])|(334,[112],[1.0])|   (4874,[13,2556,46...|  1.0|(4874,[13,2556,46...|\n",
            "+--------------------+--------------------+--------------------+--------------------+------+--------------------+------------+----------+---------------+---------------+----------------+-----------------+--------------+-----------------+-------------------+-----------------+-----------------------+-----+--------------------+\n",
            "only showing top 20 rows\n",
            "\n"
          ]
        }
      ]
    },
    {
      "cell_type": "markdown",
      "source": [
        "Imparrtirea setului de date in test si train"
      ],
      "metadata": {
        "id": "3MC9J59cJR0C"
      }
    },
    {
      "cell_type": "code",
      "source": [
        "train, test= scaler_df.randomSplit([0.8, 0.2], seed = 2018)\n",
        "print(\"Training:\" + str(train.count()))\n",
        "print(\"Testing:\" + str(test.count()))\n"
      ],
      "metadata": {
        "colab": {
          "base_uri": "https://localhost:8080/"
        },
        "id": "UocwfMWzJQ2Y",
        "outputId": "34400893-fd6e-4a7e-8cfe-16ee56741d09"
      },
      "execution_count": 70,
      "outputs": [
        {
          "output_type": "stream",
          "name": "stdout",
          "text": [
            "Training:4292\n",
            "Testing:1024\n"
          ]
        }
      ]
    },
    {
      "cell_type": "code",
      "source": [
        "train.groupby(\"rating_udf\").count().show()"
      ],
      "metadata": {
        "colab": {
          "base_uri": "https://localhost:8080/"
        },
        "id": "LJOfDzRwJ-pH",
        "outputId": "4fbb5555-26e3-4b1a-d6a5-ad2464785a14"
      },
      "execution_count": 71,
      "outputs": [
        {
          "output_type": "stream",
          "name": "stdout",
          "text": [
            "+----------+-----+\n",
            "|rating_udf|count|\n",
            "+----------+-----+\n",
            "| Teenagers| 1959|\n",
            "|       N/A|   51|\n",
            "|  Children|  126|\n",
            "|    Adults| 2156|\n",
            "+----------+-----+\n",
            "\n"
          ]
        }
      ]
    },
    {
      "cell_type": "markdown",
      "source": [
        "Antrenarea modelului:"
      ],
      "metadata": {
        "id": "Q8rF_624KbJn"
      }
    },
    {
      "cell_type": "code",
      "source": [
        "from pyspark.ml.classification import LogisticRegression"
      ],
      "metadata": {
        "id": "leesBX16Kdrv"
      },
      "execution_count": 53,
      "outputs": []
    },
    {
      "cell_type": "code",
      "source": [
        "lr=LogisticRegression(featuresCol='features', labelCol='label', maxIter=5)\n",
        "lrModel=lr.fit(train)\n",
        "predictions = lrModel.transform(test)\n",
        "predictions.select('label', 'features', 'rawPrediction', 'prediction', 'probability' ).toPandas().head(5)"
      ],
      "metadata": {
        "colab": {
          "base_uri": "https://localhost:8080/",
          "height": 206
        },
        "id": "93XgO1UCKojj",
        "outputId": "b23028da-e96e-4601-dae7-c1d2764a8e2c"
      },
      "execution_count": 72,
      "outputs": [
        {
          "output_type": "execute_result",
          "data": {
            "text/plain": [
              "   label                                           features  \\\n",
              "0    0.0  (0.0, 0.0, 0.0, 0.0, 0.0, 0.0, 0.0, 0.0, 0.0, ...   \n",
              "1    1.0  (2.1028977685248162, 0.0, 0.0, 0.0, 0.0, 0.0, ...   \n",
              "2    1.0  (2.1028977685248162, 0.0, 0.0, 0.0, 0.0, 0.0, ...   \n",
              "3    1.0  (0.0, 0.0, 0.0, 0.0, 0.0, 0.0, 0.0, 0.0, 0.0, ...   \n",
              "4    1.0  (0.0, 0.0, 0.0, 0.0, 0.0, 0.0, 0.0, 0.0, 0.0, ...   \n",
              "\n",
              "                                       rawPrediction  prediction  \\\n",
              "0  [2.7966739920552257, 1.0362036439696425, -1.71...         0.0   \n",
              "1  [1.6196192391916213, 1.9423363031701513, -1.47...         1.0   \n",
              "2  [0.5513024980409824, 2.9429496054799955, -1.35...         1.0   \n",
              "3  [4.073586194094901, -0.2376074450211263, -1.52...         0.0   \n",
              "4  [1.7198178217476112, 2.136823399450833, -1.563...         1.0   \n",
              "\n",
              "                                         probability  \n",
              "0  [0.8401296497697716, 0.14447202306579301, 0.00...  \n",
              "1  [0.40804284660263834, 0.5634560011426484, 0.01...  \n",
              "2  [0.08231841204405566, 0.8998624413881202, 0.01...  \n",
              "3  [0.9815349899732081, 0.01316976962840571, 0.00...  \n",
              "4  [0.38865100546530834, 0.5897433017517467, 0.01...  "
            ],
            "text/html": [
              "\n",
              "  <div id=\"df-1d989a63-db75-4399-82d0-e8ac7c874068\">\n",
              "    <div class=\"colab-df-container\">\n",
              "      <div>\n",
              "<style scoped>\n",
              "    .dataframe tbody tr th:only-of-type {\n",
              "        vertical-align: middle;\n",
              "    }\n",
              "\n",
              "    .dataframe tbody tr th {\n",
              "        vertical-align: top;\n",
              "    }\n",
              "\n",
              "    .dataframe thead th {\n",
              "        text-align: right;\n",
              "    }\n",
              "</style>\n",
              "<table border=\"1\" class=\"dataframe\">\n",
              "  <thead>\n",
              "    <tr style=\"text-align: right;\">\n",
              "      <th></th>\n",
              "      <th>label</th>\n",
              "      <th>features</th>\n",
              "      <th>rawPrediction</th>\n",
              "      <th>prediction</th>\n",
              "      <th>probability</th>\n",
              "    </tr>\n",
              "  </thead>\n",
              "  <tbody>\n",
              "    <tr>\n",
              "      <th>0</th>\n",
              "      <td>0.0</td>\n",
              "      <td>(0.0, 0.0, 0.0, 0.0, 0.0, 0.0, 0.0, 0.0, 0.0, ...</td>\n",
              "      <td>[2.7966739920552257, 1.0362036439696425, -1.71...</td>\n",
              "      <td>0.0</td>\n",
              "      <td>[0.8401296497697716, 0.14447202306579301, 0.00...</td>\n",
              "    </tr>\n",
              "    <tr>\n",
              "      <th>1</th>\n",
              "      <td>1.0</td>\n",
              "      <td>(2.1028977685248162, 0.0, 0.0, 0.0, 0.0, 0.0, ...</td>\n",
              "      <td>[1.6196192391916213, 1.9423363031701513, -1.47...</td>\n",
              "      <td>1.0</td>\n",
              "      <td>[0.40804284660263834, 0.5634560011426484, 0.01...</td>\n",
              "    </tr>\n",
              "    <tr>\n",
              "      <th>2</th>\n",
              "      <td>1.0</td>\n",
              "      <td>(2.1028977685248162, 0.0, 0.0, 0.0, 0.0, 0.0, ...</td>\n",
              "      <td>[0.5513024980409824, 2.9429496054799955, -1.35...</td>\n",
              "      <td>1.0</td>\n",
              "      <td>[0.08231841204405566, 0.8998624413881202, 0.01...</td>\n",
              "    </tr>\n",
              "    <tr>\n",
              "      <th>3</th>\n",
              "      <td>1.0</td>\n",
              "      <td>(0.0, 0.0, 0.0, 0.0, 0.0, 0.0, 0.0, 0.0, 0.0, ...</td>\n",
              "      <td>[4.073586194094901, -0.2376074450211263, -1.52...</td>\n",
              "      <td>0.0</td>\n",
              "      <td>[0.9815349899732081, 0.01316976962840571, 0.00...</td>\n",
              "    </tr>\n",
              "    <tr>\n",
              "      <th>4</th>\n",
              "      <td>1.0</td>\n",
              "      <td>(0.0, 0.0, 0.0, 0.0, 0.0, 0.0, 0.0, 0.0, 0.0, ...</td>\n",
              "      <td>[1.7198178217476112, 2.136823399450833, -1.563...</td>\n",
              "      <td>1.0</td>\n",
              "      <td>[0.38865100546530834, 0.5897433017517467, 0.01...</td>\n",
              "    </tr>\n",
              "  </tbody>\n",
              "</table>\n",
              "</div>\n",
              "      <button class=\"colab-df-convert\" onclick=\"convertToInteractive('df-1d989a63-db75-4399-82d0-e8ac7c874068')\"\n",
              "              title=\"Convert this dataframe to an interactive table.\"\n",
              "              style=\"display:none;\">\n",
              "        \n",
              "  <svg xmlns=\"http://www.w3.org/2000/svg\" height=\"24px\"viewBox=\"0 0 24 24\"\n",
              "       width=\"24px\">\n",
              "    <path d=\"M0 0h24v24H0V0z\" fill=\"none\"/>\n",
              "    <path d=\"M18.56 5.44l.94 2.06.94-2.06 2.06-.94-2.06-.94-.94-2.06-.94 2.06-2.06.94zm-11 1L8.5 8.5l.94-2.06 2.06-.94-2.06-.94L8.5 2.5l-.94 2.06-2.06.94zm10 10l.94 2.06.94-2.06 2.06-.94-2.06-.94-.94-2.06-.94 2.06-2.06.94z\"/><path d=\"M17.41 7.96l-1.37-1.37c-.4-.4-.92-.59-1.43-.59-.52 0-1.04.2-1.43.59L10.3 9.45l-7.72 7.72c-.78.78-.78 2.05 0 2.83L4 21.41c.39.39.9.59 1.41.59.51 0 1.02-.2 1.41-.59l7.78-7.78 2.81-2.81c.8-.78.8-2.07 0-2.86zM5.41 20L4 18.59l7.72-7.72 1.47 1.35L5.41 20z\"/>\n",
              "  </svg>\n",
              "      </button>\n",
              "      \n",
              "  <style>\n",
              "    .colab-df-container {\n",
              "      display:flex;\n",
              "      flex-wrap:wrap;\n",
              "      gap: 12px;\n",
              "    }\n",
              "\n",
              "    .colab-df-convert {\n",
              "      background-color: #E8F0FE;\n",
              "      border: none;\n",
              "      border-radius: 50%;\n",
              "      cursor: pointer;\n",
              "      display: none;\n",
              "      fill: #1967D2;\n",
              "      height: 32px;\n",
              "      padding: 0 0 0 0;\n",
              "      width: 32px;\n",
              "    }\n",
              "\n",
              "    .colab-df-convert:hover {\n",
              "      background-color: #E2EBFA;\n",
              "      box-shadow: 0px 1px 2px rgba(60, 64, 67, 0.3), 0px 1px 3px 1px rgba(60, 64, 67, 0.15);\n",
              "      fill: #174EA6;\n",
              "    }\n",
              "\n",
              "    [theme=dark] .colab-df-convert {\n",
              "      background-color: #3B4455;\n",
              "      fill: #D2E3FC;\n",
              "    }\n",
              "\n",
              "    [theme=dark] .colab-df-convert:hover {\n",
              "      background-color: #434B5C;\n",
              "      box-shadow: 0px 1px 3px 1px rgba(0, 0, 0, 0.15);\n",
              "      filter: drop-shadow(0px 1px 2px rgba(0, 0, 0, 0.3));\n",
              "      fill: #FFFFFF;\n",
              "    }\n",
              "  </style>\n",
              "\n",
              "      <script>\n",
              "        const buttonEl =\n",
              "          document.querySelector('#df-1d989a63-db75-4399-82d0-e8ac7c874068 button.colab-df-convert');\n",
              "        buttonEl.style.display =\n",
              "          google.colab.kernel.accessAllowed ? 'block' : 'none';\n",
              "\n",
              "        async function convertToInteractive(key) {\n",
              "          const element = document.querySelector('#df-1d989a63-db75-4399-82d0-e8ac7c874068');\n",
              "          const dataTable =\n",
              "            await google.colab.kernel.invokeFunction('convertToInteractive',\n",
              "                                                     [key], {});\n",
              "          if (!dataTable) return;\n",
              "\n",
              "          const docLinkHtml = 'Like what you see? Visit the ' +\n",
              "            '<a target=\"_blank\" href=https://colab.research.google.com/notebooks/data_table.ipynb>data table notebook</a>'\n",
              "            + ' to learn more about interactive tables.';\n",
              "          element.innerHTML = '';\n",
              "          dataTable['output_type'] = 'display_data';\n",
              "          await google.colab.output.renderOutput(dataTable, element);\n",
              "          const docLink = document.createElement('div');\n",
              "          docLink.innerHTML = docLinkHtml;\n",
              "          element.appendChild(docLink);\n",
              "        }\n",
              "      </script>\n",
              "    </div>\n",
              "  </div>\n",
              "  "
            ]
          },
          "metadata": {},
          "execution_count": 72
        }
      ]
    },
    {
      "cell_type": "markdown",
      "source": [
        "Calcularea acuratetii\n"
      ],
      "metadata": {
        "id": "oAHUeUVpMp_-"
      }
    },
    {
      "cell_type": "code",
      "source": [
        "accuracy = predictions.filter(predictions.label == predictions.prediction).count()/float(predictions.count())\n",
        "print(\"Accuracy:\", accuracy)"
      ],
      "metadata": {
        "colab": {
          "base_uri": "https://localhost:8080/"
        },
        "id": "UX2svkzAMt_O",
        "outputId": "9f8332ce-223f-4804-99f3-ce6a8bce8454"
      },
      "execution_count": 73,
      "outputs": [
        {
          "output_type": "stream",
          "name": "stdout",
          "text": [
            "Accuracy: 0.6767578125\n"
          ]
        }
      ]
    },
    {
      "cell_type": "markdown",
      "source": [
        "4. Adaugarea unui pipeline"
      ],
      "metadata": {
        "id": "bFWfxiNiDm64"
      }
    },
    {
      "cell_type": "code",
      "source": [],
      "metadata": {
        "id": "GwJrxx0KMpeA"
      },
      "execution_count": null,
      "outputs": []
    },
    {
      "cell_type": "code",
      "source": [
        "from pyspark.ml import Pipeline\n"
      ],
      "metadata": {
        "id": "0Rtg-Ju4Dpu4"
      },
      "execution_count": 37,
      "outputs": []
    }
  ]
}